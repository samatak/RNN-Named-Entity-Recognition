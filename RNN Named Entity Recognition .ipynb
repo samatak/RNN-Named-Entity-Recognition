{
 "cells": [
  {
   "cell_type": "markdown",
   "metadata": {},
   "source": [
    "# Named Entity Recognition Challenge</div>"
   ]
  },
  {
   "cell_type": "markdown",
   "metadata": {},
   "source": [
    "Named entity recognition (NER) seeks to locate and classify named entities present in unstructured text into predefined categories such as organizations, locations, expressions of times, names of persons, etc. This technique is often used in real use cases such as classifying content for news providers, efficient search algorithms over large corpora and content-based recommendation systems. \n",
    "\n",
    "This represents an interesting \"many-to-many\" problem, allowing us to experiment with recurrent architectures and compare their performances against other models.\n"
   ]
  },
  {
   "cell_type": "code",
   "execution_count": 1,
   "metadata": {},
   "outputs": [],
   "source": [
    "import pandas as pd\n",
    "import numpy as np\n",
    "\n",
    "from sklearn.metrics import f1_score, confusion_matrix\n",
    "from sklearn.model_selection import train_test_split\n",
    "from sklearn.decomposition import PCA\n",
    "\n",
    "\n",
    "import matplotlib.pyplot as plt\n",
    "plt.style.use(\"ggplot\")\n"
   ]
  },
  {
   "cell_type": "code",
   "execution_count": 2,
   "metadata": {},
   "outputs": [
    {
     "name": "stderr",
     "output_type": "stream",
     "text": [
      "Using TensorFlow backend.\n"
     ]
    },
    {
     "name": "stdout",
     "output_type": "stream",
     "text": [
      "2.2.4\n",
      "1.12.0\n"
     ]
    }
   ],
   "source": [
    "import keras\n",
    "import tensorflow as tf\n",
    "\n",
    "from keras.preprocessing.sequence import pad_sequences\n",
    "from keras.utils import to_categorical,np_utils\n",
    "from keras import backend\n",
    "\n",
    "from keras.models import Model, Input, Sequential,model_from_json\n",
    "from keras.layers import SimpleRNN, Embedding, Dense, TimeDistributed, GRU, \\\n",
    "                         Dropout, Bidirectional, Conv1D, BatchNormalization\n",
    "from keras.preprocessing import sequence\n",
    "\n",
    "print(keras.__version__)\n",
    "print(tf.__version__)"
   ]
  },
  {
   "cell_type": "code",
   "execution_count": 3,
   "metadata": {},
   "outputs": [],
   "source": [
    "# Set seed for repeatable results\n",
    "np.random.seed(123)\n",
    "tf.set_random_seed(456)"
   ]
  },
  {
   "cell_type": "markdown",
   "metadata": {},
   "source": [
    "## Data Processing"
   ]
  },
  {
   "cell_type": "markdown",
   "metadata": {},
   "source": [
    "We have a dataset with sentences (```Sentence #``` column), each composed of words (```Word``` column) with part-of-speech tagging (```POS``` tagging) and inside–outside–beginning (IOB) named entity tags (```Tag``` column) attached. ```POS``` will not be used for this homework. We will predict ```Tag``` using only the words themselves.\n",
    "\n",
    "Essential info about entities:\n",
    "* geo = Geographical Entity\n",
    "* org = Organization\n",
    "* per = Person\n",
    "* gpe = Geopolitical Entity\n",
    "* tim = Time indicator\n",
    "* art = Artifact\n",
    "* eve = Event\n",
    "* nat = Natural Phenomenon\n",
    "\n",
    "IOB prefix:\n",
    "* B: beginning of named entity\n",
    "* I: inside of named entity\n",
    "* O: outside of named entity"
   ]
  },
  {
   "cell_type": "code",
   "execution_count": 4,
   "metadata": {},
   "outputs": [
    {
     "data": {
      "text/html": [
       "<div>\n",
       "<style scoped>\n",
       "    .dataframe tbody tr th:only-of-type {\n",
       "        vertical-align: middle;\n",
       "    }\n",
       "\n",
       "    .dataframe tbody tr th {\n",
       "        vertical-align: top;\n",
       "    }\n",
       "\n",
       "    .dataframe thead th {\n",
       "        text-align: right;\n",
       "    }\n",
       "</style>\n",
       "<table border=\"1\" class=\"dataframe\">\n",
       "  <thead>\n",
       "    <tr style=\"text-align: right;\">\n",
       "      <th></th>\n",
       "      <th>Sentence #</th>\n",
       "      <th>Word</th>\n",
       "      <th>POS</th>\n",
       "      <th>Tag</th>\n",
       "    </tr>\n",
       "  </thead>\n",
       "  <tbody>\n",
       "    <tr>\n",
       "      <th>0</th>\n",
       "      <td>Sentence: 1</td>\n",
       "      <td>Thousands</td>\n",
       "      <td>NNS</td>\n",
       "      <td>O</td>\n",
       "    </tr>\n",
       "    <tr>\n",
       "      <th>1</th>\n",
       "      <td>Sentence: 1</td>\n",
       "      <td>of</td>\n",
       "      <td>IN</td>\n",
       "      <td>O</td>\n",
       "    </tr>\n",
       "    <tr>\n",
       "      <th>2</th>\n",
       "      <td>Sentence: 1</td>\n",
       "      <td>demonstrators</td>\n",
       "      <td>NNS</td>\n",
       "      <td>O</td>\n",
       "    </tr>\n",
       "    <tr>\n",
       "      <th>3</th>\n",
       "      <td>Sentence: 1</td>\n",
       "      <td>have</td>\n",
       "      <td>VBP</td>\n",
       "      <td>O</td>\n",
       "    </tr>\n",
       "    <tr>\n",
       "      <th>4</th>\n",
       "      <td>Sentence: 1</td>\n",
       "      <td>marched</td>\n",
       "      <td>VBN</td>\n",
       "      <td>O</td>\n",
       "    </tr>\n",
       "    <tr>\n",
       "      <th>5</th>\n",
       "      <td>Sentence: 1</td>\n",
       "      <td>through</td>\n",
       "      <td>IN</td>\n",
       "      <td>O</td>\n",
       "    </tr>\n",
       "    <tr>\n",
       "      <th>6</th>\n",
       "      <td>Sentence: 1</td>\n",
       "      <td>London</td>\n",
       "      <td>NNP</td>\n",
       "      <td>B-geo</td>\n",
       "    </tr>\n",
       "    <tr>\n",
       "      <th>7</th>\n",
       "      <td>Sentence: 1</td>\n",
       "      <td>to</td>\n",
       "      <td>TO</td>\n",
       "      <td>O</td>\n",
       "    </tr>\n",
       "    <tr>\n",
       "      <th>8</th>\n",
       "      <td>Sentence: 1</td>\n",
       "      <td>protest</td>\n",
       "      <td>VB</td>\n",
       "      <td>O</td>\n",
       "    </tr>\n",
       "    <tr>\n",
       "      <th>9</th>\n",
       "      <td>Sentence: 1</td>\n",
       "      <td>the</td>\n",
       "      <td>DT</td>\n",
       "      <td>O</td>\n",
       "    </tr>\n",
       "    <tr>\n",
       "      <th>10</th>\n",
       "      <td>Sentence: 1</td>\n",
       "      <td>war</td>\n",
       "      <td>NN</td>\n",
       "      <td>O</td>\n",
       "    </tr>\n",
       "    <tr>\n",
       "      <th>11</th>\n",
       "      <td>Sentence: 1</td>\n",
       "      <td>in</td>\n",
       "      <td>IN</td>\n",
       "      <td>O</td>\n",
       "    </tr>\n",
       "    <tr>\n",
       "      <th>12</th>\n",
       "      <td>Sentence: 1</td>\n",
       "      <td>Iraq</td>\n",
       "      <td>NNP</td>\n",
       "      <td>B-geo</td>\n",
       "    </tr>\n",
       "    <tr>\n",
       "      <th>13</th>\n",
       "      <td>Sentence: 1</td>\n",
       "      <td>and</td>\n",
       "      <td>CC</td>\n",
       "      <td>O</td>\n",
       "    </tr>\n",
       "    <tr>\n",
       "      <th>14</th>\n",
       "      <td>Sentence: 1</td>\n",
       "      <td>demand</td>\n",
       "      <td>VB</td>\n",
       "      <td>O</td>\n",
       "    </tr>\n",
       "  </tbody>\n",
       "</table>\n",
       "</div>"
      ],
      "text/plain": [
       "     Sentence #           Word  POS    Tag\n",
       "0   Sentence: 1      Thousands  NNS      O\n",
       "1   Sentence: 1             of   IN      O\n",
       "2   Sentence: 1  demonstrators  NNS      O\n",
       "3   Sentence: 1           have  VBP      O\n",
       "4   Sentence: 1        marched  VBN      O\n",
       "5   Sentence: 1        through   IN      O\n",
       "6   Sentence: 1         London  NNP  B-geo\n",
       "7   Sentence: 1             to   TO      O\n",
       "8   Sentence: 1        protest   VB      O\n",
       "9   Sentence: 1            the   DT      O\n",
       "10  Sentence: 1            war   NN      O\n",
       "11  Sentence: 1             in   IN      O\n",
       "12  Sentence: 1           Iraq  NNP  B-geo\n",
       "13  Sentence: 1            and   CC      O\n",
       "14  Sentence: 1         demand   VB      O"
      ]
     },
     "execution_count": 4,
     "metadata": {},
     "output_type": "execute_result"
    }
   ],
   "source": [
    "# Given code\n",
    "path_dataset = 'NER_data.csv'\n",
    "data = pd.read_csv(path_dataset, encoding=\"latin1\")\n",
    "data = data.fillna(method=\"ffill\")\n",
    "data.head(15)"
   ]
  },
  {
   "cell_type": "code",
   "execution_count": 5,
   "metadata": {},
   "outputs": [],
   "source": [
    "# list of unique words sorted in alphabetical order with \"ENDPAD\" appended\n",
    "words = np.sort(data.Word.unique()).tolist()\n",
    "words.append(\"ENDPAD\") \n",
    "# count of unique words\n",
    "n_words = len(words)"
   ]
  },
  {
   "cell_type": "code",
   "execution_count": 6,
   "metadata": {},
   "outputs": [],
   "source": [
    "# list of unique words sorted in alphabetical order with \"ENDPAD\" appended\n",
    "tags = np.sort(data.Tag.unique()).tolist()\n",
    "tags.append(\"PAD\")\n",
    "# count of unique words\n",
    "n_tags = len(tags)"
   ]
  },
  {
   "cell_type": "code",
   "execution_count": 7,
   "metadata": {},
   "outputs": [],
   "source": [
    "# Process data into a list of sentences, each sentence is a list of (word, tag) tuples\n",
    "sentence_lst = []\n",
    "grouped = data.groupby('Sentence #')\n",
    "for name, group in grouped:\n",
    "    sentence_lst.append(list(zip(group['Word'], group['Tag'])))"
   ]
  },
  {
   "cell_type": "code",
   "execution_count": 8,
   "metadata": {},
   "outputs": [],
   "source": [
    "max_len=data['Sentence #'].value_counts().max()"
   ]
  },
  {
   "cell_type": "code",
   "execution_count": 9,
   "metadata": {},
   "outputs": [
    {
     "name": "stdout",
     "output_type": "stream",
     "text": [
      "104\n"
     ]
    }
   ],
   "source": [
    "# Run this cell to show your results #\n",
    "print(max_len)"
   ]
  },
  {
   "cell_type": "code",
   "execution_count": 10,
   "metadata": {},
   "outputs": [
    {
     "name": "stdout",
     "output_type": "stream",
     "text": [
      "[('Thousands', 'O'), ('of', 'O'), ('demonstrators', 'O'), ('have', 'O'), ('marched', 'O'), ('through', 'O'), ('London', 'B-geo'), ('to', 'O'), ('protest', 'O'), ('the', 'O'), ('war', 'O'), ('in', 'O'), ('Iraq', 'B-geo'), ('and', 'O'), ('demand', 'O'), ('the', 'O'), ('withdrawal', 'O'), ('of', 'O'), ('British', 'B-gpe'), ('troops', 'O'), ('from', 'O'), ('that', 'O'), ('country', 'O'), ('.', 'O')]\n",
      "[('Iranian', 'B-gpe'), ('officials', 'O'), ('say', 'O'), ('they', 'O'), ('expect', 'O'), ('to', 'O'), ('get', 'O'), ('access', 'O'), ('to', 'O'), ('sealed', 'O'), ('sensitive', 'O'), ('parts', 'O'), ('of', 'O'), ('the', 'O'), ('plant', 'O'), ('Wednesday', 'B-tim'), (',', 'O'), ('after', 'O'), ('an', 'O'), ('IAEA', 'B-org'), ('surveillance', 'O'), ('system', 'O'), ('begins', 'O'), ('functioning', 'O'), ('.', 'O')]\n"
     ]
    }
   ],
   "source": [
    "# print first 2 sentences as 'word, tag' tuple\n",
    "for i in range(len(sentence_lst[0:2])):\n",
    "    print(sentence_lst[i])"
   ]
  },
  {
   "cell_type": "code",
   "execution_count": 11,
   "metadata": {},
   "outputs": [],
   "source": [
    "# create word2idx and idx2word dictionaries with mapping distinct words to integers\n",
    "word2idx = {}\n",
    "idx2word = {}\n",
    "for i, item in enumerate(words):\n",
    "    word2idx[item] = i\n",
    "    idx2word[i] = item  "
   ]
  },
  {
   "cell_type": "code",
   "execution_count": 12,
   "metadata": {},
   "outputs": [],
   "source": [
    "data['word_idx']=data['Word'].map(word2idx)\n",
    "lst1=data.groupby('Sentence #')['word_idx'].apply(list)\n",
    "lst2=lst1.tolist()"
   ]
  },
  {
   "cell_type": "code",
   "execution_count": 13,
   "metadata": {},
   "outputs": [
    {
     "data": {
      "text/plain": [
       "35178"
      ]
     },
     "execution_count": 13,
     "metadata": {},
     "output_type": "execute_result"
    }
   ],
   "source": [
    "word2idx['ENDPAD']"
   ]
  },
  {
   "cell_type": "code",
   "execution_count": 14,
   "metadata": {},
   "outputs": [],
   "source": [
    "X = sequence.pad_sequences(lst2, maxlen=max_len,padding='post',value=word2idx['ENDPAD'])"
   ]
  },
  {
   "cell_type": "code",
   "execution_count": 15,
   "metadata": {},
   "outputs": [
    {
     "name": "stdout",
     "output_type": "stream",
     "text": [
      "The index of word 'Harvard' is: 7506\n",
      "\n",
      "Sentence 1: [ 8193 27727 31033 33289 22577 33464 23723 16665 33464 31142 31319 28267\n",
      " 27700 33246 28646 16052    21 16915 17349  7924 32879 32985 18238 23555\n",
      "    24 35178 35178 35178 35178 35178 35178 35178 35178 35178 35178 35178\n",
      " 35178 35178 35178 35178 35178 35178 35178 35178 35178 35178 35178 35178\n",
      " 35178 35178 35178 35178 35178 35178 35178 35178 35178 35178 35178 35178\n",
      " 35178 35178 35178 35178 35178 35178 35178 35178 35178 35178 35178 35178\n",
      " 35178 35178 35178 35178 35178 35178 35178 35178 35178 35178 35178 35178\n",
      " 35178 35178 35178 35178 35178 35178 35178 35178 35178 35178 35178 35178\n",
      " 35178 35178 35178 35178 35178 35178 35178 35178]\n",
      "\n",
      "(47959, 104)\n"
     ]
    }
   ],
   "source": [
    "# Run this cell to show your results #\n",
    "print(\"The index of word 'Harvard' is: {}\\n\".format(word2idx[\"Harvard\"]))\n",
    "print(\"Sentence 1: {}\\n\".format(X[1]))\n",
    "print(X.shape)"
   ]
  },
  {
   "cell_type": "code",
   "execution_count": 16,
   "metadata": {},
   "outputs": [],
   "source": [
    "tag2idx = {}\n",
    "idx2tag = {}\n",
    "for i, item in enumerate(tags):\n",
    "    tag2idx[item] = i\n",
    "    idx2tag[i] = item"
   ]
  },
  {
   "cell_type": "code",
   "execution_count": 17,
   "metadata": {},
   "outputs": [],
   "source": [
    "data['tag_idx']=data['Tag'].map(tag2idx)\n",
    "tag_lst1=data.groupby('Sentence #')['tag_idx'].apply(list)\n",
    "tag_lst2=tag_lst1.tolist()"
   ]
  },
  {
   "cell_type": "code",
   "execution_count": 18,
   "metadata": {},
   "outputs": [],
   "source": [
    "y_org = sequence.pad_sequences(tag_lst2, maxlen=max_len,padding='post',value=tag2idx['PAD'])"
   ]
  },
  {
   "cell_type": "code",
   "execution_count": 19,
   "metadata": {},
   "outputs": [],
   "source": [
    "y=to_categorical(y_org)"
   ]
  },
  {
   "cell_type": "code",
   "execution_count": 20,
   "metadata": {},
   "outputs": [
    {
     "data": {
      "text/plain": [
       "17"
      ]
     },
     "execution_count": 20,
     "metadata": {},
     "output_type": "execute_result"
    }
   ],
   "source": [
    "tag2idx['PAD']"
   ]
  },
  {
   "cell_type": "code",
   "execution_count": 21,
   "metadata": {},
   "outputs": [
    {
     "name": "stdout",
     "output_type": "stream",
     "text": [
      "The index of tag 'B-gpe' is: 3\n",
      "\n",
      "The tag of the last word in Sentence 1: [0. 0. 0. 0. 0. 0. 0. 0. 0. 0. 0. 0. 0. 0. 0. 0. 0. 1.]\n",
      "\n",
      "(47959, 104, 18)\n"
     ]
    }
   ],
   "source": [
    "# Run this cell to show your results #\n",
    "print(\"The index of tag 'B-gpe' is: {}\\n\".format(tag2idx[\"B-gpe\"]))\n",
    "print(\"The tag of the last word in Sentence 1: {}\\n\".format(y[0][-1]))\n",
    "print(np.array(y).shape)"
   ]
  },
  {
   "cell_type": "code",
   "execution_count": 22,
   "metadata": {},
   "outputs": [],
   "source": [
    "# Split Train n test data\n",
    "X_tr, X_te, y_tr, y_te = train_test_split(X, y, test_size=.1)"
   ]
  },
  {
   "cell_type": "code",
   "execution_count": 23,
   "metadata": {},
   "outputs": [],
   "source": [
    "# Store model\n",
    "def store_keras_model(model, model_name):\n",
    "    model_json = model.to_json() # serialize model to JSON\n",
    "    with open(\"./models/{}.json\".format(model_name), \"w\") as json_file:\n",
    "        json_file.write(model_json)\n",
    "    model.save_weights(\"./models/{}.h5\".format(model_name)) # serialize weights to HDF5\n",
    "    print(\"Saved model to disk\")\n",
    "    \n",
    "# Plot history\n",
    "def plot_training_history(history):\n",
    "    loss = history.history['loss']\n",
    "    val_loss = history.history['val_loss']\n",
    "    epochs = range(1,len(loss)+1)\n",
    "\n",
    "    plt.figure()\n",
    "    plt.plot(epochs, loss, 'bo', label='Training loss')\n",
    "    plt.plot(epochs, val_loss, 'b', label='Validation loss')\n",
    "    plt.title('Training and validation loss')\n",
    "    plt.xlabel('epoch')\n",
    "    plt.legend()\n",
    "    plt.show()"
   ]
  },
  {
   "cell_type": "code",
   "execution_count": 24,
   "metadata": {},
   "outputs": [],
   "source": [
    "# Load model \n",
    "def load_keras_model(model_name):\n",
    "    # Load json and create model\n",
    "    json_file = open('./models/{}.json'.format(model_name), 'r')\n",
    "    loaded_model_json = json_file.read()\n",
    "    json_file.close()\n",
    "    model = model_from_json(loaded_model_json)\n",
    "    # Load weights into new model\n",
    "    model.load_weights(\"./models/{}.h5\".format(model_name))\n",
    "    return model"
   ]
  },
  {
   "cell_type": "markdown",
   "metadata": {},
   "source": [
    "### Baseline Model ###"
   ]
  },
  {
   "cell_type": "markdown",
   "metadata": {},
   "source": [
    "With baseline model we predict the tag of a word simply with the most frequently-seen named entity tag of this word from the training set.\n",
    "\n",
    "e.g. word \"Apple\" appears 10 times in the training set; 7 times it was tagged as \"Corporate\" and 3 times it was tagged as \"Fruit\". If we encounter the word \"Apple\" in the test set, we predict it as \"Corporate\"\n"
   ]
  },
  {
   "cell_type": "code",
   "execution_count": 40,
   "metadata": {},
   "outputs": [
    {
     "data": {
      "text/plain": [
       "((4488952,), (4488952,))"
      ]
     },
     "execution_count": 40,
     "metadata": {},
     "output_type": "execute_result"
    }
   ],
   "source": [
    "y_tr1=np.argmax(y_tr, axis=-1)\n",
    "y_te1=np.argmax(y_te, axis=-1)\n",
    "\n",
    "X_tr1=X_tr.ravel()\n",
    "y_tr1=y_tr1.ravel()\n",
    "X_tr1.shape, y_tr1.shape"
   ]
  },
  {
   "cell_type": "code",
   "execution_count": 41,
   "metadata": {},
   "outputs": [],
   "source": [
    "baseline_tr=pd.DataFrame({'word_idx':X_tr1, 'tag_idx' : y_tr1})\n",
    "freq=baseline_tr.groupby(['word_idx','tag_idx']).size().sort_values().groupby(level=0).tail(1)\n",
    "baseline=freq.to_frame()\n",
    "baseline.reset_index(inplace=True)\n",
    "\n",
    "word_indx=pd.DataFrame({'word_idx' : [i for i in range(n_words)]})  #set baseline to length of n_words\n",
    "# merge to have the baseline length equal to n_words\n",
    "baseline=pd.merge(word_indx, baseline[['word_idx', 'tag_idx']], how='left', on='word_idx')\n",
    "\n",
    "baseline.fillna(tag2idx['O'],inplace=True)  #for missing tags in train, replace tag as 'O'\n",
    "baseline.set_index('word_idx',inplace=True)\n",
    "baseline=baseline.values  #convert from dataframe to numpy array\n"
   ]
  },
  {
   "cell_type": "code",
   "execution_count": 42,
   "metadata": {},
   "outputs": [
    {
     "name": "stdout",
     "output_type": "stream",
     "text": [
      "Thousands\n",
      "16.0\n",
      "Most frequently occured tag for word  Thousands  is O\n"
     ]
    }
   ],
   "source": [
    "print(idx2word[15077])\n",
    "chk = baseline[15077][0]\n",
    "print(chk)\n",
    "print(\"Most frequently occured tag for word \",idx2word[15077], \" is\", idx2tag[chk])"
   ]
  },
  {
   "cell_type": "code",
   "execution_count": 43,
   "metadata": {},
   "outputs": [
    {
     "name": "stdout",
     "output_type": "stream",
     "text": [
      "(47959, 104, 1) \n",
      "\n",
      "Sentence:\n",
      " ['Thousands', 'of', 'demonstrators', 'have', 'marched', 'through', 'London', 'to', 'protest', 'the', 'war', 'in', 'Iraq', 'and', 'demand', 'the', 'withdrawal', 'of', 'British', 'troops', 'from', 'that', 'country', '.', 'ENDPAD', 'ENDPAD', 'ENDPAD', 'ENDPAD', 'ENDPAD', 'ENDPAD', 'ENDPAD', 'ENDPAD', 'ENDPAD', 'ENDPAD', 'ENDPAD', 'ENDPAD', 'ENDPAD', 'ENDPAD', 'ENDPAD', 'ENDPAD', 'ENDPAD', 'ENDPAD', 'ENDPAD', 'ENDPAD', 'ENDPAD', 'ENDPAD', 'ENDPAD', 'ENDPAD', 'ENDPAD', 'ENDPAD', 'ENDPAD', 'ENDPAD', 'ENDPAD', 'ENDPAD', 'ENDPAD', 'ENDPAD', 'ENDPAD', 'ENDPAD', 'ENDPAD', 'ENDPAD', 'ENDPAD', 'ENDPAD', 'ENDPAD', 'ENDPAD', 'ENDPAD', 'ENDPAD', 'ENDPAD', 'ENDPAD', 'ENDPAD', 'ENDPAD', 'ENDPAD', 'ENDPAD', 'ENDPAD', 'ENDPAD', 'ENDPAD', 'ENDPAD', 'ENDPAD', 'ENDPAD', 'ENDPAD', 'ENDPAD', 'ENDPAD', 'ENDPAD', 'ENDPAD', 'ENDPAD', 'ENDPAD', 'ENDPAD', 'ENDPAD', 'ENDPAD', 'ENDPAD', 'ENDPAD', 'ENDPAD', 'ENDPAD', 'ENDPAD', 'ENDPAD', 'ENDPAD', 'ENDPAD', 'ENDPAD', 'ENDPAD', 'ENDPAD', 'ENDPAD', 'ENDPAD', 'ENDPAD', 'ENDPAD', 'ENDPAD']\n",
      "\n",
      "Predicted Tags:\n",
      " ['O', 'O', 'O', 'O', 'O', 'O', 'B-geo', 'O', 'O', 'O', 'O', 'O', 'B-geo', 'O', 'O', 'O', 'O', 'O', 'B-gpe', 'O', 'O', 'O', 'O', 'O', 'PAD', 'PAD', 'PAD', 'PAD', 'PAD', 'PAD', 'PAD', 'PAD', 'PAD', 'PAD', 'PAD', 'PAD', 'PAD', 'PAD', 'PAD', 'PAD', 'PAD', 'PAD', 'PAD', 'PAD', 'PAD', 'PAD', 'PAD', 'PAD', 'PAD', 'PAD', 'PAD', 'PAD', 'PAD', 'PAD', 'PAD', 'PAD', 'PAD', 'PAD', 'PAD', 'PAD', 'PAD', 'PAD', 'PAD', 'PAD', 'PAD', 'PAD', 'PAD', 'PAD', 'PAD', 'PAD', 'PAD', 'PAD', 'PAD', 'PAD', 'PAD', 'PAD', 'PAD', 'PAD', 'PAD', 'PAD', 'PAD', 'PAD', 'PAD', 'PAD', 'PAD', 'PAD', 'PAD', 'PAD', 'PAD', 'PAD', 'PAD', 'PAD', 'PAD', 'PAD', 'PAD', 'PAD', 'PAD', 'PAD', 'PAD', 'PAD', 'PAD', 'PAD', 'PAD', 'PAD']\n"
     ]
    }
   ],
   "source": [
    "# Run this cell to show your results #\n",
    "\n",
    "print(baseline[X].shape,'\\n')\n",
    "print('Sentence:\\n {}\\n'.format([idx2word[w] for w in X[0]]))\n",
    "print('Predicted Tags:\\n {}'.format([idx2tag[baseline[i][0]] for i in X[0]]))\n",
    "# print('Predicted Tags:\\n {}'.format([idx2tag[i] for i in np.argmax(baseline[X[0]],axis=-1)]))\n",
    "# print('Predicted Tags:\\n {}'.format([idx2tag[i] for i in baseline[X[0]]]))"
   ]
  },
  {
   "cell_type": "markdown",
   "metadata": {},
   "source": [
    "### Model 2: Vanilla Feed Forward Neural Network ###\n"
   ]
  },
  {
   "cell_type": "code",
   "execution_count": 27,
   "metadata": {},
   "outputs": [],
   "source": [
    "# Hyper parameters\n",
    "n_units = 100\n",
    "drop_rate = .1\n",
    "dim_embed = 50\n",
    "\n",
    "optimizer = \"rmsprop\"\n",
    "loss = \"categorical_crossentropy\"\n",
    "metrics = [\"accuracy\"]\n",
    "\n",
    "batch_size = 32\n",
    "epochs = 10\n",
    "validation_split = 0.1\n",
    "verbose = 1"
   ]
  },
  {
   "cell_type": "code",
   "execution_count": 36,
   "metadata": {},
   "outputs": [],
   "source": [
    "# use clear_session to start a new model #\n",
    "backend.clear_session()\n",
    "\n",
    "# Define model\n",
    "model=Sequential()\n",
    "model.add(Embedding(input_dim=n_words, output_dim=dim_embed, input_length=max_len))\n",
    "model.add(Dropout(drop_rate))\n",
    "model.add(Dense(n_tags, activation=\"softmax\"))\n",
    "\n",
    "# Compile model\n",
    "model.compile(optimizer=optimizer, loss=loss, metrics=metrics)"
   ]
  },
  {
   "cell_type": "code",
   "execution_count": 37,
   "metadata": {
    "scrolled": true
   },
   "outputs": [
    {
     "name": "stdout",
     "output_type": "stream",
     "text": [
      "_________________________________________________________________\n",
      "Layer (type)                 Output Shape              Param #   \n",
      "=================================================================\n",
      "embedding_1 (Embedding)      (None, 104, 50)           1758950   \n",
      "_________________________________________________________________\n",
      "dropout_1 (Dropout)          (None, 104, 50)           0         \n",
      "_________________________________________________________________\n",
      "dense_1 (Dense)              (None, 104, 18)           918       \n",
      "=================================================================\n",
      "Total params: 1,759,868\n",
      "Trainable params: 1,759,868\n",
      "Non-trainable params: 0\n",
      "_________________________________________________________________\n",
      "None\n"
     ]
    }
   ],
   "source": [
    "print(model.summary())"
   ]
  },
  {
   "cell_type": "code",
   "execution_count": 38,
   "metadata": {
    "scrolled": false
   },
   "outputs": [
    {
     "name": "stdout",
     "output_type": "stream",
     "text": [
      "Train on 38846 samples, validate on 4317 samples\n",
      "Epoch 1/10\n",
      "38846/38846 [==============================] - 25s 646us/step - loss: 0.3246 - acc: 0.9774 - val_loss: 0.0604 - val_acc: 0.9858\n",
      "Epoch 2/10\n",
      "38846/38846 [==============================] - 24s 621us/step - loss: 0.0515 - acc: 0.9863 - val_loss: 0.0477 - val_acc: 0.9869\n",
      "Epoch 3/10\n",
      "38846/38846 [==============================] - 24s 631us/step - loss: 0.0451 - acc: 0.9872 - val_loss: 0.0448 - val_acc: 0.9875\n",
      "Epoch 4/10\n",
      "38846/38846 [==============================] - 24s 621us/step - loss: 0.0428 - acc: 0.9878 - val_loss: 0.0435 - val_acc: 0.9877\n",
      "Epoch 5/10\n",
      "38846/38846 [==============================] - 25s 637us/step - loss: 0.0414 - acc: 0.9881 - val_loss: 0.0428 - val_acc: 0.9880\n",
      "Epoch 6/10\n",
      "38846/38846 [==============================] - 24s 619us/step - loss: 0.0406 - acc: 0.9883 - val_loss: 0.0422 - val_acc: 0.9882\n",
      "Epoch 7/10\n",
      "38846/38846 [==============================] - 24s 626us/step - loss: 0.0401 - acc: 0.9885 - val_loss: 0.0419 - val_acc: 0.9883\n",
      "Epoch 8/10\n",
      "38846/38846 [==============================] - 24s 622us/step - loss: 0.0396 - acc: 0.9887 - val_loss: 0.0418 - val_acc: 0.9884\n",
      "Epoch 9/10\n",
      "38846/38846 [==============================] - 24s 617us/step - loss: 0.0393 - acc: 0.9888 - val_loss: 0.0416 - val_acc: 0.9884\n",
      "Epoch 10/10\n",
      "38846/38846 [==============================] - 24s 630us/step - loss: 0.0390 - acc: 0.9889 - val_loss: 0.0415 - val_acc: 0.9885\n"
     ]
    }
   ],
   "source": [
    "# Train model\n",
    "history = model.fit(X_tr, y_tr, batch_size=batch_size, epochs=epochs, \n",
    "                    validation_split=validation_split, verbose=verbose)"
   ]
  },
  {
   "cell_type": "code",
   "execution_count": 41,
   "metadata": {},
   "outputs": [
    {
     "name": "stdout",
     "output_type": "stream",
     "text": [
      "Saved model to disk\n"
     ]
    }
   ],
   "source": [
    "store_keras_model(model, 'model_FFNN')"
   ]
  },
  {
   "cell_type": "code",
   "execution_count": 42,
   "metadata": {},
   "outputs": [
    {
     "data": {
      "image/png": "[encoded data removed]",
      "text/plain": [
       "<Figure size 432x288 with 1 Axes>"
      ]
     },
     "metadata": {
      "needs_background": "light"
     },
     "output_type": "display_data"
    }
   ],
   "source": [
    "plot_training_history(history)"
   ]
  },
  {
   "cell_type": "markdown",
   "metadata": {},
   "source": [
    "In addition to the final result, we also want to see the intermediate results from hidden layers. Below is an example showing how to get outputs from a hidden layer, and visualize them on the reduced dimension of 2D by PCA. (**Please note that these codes and parameters cannot be simply copied and pasted for other questions; some adjustments need to be made**) "
   ]
  },
  {
   "cell_type": "code",
   "execution_count": 34,
   "metadata": {},
   "outputs": [],
   "source": [
    "FFNN=load_keras_model('model_FFNN')"
   ]
  },
  {
   "cell_type": "code",
   "execution_count": 35,
   "metadata": {},
   "outputs": [
    {
     "name": "stdout",
     "output_type": "stream",
     "text": [
      "Variance explained by PCA: 0.9344486527075765\n"
     ]
    }
   ],
   "source": [
    "def create_truncated_model_FFNN(trained_model):\n",
    "    model=Sequential()\n",
    "    model.add(Embedding(input_dim=n_words, output_dim=dim_embed, input_length=max_len))\n",
    "    model.add(Dropout(drop_rate))\n",
    "    # set weights of first few layers using the weights of trained model\n",
    "    for i, layer in enumerate(model.layers):\n",
    "        layer.set_weights(trained_model.layers[i].get_weights())\n",
    "    model.compile(optimizer=optimizer, loss=loss, metrics=metrics)\n",
    "    return model\n",
    "truncated_model = create_truncated_model_FFNN(FFNN)\n",
    "hidden_features = truncated_model.predict(X_te)\n",
    "\n",
    "# flatten data\n",
    "hidden_features=hidden_features.reshape(-1,50)\n",
    "y_test=y_te.reshape(-1,18)\n",
    " \n",
    "# find first two PCA components\n",
    "pca = PCA(n_components=2)\n",
    "pca_result = pca.fit_transform(hidden_features)\n",
    "print('Variance explained by PCA: {}'.format(np.sum(pca.explained_variance_ratio_)))"
   ]
  },
  {
   "cell_type": "code",
   "execution_count": 25,
   "metadata": {},
   "outputs": [],
   "source": [
    "# visualize hidden featurs on first two PCA components\n",
    "# this plot only shows B-tags\n",
    "def visualize_hidden_features_BI(pca_result):\n",
    "    color=['r', 'C1', 'y', 'C3', 'b', 'g', 'm', 'orange']\n",
    "    category = np.argmax(y_test, axis=1)\n",
    "    fig, (ax1, ax2) = plt.subplots(1,2)\n",
    "    fig.set_size_inches(12,6)    \n",
    "    for cat in range(8):\n",
    "        indices_B = np.where(category==cat)[0]\n",
    "        ax1.scatter(pca_result[indices_B,0], pca_result[indices_B, 1], label=idx2tag[cat],s=2,color=color[cat],alpha=0.5)\n",
    "        legend=ax1.legend(markerscale=3)\n",
    "        legend.get_frame().set_facecolor('w')  \n",
    "\n",
    "    for cat in range(8,16):\n",
    "        indices_I = np.where(category==cat)[0]\n",
    "        ax2.scatter(pca_result[indices_I,0], pca_result[indices_I, 1], label=idx2tag[cat],s=2,color=color[cat-8],alpha=0.5)\n",
    "        legend=ax2.legend(markerscale=3)\n",
    "        legend.get_frame().set_facecolor('w')  \n",
    "        \n",
    "    plt.show()"
   ]
  },
  {
   "cell_type": "code",
   "execution_count": 61,
   "metadata": {},
   "outputs": [
    {
     "data": {
      "image/png": "[encoded data removed]",
      "text/plain": [
       "<Figure size 864x432 with 2 Axes>"
      ]
     },
     "metadata": {
      "needs_background": "light"
     },
     "output_type": "display_data"
    }
   ],
   "source": [
    "visualize_hidden_features_BI(pca_result)"
   ]
  },
  {
   "cell_type": "markdown",
   "metadata": {},
   "source": [
    "## RNN"
   ]
  },
  {
   "cell_type": "code",
   "execution_count": 47,
   "metadata": {},
   "outputs": [],
   "source": [
    "# your code #\n",
    "# use clear_session to start a new model #\n",
    "backend.clear_session()\n",
    "\n",
    "# Define model\n",
    "model=Sequential()\n",
    "model.add(Embedding(input_dim=n_words, output_dim=dim_embed, input_length=max_len))\n",
    "model.add(Dropout(drop_rate))\n",
    "model.add(SimpleRNN(n_units, return_sequences=True))\n",
    "#model.add(TimeDistributed(Dense(8), input_shape=(5, 5)))\n",
    "model.add(TimeDistributed(Dense(n_tags, activation=\"softmax\")))\n",
    "\n",
    "# Compile model\n",
    "model.compile(optimizer=optimizer, loss=loss, metrics=metrics)"
   ]
  },
  {
   "cell_type": "code",
   "execution_count": 48,
   "metadata": {},
   "outputs": [
    {
     "name": "stdout",
     "output_type": "stream",
     "text": [
      "Train on 38846 samples, validate on 4317 samples\n",
      "Epoch 1/10\n",
      "38846/38846 [==============================] - 84s 2ms/step - loss: 0.0910 - acc: 0.9776 - val_loss: 0.0322 - val_acc: 0.9905\n",
      "Epoch 2/10\n",
      "38846/38846 [==============================] - 84s 2ms/step - loss: 0.0295 - acc: 0.9912 - val_loss: 0.0286 - val_acc: 0.9913\n",
      "Epoch 3/10\n",
      "38846/38846 [==============================] - 82s 2ms/step - loss: 0.0261 - acc: 0.9921 - val_loss: 0.0275 - val_acc: 0.9919\n",
      "Epoch 4/10\n",
      "38846/38846 [==============================] - 83s 2ms/step - loss: 0.0244 - acc: 0.9927 - val_loss: 0.0270 - val_acc: 0.9920\n",
      "Epoch 5/10\n",
      "38846/38846 [==============================] - 84s 2ms/step - loss: 0.0232 - acc: 0.9931 - val_loss: 0.0267 - val_acc: 0.9921\n",
      "Epoch 6/10\n",
      "38846/38846 [==============================] - 84s 2ms/step - loss: 0.0222 - acc: 0.9934 - val_loss: 0.0264 - val_acc: 0.9921\n",
      "Epoch 7/10\n",
      "38846/38846 [==============================] - 85s 2ms/step - loss: 0.0213 - acc: 0.9936 - val_loss: 0.0266 - val_acc: 0.9921\n",
      "Epoch 8/10\n",
      "38846/38846 [==============================] - 84s 2ms/step - loss: 0.0205 - acc: 0.9939 - val_loss: 0.0264 - val_acc: 0.9921\n",
      "Epoch 9/10\n",
      "38846/38846 [==============================] - 83s 2ms/step - loss: 0.0198 - acc: 0.9941 - val_loss: 0.0264 - val_acc: 0.9921\n",
      "Epoch 10/10\n",
      "38846/38846 [==============================] - 84s 2ms/step - loss: 0.0191 - acc: 0.9943 - val_loss: 0.0267 - val_acc: 0.9921\n"
     ]
    }
   ],
   "source": [
    "# Train model\n",
    "history = model.fit(X_tr, y_tr, batch_size=batch_size, epochs=epochs, \n",
    "                    validation_split=validation_split, verbose=verbose)"
   ]
  },
  {
   "cell_type": "code",
   "execution_count": 50,
   "metadata": {},
   "outputs": [
    {
     "name": "stdout",
     "output_type": "stream",
     "text": [
      "Saved model to disk\n"
     ]
    }
   ],
   "source": [
    "# save your mode ##\n",
    "store_keras_model(model, 'model_RNN')\n"
   ]
  },
  {
   "cell_type": "code",
   "execution_count": 51,
   "metadata": {},
   "outputs": [
    {
     "name": "stdout",
     "output_type": "stream",
     "text": [
      "_________________________________________________________________\n",
      "Layer (type)                 Output Shape              Param #   \n",
      "=================================================================\n",
      "embedding_1 (Embedding)      (None, 104, 50)           1758950   \n",
      "_________________________________________________________________\n",
      "dropout_1 (Dropout)          (None, 104, 50)           0         \n",
      "_________________________________________________________________\n",
      "simple_rnn_1 (SimpleRNN)     (None, 104, 100)          15100     \n",
      "_________________________________________________________________\n",
      "time_distributed_1 (TimeDist (None, 104, 18)           1818      \n",
      "=================================================================\n",
      "Total params: 1,775,868\n",
      "Trainable params: 1,775,868\n",
      "Non-trainable params: 0\n",
      "_________________________________________________________________\n",
      "None\n"
     ]
    }
   ],
   "source": [
    "# run this cell to show your results #\n",
    "print(model.summary())"
   ]
  },
  {
   "cell_type": "code",
   "execution_count": 52,
   "metadata": {},
   "outputs": [
    {
     "data": {
      "image/png": "[encoded data removed]",
      "text/plain": [
       "<Figure size 432x288 with 1 Axes>"
      ]
     },
     "metadata": {
      "needs_background": "light"
     },
     "output_type": "display_data"
    }
   ],
   "source": [
    "# run this cell to show your results #\n",
    "plot_training_history(history)"
   ]
  },
  {
   "cell_type": "markdown",
   "metadata": {},
   "source": [
    "#### Visualization of hidden features using PCA"
   ]
  },
  {
   "cell_type": "code",
   "execution_count": 53,
   "metadata": {},
   "outputs": [],
   "source": [
    "# visualization of hidden features\n",
    "\n",
    "RNN=load_keras_model('model_RNN')\n",
    "truncated_model = create_truncated_model_FFNN(RNN)  #passing SimpleRNN to the truncated model definition"
   ]
  },
  {
   "cell_type": "code",
   "execution_count": 54,
   "metadata": {},
   "outputs": [
    {
     "name": "stdout",
     "output_type": "stream",
     "text": [
      "Variance explained by PCA: 0.9814864586993796\n"
     ]
    }
   ],
   "source": [
    "hidden_features = truncated_model.predict(X_te)\n",
    "hidden_features=hidden_features.reshape(-1,50)\n",
    "\n",
    "# find first two PCA components\n",
    "pca = PCA(n_components=2)\n",
    "pca_result = pca.fit_transform(hidden_features)\n",
    "print('Variance explained by PCA: {}'.format(np.sum(pca.explained_variance_ratio_)))"
   ]
  },
  {
   "cell_type": "code",
   "execution_count": 56,
   "metadata": {},
   "outputs": [
    {
     "data": {
      "image/png": "[encoded data removed]",
      "text/plain": [
       "<Figure size 864x432 with 2 Axes>"
      ]
     },
     "metadata": {
      "needs_background": "light"
     },
     "output_type": "display_data"
    }
   ],
   "source": [
    "visualize_hidden_features_BI(pca_result)"
   ]
  },
  {
   "cell_type": "markdown",
   "metadata": {},
   "source": [
    "<div class='explication'> </div>"
   ]
  },
  {
   "cell_type": "markdown",
   "metadata": {},
   "source": [
    "### GRU ###"
   ]
  },
  {
   "cell_type": "code",
   "execution_count": 58,
   "metadata": {},
   "outputs": [],
   "source": [
    "# use clear_session to start a new model #\n",
    "backend.clear_session()\n",
    "\n",
    "# Define model\n",
    "model=Sequential()\n",
    "model.add(Embedding(input_dim=n_words, output_dim=dim_embed, input_length=max_len))\n",
    "model.add(Dropout(drop_rate))\n",
    "model.add(GRU(n_units, return_sequences=True))\n",
    "model.add(TimeDistributed(Dense(n_tags, activation=\"softmax\")))\n",
    "\n",
    "# Compile model\n",
    "model.compile(optimizer=optimizer, loss=loss, metrics=metrics)"
   ]
  },
  {
   "cell_type": "code",
   "execution_count": 61,
   "metadata": {},
   "outputs": [
    {
     "name": "stdout",
     "output_type": "stream",
     "text": [
      "_________________________________________________________________\n",
      "Layer (type)                 Output Shape              Param #   \n",
      "=================================================================\n",
      "embedding_1 (Embedding)      (None, 104, 50)           1758950   \n",
      "_________________________________________________________________\n",
      "dropout_1 (Dropout)          (None, 104, 50)           0         \n",
      "_________________________________________________________________\n",
      "gru_1 (GRU)                  (None, 104, 100)          45300     \n",
      "_________________________________________________________________\n",
      "time_distributed_1 (TimeDist (None, 104, 18)           1818      \n",
      "=================================================================\n",
      "Total params: 1,806,068\n",
      "Trainable params: 1,806,068\n",
      "Non-trainable params: 0\n",
      "_________________________________________________________________\n",
      "None\n"
     ]
    }
   ],
   "source": [
    "# run this cell to show your results #\n",
    "print(model.summary())"
   ]
  },
  {
   "cell_type": "code",
   "execution_count": 59,
   "metadata": {},
   "outputs": [
    {
     "name": "stdout",
     "output_type": "stream",
     "text": [
      "Train on 38846 samples, validate on 4317 samples\n",
      "Epoch 1/10\n",
      "38846/38846 [==============================] - 169s 4ms/step - loss: 0.0925 - acc: 0.9771 - val_loss: 0.0326 - val_acc: 0.9905\n",
      "Epoch 2/10\n",
      "38846/38846 [==============================] - 168s 4ms/step - loss: 0.0291 - acc: 0.9914 - val_loss: 0.0284 - val_acc: 0.9916\n",
      "Epoch 3/10\n",
      "38846/38846 [==============================] - 168s 4ms/step - loss: 0.0257 - acc: 0.9924 - val_loss: 0.0274 - val_acc: 0.9918\n",
      "Epoch 4/10\n",
      "38846/38846 [==============================] - 168s 4ms/step - loss: 0.0240 - acc: 0.9929 - val_loss: 0.0261 - val_acc: 0.9922\n",
      "Epoch 5/10\n",
      "38846/38846 [==============================] - 168s 4ms/step - loss: 0.0227 - acc: 0.9932 - val_loss: 0.0260 - val_acc: 0.9922\n",
      "Epoch 6/10\n",
      "38846/38846 [==============================] - 168s 4ms/step - loss: 0.0216 - acc: 0.9935 - val_loss: 0.0259 - val_acc: 0.9923\n",
      "Epoch 7/10\n",
      "38846/38846 [==============================] - 168s 4ms/step - loss: 0.0207 - acc: 0.9938 - val_loss: 0.0256 - val_acc: 0.9924\n",
      "Epoch 8/10\n",
      "38846/38846 [==============================] - 168s 4ms/step - loss: 0.0201 - acc: 0.9940 - val_loss: 0.0255 - val_acc: 0.9924\n",
      "Epoch 9/10\n",
      "38846/38846 [==============================] - 168s 4ms/step - loss: 0.0194 - acc: 0.9942 - val_loss: 0.0260 - val_acc: 0.9922\n",
      "Epoch 10/10\n",
      "38846/38846 [==============================] - 169s 4ms/step - loss: 0.0187 - acc: 0.9944 - val_loss: 0.0261 - val_acc: 0.9924\n"
     ]
    }
   ],
   "source": [
    "# Train model\n",
    "history = model.fit(X_tr, y_tr, batch_size=batch_size, epochs=epochs, \n",
    "                    validation_split=validation_split, verbose=verbose)"
   ]
  },
  {
   "cell_type": "code",
   "execution_count": 60,
   "metadata": {},
   "outputs": [
    {
     "name": "stdout",
     "output_type": "stream",
     "text": [
      "Saved model to disk\n"
     ]
    }
   ],
   "source": [
    "# save your model #\n",
    "store_keras_model(model, 'model_GRU')"
   ]
  },
  {
   "cell_type": "code",
   "execution_count": 62,
   "metadata": {},
   "outputs": [
    {
     "data": {
      "image/png": "[encoded data removed]",
      "text/plain": [
       "<Figure size 432x288 with 1 Axes>"
      ]
     },
     "metadata": {
      "needs_background": "light"
     },
     "output_type": "display_data"
    }
   ],
   "source": [
    "# run this cell to show your results #\n",
    "plot_training_history(history)"
   ]
  },
  {
   "cell_type": "code",
   "execution_count": 63,
   "metadata": {},
   "outputs": [],
   "source": [
    "# visualization of hidden features\n",
    "\n",
    "GRU2=load_keras_model('model_GRU')\n",
    "truncated_model = create_truncated_model_FFNN(GRU2)"
   ]
  },
  {
   "cell_type": "code",
   "execution_count": 67,
   "metadata": {},
   "outputs": [
    {
     "name": "stdout",
     "output_type": "stream",
     "text": [
      "Variance explained by PCA: 0.968354934413161\n"
     ]
    }
   ],
   "source": [
    "hidden_features = truncated_model.predict(X_te)\n",
    "hidden_features=hidden_features.reshape(-1,50)\n",
    " \n",
    "# find first two PCA components\n",
    "pca = PCA(n_components=2)\n",
    "pca_result = pca.fit_transform(hidden_features)\n",
    "print('Variance explained by PCA: {}'.format(np.sum(pca.explained_variance_ratio_)))"
   ]
  },
  {
   "cell_type": "code",
   "execution_count": 69,
   "metadata": {},
   "outputs": [
    {
     "data": {
      "image/png": "[encoded data removed]",
      "text/plain": [
       "<Figure size 864x432 with 2 Axes>"
      ]
     },
     "metadata": {
      "needs_background": "light"
     },
     "output_type": "display_data"
    }
   ],
   "source": [
    "visualize_hidden_features_BI(pca_result)"
   ]
  },
  {
   "cell_type": "markdown",
   "metadata": {},
   "source": [
    "<div class='explication'> </div>"
   ]
  },
  {
   "cell_type": "markdown",
   "metadata": {},
   "source": [
    "**Visualize outputs from GRU layer, one subplot for B-tags and one subplot for I-tags,comment on the patterns you observed** \n",
    "<br>\n",
    "From the GRU layer, we notice a little more separation of tags than the simpleRNN.Tags are cluttered at one point for both B-tags and I-tags, but we see that tags are separating out in different directions from that point.\n",
    "<br>\n",
    "In B-tags, we see 4 different tags well separated. They are 'B-per'(purple), 'B-tim'(orange), 'B-gpe'(greyish), 'B-org'(green) tags.<br>\n",
    "With I-tags, there is slightly less separation. We see 'I-tim'(orange), 'I-org'(green) are more spread out more than the other tags."
   ]
  },
  {
   "cell_type": "markdown",
   "metadata": {},
   "source": [
    "### Bidirectional GRU ###"
   ]
  },
  {
   "cell_type": "code",
   "execution_count": 28,
   "metadata": {},
   "outputs": [],
   "source": [
    "# use clear_session to start a new model #\n",
    "backend.clear_session()\n",
    "\n",
    "# Define model\n",
    "model=Sequential()\n",
    "model.add(Embedding(input_dim=n_words, output_dim=dim_embed, input_length=max_len))\n",
    "model.add(Dropout(drop_rate))\n",
    "model.add(Bidirectional(GRU(n_units, return_sequences=True)))\n",
    "model.add(TimeDistributed(Dense(n_tags, activation=\"softmax\")))\n",
    "\n",
    "# Compile model\n",
    "model.compile(optimizer=optimizer, loss=loss, metrics=metrics)"
   ]
  },
  {
   "cell_type": "code",
   "execution_count": 29,
   "metadata": {},
   "outputs": [
    {
     "name": "stdout",
     "output_type": "stream",
     "text": [
      "Train on 38846 samples, validate on 4317 samples\n",
      "Epoch 1/10\n",
      "38846/38846 [==============================] - 381s 10ms/step - loss: 0.0744 - acc: 0.9816 - val_loss: 0.0280 - val_acc: 0.9919\n",
      "Epoch 2/10\n",
      "38846/38846 [==============================] - 378s 10ms/step - loss: 0.0246 - acc: 0.9928 - val_loss: 0.0243 - val_acc: 0.9929\n",
      "Epoch 3/10\n",
      "38846/38846 [==============================] - 374s 10ms/step - loss: 0.0211 - acc: 0.9938 - val_loss: 0.0230 - val_acc: 0.9931\n",
      "Epoch 4/10\n",
      "38846/38846 [==============================] - 370s 10ms/step - loss: 0.0192 - acc: 0.9943 - val_loss: 0.0228 - val_acc: 0.9933\n",
      "Epoch 5/10\n",
      "38846/38846 [==============================] - 372s 10ms/step - loss: 0.0179 - acc: 0.9947 - val_loss: 0.0219 - val_acc: 0.9934\n",
      "Epoch 6/10\n",
      "38846/38846 [==============================] - 372s 10ms/step - loss: 0.0167 - acc: 0.9950 - val_loss: 0.0219 - val_acc: 0.9935\n",
      "Epoch 7/10\n",
      "38846/38846 [==============================] - 371s 10ms/step - loss: 0.0157 - acc: 0.9953 - val_loss: 0.0218 - val_acc: 0.9936\n",
      "Epoch 8/10\n",
      "38846/38846 [==============================] - 370s 10ms/step - loss: 0.0146 - acc: 0.9956 - val_loss: 0.0221 - val_acc: 0.9935\n",
      "Epoch 9/10\n",
      "38846/38846 [==============================] - 370s 10ms/step - loss: 0.0136 - acc: 0.9959 - val_loss: 0.0229 - val_acc: 0.9933\n",
      "Epoch 10/10\n",
      "38846/38846 [==============================] - 374s 10ms/step - loss: 0.0127 - acc: 0.9962 - val_loss: 0.0233 - val_acc: 0.9933\n"
     ]
    }
   ],
   "source": [
    "# Train model\n",
    "history = model.fit(X_tr, y_tr, batch_size=batch_size, epochs=epochs, \n",
    "                    validation_split=validation_split, verbose=verbose)"
   ]
  },
  {
   "cell_type": "code",
   "execution_count": 30,
   "metadata": {},
   "outputs": [
    {
     "name": "stdout",
     "output_type": "stream",
     "text": [
      "Saved model to disk\n"
     ]
    }
   ],
   "source": [
    "# save your model #\n",
    "store_keras_model(model, 'model_BiGRU')"
   ]
  },
  {
   "cell_type": "code",
   "execution_count": 31,
   "metadata": {},
   "outputs": [
    {
     "data": {
      "image/png": "[encoded data removed]",
      "text/plain": [
       "<Figure size 432x288 with 1 Axes>"
      ]
     },
     "metadata": {
      "needs_background": "light"
     },
     "output_type": "display_data"
    }
   ],
   "source": [
    "# run this cell to show your results #\n",
    "plot_training_history(history)"
   ]
  },
  {
   "cell_type": "code",
   "execution_count": 36,
   "metadata": {},
   "outputs": [
    {
     "name": "stdout",
     "output_type": "stream",
     "text": [
      "Variance explained by PCA: 0.8255254042964156\n"
     ]
    },
    {
     "data": {
      "image/png": "[encoded data removed]",
      "text/plain": [
       "<Figure size 864x432 with 2 Axes>"
      ]
     },
     "metadata": {
      "needs_background": "light"
     },
     "output_type": "display_data"
    }
   ],
   "source": [
    "# visualization of hidden features\n",
    "\n",
    "GRU2=load_keras_model('model_BiGRU')\n",
    "truncated_model = create_truncated_model_FFNN(GRU2)\n",
    "\n",
    "hidden_features = truncated_model.predict(X_te)\n",
    "hidden_features=hidden_features.reshape(-1,50)\n",
    " \n",
    "# find first two PCA components\n",
    "pca = PCA(n_components=2)\n",
    "pca_result = pca.fit_transform(hidden_features)\n",
    "print('Variance explained by PCA: {}'.format(np.sum(pca.explained_variance_ratio_)))\n",
    "\n",
    "visualize_hidden_features_BI(pca_result)"
   ]
  },
  {
   "cell_type": "markdown",
   "metadata": {},
   "source": [
    "**Visualize outputs from Bidirectional GRU layer, one subplot for B-tags and one subplot for I-tags,comment on the patterns you observed** \n",
    "<br>\n",
    "From the BiGRU layer, we notice a little more separation of tags than the simpleRNN or the GRU layer.\n",
    "Tags are cluttered at one point for both B-tags and I-tags, but we see that tags are separating out in different directions from that point.\n",
    "In B-tags, we see good separation for 'B-per'(purple) tags. 'B-tim'(orange) is slightly separated, and we some in combination with 'B-org'(green) tags.\n",
    "With I-tags, there is less separation and visibility of all tags. We see distinct 'B-per'(purple) tags' with more instances. I-tim'(orange), 'I-org'(green) are slightly spread out."
   ]
  },
  {
   "cell_type": "markdown",
   "metadata": {},
   "source": [
    "## Evaluating models on Test data"
   ]
  },
  {
   "cell_type": "code",
   "execution_count": 37,
   "metadata": {},
   "outputs": [
    {
     "data": {
      "text/plain": [
       "((4796, 104, 18), (498784, 18))"
      ]
     },
     "execution_count": 37,
     "metadata": {},
     "output_type": "execute_result"
    }
   ],
   "source": [
    "y_test = y_te.reshape(-1, 18)\n",
    "y_te.shape, y_test.shape"
   ]
  },
  {
   "cell_type": "code",
   "execution_count": 38,
   "metadata": {},
   "outputs": [],
   "source": [
    "FFNN=load_keras_model('model_FFNN')\n",
    "RNN=load_keras_model('model_RNN')\n",
    "GRU2=load_keras_model('model_GRU')\n",
    "BGRU=load_keras_model('model_BiGRU')"
   ]
  },
  {
   "cell_type": "code",
   "execution_count": 44,
   "metadata": {},
   "outputs": [
    {
     "name": "stderr",
     "output_type": "stream",
     "text": [
      "/usr/share/anaconda3/lib/python3.6/site-packages/sklearn/metrics/classification.py:1143: UndefinedMetricWarning: F-score is ill-defined and being set to 0.0 in labels with no predicted samples.\n",
      "  'precision', 'predicted', average, warn_for)\n"
     ]
    }
   ],
   "source": [
    "# prediction of f1 scorre on baseline model\n",
    "y_pred = to_categorical(baseline[X_te]).reshape(-1,18)\n",
    "# compute f1 score for FFNN model\n",
    "f1_lst = f1_score(y_test, y_pred, average=None)\n",
    "f1_lst = [np.round(elem,2) for elem in f1_lst]\n",
    "\n",
    "df = pd.DataFrame({'TagName':[idx2tag[i] for i in range(n_tags)], 'Baseline':f1_lst})\n",
    "\n",
    "models_=[FFNN,RNN,GRU2,BGRU]\n",
    "col_names=['FFNN','RNN', 'GRU', 'BiGRU']\n",
    "# predict on X for model FFNN\n",
    "for i, val in enumerate(models_):\n",
    "    y_pred = to_categorical(FFNN.predict_classes(X_te)).reshape(-1,18)\n",
    "    # compute f1 score for FFNN model\n",
    "    f1_lst = f1_score(y_test, y_pred, average=None)\n",
    "    f1_lst = [np.round(elem,2) for elem in f1_lst]\n",
    "    df[col_names[i]] = f1_lst"
   ]
  },
  {
   "cell_type": "markdown",
   "metadata": {},
   "source": [
    "## f1 scores for tags"
   ]
  },
  {
   "cell_type": "code",
   "execution_count": 45,
   "metadata": {},
   "outputs": [
    {
     "name": "stdout",
     "output_type": "stream",
     "text": [
      "f1 score for each tag and for each model\n"
     ]
    },
    {
     "data": {
      "text/html": [
       "<div>\n",
       "<style scoped>\n",
       "    .dataframe tbody tr th:only-of-type {\n",
       "        vertical-align: middle;\n",
       "    }\n",
       "\n",
       "    .dataframe tbody tr th {\n",
       "        vertical-align: top;\n",
       "    }\n",
       "\n",
       "    .dataframe thead th {\n",
       "        text-align: right;\n",
       "    }\n",
       "</style>\n",
       "<table border=\"1\" class=\"dataframe\">\n",
       "  <thead>\n",
       "    <tr style=\"text-align: right;\">\n",
       "      <th></th>\n",
       "      <th>TagName</th>\n",
       "      <th>Baseline</th>\n",
       "      <th>FFNN</th>\n",
       "      <th>RNN</th>\n",
       "      <th>GRU</th>\n",
       "      <th>BiGRU</th>\n",
       "      <th>Model_RNN</th>\n",
       "      <th>Model_GRU</th>\n",
       "      <th>Model_BGRU</th>\n",
       "    </tr>\n",
       "  </thead>\n",
       "  <tbody>\n",
       "    <tr>\n",
       "      <th>0</th>\n",
       "      <td>B-art</td>\n",
       "      <td>0.26</td>\n",
       "      <td>0.14</td>\n",
       "      <td>0.14</td>\n",
       "      <td>0.14</td>\n",
       "      <td>0.14</td>\n",
       "      <td>0.15</td>\n",
       "      <td>0.13</td>\n",
       "      <td>0.03</td>\n",
       "    </tr>\n",
       "    <tr>\n",
       "      <th>1</th>\n",
       "      <td>B-eve</td>\n",
       "      <td>0.28</td>\n",
       "      <td>0.31</td>\n",
       "      <td>0.31</td>\n",
       "      <td>0.31</td>\n",
       "      <td>0.31</td>\n",
       "      <td>0.31</td>\n",
       "      <td>0.33</td>\n",
       "      <td>0.47</td>\n",
       "    </tr>\n",
       "    <tr>\n",
       "      <th>2</th>\n",
       "      <td>B-geo</td>\n",
       "      <td>0.83</td>\n",
       "      <td>0.81</td>\n",
       "      <td>0.81</td>\n",
       "      <td>0.81</td>\n",
       "      <td>0.81</td>\n",
       "      <td>0.85</td>\n",
       "      <td>0.86</td>\n",
       "      <td>0.88</td>\n",
       "    </tr>\n",
       "    <tr>\n",
       "      <th>3</th>\n",
       "      <td>B-gpe</td>\n",
       "      <td>0.94</td>\n",
       "      <td>0.93</td>\n",
       "      <td>0.93</td>\n",
       "      <td>0.93</td>\n",
       "      <td>0.93</td>\n",
       "      <td>0.94</td>\n",
       "      <td>0.95</td>\n",
       "      <td>0.95</td>\n",
       "    </tr>\n",
       "    <tr>\n",
       "      <th>4</th>\n",
       "      <td>B-nat</td>\n",
       "      <td>0.29</td>\n",
       "      <td>0.49</td>\n",
       "      <td>0.49</td>\n",
       "      <td>0.49</td>\n",
       "      <td>0.49</td>\n",
       "      <td>0.51</td>\n",
       "      <td>0.45</td>\n",
       "      <td>0.52</td>\n",
       "    </tr>\n",
       "    <tr>\n",
       "      <th>5</th>\n",
       "      <td>B-org</td>\n",
       "      <td>0.59</td>\n",
       "      <td>0.57</td>\n",
       "      <td>0.57</td>\n",
       "      <td>0.57</td>\n",
       "      <td>0.57</td>\n",
       "      <td>0.65</td>\n",
       "      <td>0.66</td>\n",
       "      <td>0.74</td>\n",
       "    </tr>\n",
       "    <tr>\n",
       "      <th>6</th>\n",
       "      <td>B-per</td>\n",
       "      <td>0.73</td>\n",
       "      <td>0.71</td>\n",
       "      <td>0.71</td>\n",
       "      <td>0.71</td>\n",
       "      <td>0.71</td>\n",
       "      <td>0.82</td>\n",
       "      <td>0.83</td>\n",
       "      <td>0.84</td>\n",
       "    </tr>\n",
       "    <tr>\n",
       "      <th>7</th>\n",
       "      <td>B-tim</td>\n",
       "      <td>0.82</td>\n",
       "      <td>0.79</td>\n",
       "      <td>0.79</td>\n",
       "      <td>0.79</td>\n",
       "      <td>0.79</td>\n",
       "      <td>0.86</td>\n",
       "      <td>0.86</td>\n",
       "      <td>0.89</td>\n",
       "    </tr>\n",
       "    <tr>\n",
       "      <th>8</th>\n",
       "      <td>I-art</td>\n",
       "      <td>0.06</td>\n",
       "      <td>0.00</td>\n",
       "      <td>0.00</td>\n",
       "      <td>0.00</td>\n",
       "      <td>0.00</td>\n",
       "      <td>0.12</td>\n",
       "      <td>0.00</td>\n",
       "      <td>0.00</td>\n",
       "    </tr>\n",
       "    <tr>\n",
       "      <th>9</th>\n",
       "      <td>I-eve</td>\n",
       "      <td>0.37</td>\n",
       "      <td>0.26</td>\n",
       "      <td>0.26</td>\n",
       "      <td>0.26</td>\n",
       "      <td>0.26</td>\n",
       "      <td>0.13</td>\n",
       "      <td>0.26</td>\n",
       "      <td>0.37</td>\n",
       "    </tr>\n",
       "    <tr>\n",
       "      <th>10</th>\n",
       "      <td>I-geo</td>\n",
       "      <td>0.67</td>\n",
       "      <td>0.65</td>\n",
       "      <td>0.65</td>\n",
       "      <td>0.65</td>\n",
       "      <td>0.65</td>\n",
       "      <td>0.78</td>\n",
       "      <td>0.79</td>\n",
       "      <td>0.79</td>\n",
       "    </tr>\n",
       "    <tr>\n",
       "      <th>11</th>\n",
       "      <td>I-gpe</td>\n",
       "      <td>0.69</td>\n",
       "      <td>0.69</td>\n",
       "      <td>0.69</td>\n",
       "      <td>0.69</td>\n",
       "      <td>0.69</td>\n",
       "      <td>0.71</td>\n",
       "      <td>0.76</td>\n",
       "      <td>0.73</td>\n",
       "    </tr>\n",
       "    <tr>\n",
       "      <th>12</th>\n",
       "      <td>I-nat</td>\n",
       "      <td>0.00</td>\n",
       "      <td>0.00</td>\n",
       "      <td>0.00</td>\n",
       "      <td>0.00</td>\n",
       "      <td>0.00</td>\n",
       "      <td>0.00</td>\n",
       "      <td>0.40</td>\n",
       "      <td>0.75</td>\n",
       "    </tr>\n",
       "    <tr>\n",
       "      <th>13</th>\n",
       "      <td>I-org</td>\n",
       "      <td>0.62</td>\n",
       "      <td>0.60</td>\n",
       "      <td>0.60</td>\n",
       "      <td>0.60</td>\n",
       "      <td>0.60</td>\n",
       "      <td>0.75</td>\n",
       "      <td>0.76</td>\n",
       "      <td>0.77</td>\n",
       "    </tr>\n",
       "    <tr>\n",
       "      <th>14</th>\n",
       "      <td>I-per</td>\n",
       "      <td>0.71</td>\n",
       "      <td>0.69</td>\n",
       "      <td>0.69</td>\n",
       "      <td>0.69</td>\n",
       "      <td>0.69</td>\n",
       "      <td>0.86</td>\n",
       "      <td>0.87</td>\n",
       "      <td>0.86</td>\n",
       "    </tr>\n",
       "    <tr>\n",
       "      <th>15</th>\n",
       "      <td>I-tim</td>\n",
       "      <td>0.20</td>\n",
       "      <td>0.24</td>\n",
       "      <td>0.24</td>\n",
       "      <td>0.24</td>\n",
       "      <td>0.24</td>\n",
       "      <td>0.71</td>\n",
       "      <td>0.73</td>\n",
       "      <td>0.77</td>\n",
       "    </tr>\n",
       "    <tr>\n",
       "      <th>16</th>\n",
       "      <td>O</td>\n",
       "      <td>0.99</td>\n",
       "      <td>0.98</td>\n",
       "      <td>0.98</td>\n",
       "      <td>0.98</td>\n",
       "      <td>0.98</td>\n",
       "      <td>0.99</td>\n",
       "      <td>0.99</td>\n",
       "      <td>0.99</td>\n",
       "    </tr>\n",
       "    <tr>\n",
       "      <th>17</th>\n",
       "      <td>PAD</td>\n",
       "      <td>1.00</td>\n",
       "      <td>1.00</td>\n",
       "      <td>1.00</td>\n",
       "      <td>1.00</td>\n",
       "      <td>1.00</td>\n",
       "      <td>1.00</td>\n",
       "      <td>1.00</td>\n",
       "      <td>1.00</td>\n",
       "    </tr>\n",
       "  </tbody>\n",
       "</table>\n",
       "</div>"
      ],
      "text/plain": [
       "   TagName  Baseline  FFNN   RNN   GRU  BiGRU  Model_RNN  Model_GRU  \\\n",
       "0    B-art      0.26  0.14  0.14  0.14   0.14       0.15       0.13   \n",
       "1    B-eve      0.28  0.31  0.31  0.31   0.31       0.31       0.33   \n",
       "2    B-geo      0.83  0.81  0.81  0.81   0.81       0.85       0.86   \n",
       "3    B-gpe      0.94  0.93  0.93  0.93   0.93       0.94       0.95   \n",
       "4    B-nat      0.29  0.49  0.49  0.49   0.49       0.51       0.45   \n",
       "5    B-org      0.59  0.57  0.57  0.57   0.57       0.65       0.66   \n",
       "6    B-per      0.73  0.71  0.71  0.71   0.71       0.82       0.83   \n",
       "7    B-tim      0.82  0.79  0.79  0.79   0.79       0.86       0.86   \n",
       "8    I-art      0.06  0.00  0.00  0.00   0.00       0.12       0.00   \n",
       "9    I-eve      0.37  0.26  0.26  0.26   0.26       0.13       0.26   \n",
       "10   I-geo      0.67  0.65  0.65  0.65   0.65       0.78       0.79   \n",
       "11   I-gpe      0.69  0.69  0.69  0.69   0.69       0.71       0.76   \n",
       "12   I-nat      0.00  0.00  0.00  0.00   0.00       0.00       0.40   \n",
       "13   I-org      0.62  0.60  0.60  0.60   0.60       0.75       0.76   \n",
       "14   I-per      0.71  0.69  0.69  0.69   0.69       0.86       0.87   \n",
       "15   I-tim      0.20  0.24  0.24  0.24   0.24       0.71       0.73   \n",
       "16       O      0.99  0.98  0.98  0.98   0.98       0.99       0.99   \n",
       "17     PAD      1.00  1.00  1.00  1.00   1.00       1.00       1.00   \n",
       "\n",
       "    Model_BGRU  \n",
       "0         0.03  \n",
       "1         0.47  \n",
       "2         0.88  \n",
       "3         0.95  \n",
       "4         0.52  \n",
       "5         0.74  \n",
       "6         0.84  \n",
       "7         0.89  \n",
       "8         0.00  \n",
       "9         0.37  \n",
       "10        0.79  \n",
       "11        0.73  \n",
       "12        0.75  \n",
       "13        0.77  \n",
       "14        0.86  \n",
       "15        0.77  \n",
       "16        0.99  \n",
       "17        1.00  "
      ]
     },
     "execution_count": 45,
     "metadata": {},
     "output_type": "execute_result"
    }
   ],
   "source": [
    "# predict on X for model RNN\n",
    "y_pred = to_categorical(RNN.predict_classes(X_te)).reshape(-1,18)\n",
    "# compute f1 score for RNN model\n",
    "f1_lst = f1_score(y_test, y_pred, average=None)\n",
    "f1_lst = [np.round(elem,2) for elem in f1_lst]\n",
    "df['Model_RNN'] = f1_lst\n",
    "\n",
    "# predict on X for model GRU\n",
    "y_pred = to_categorical(GRU2.predict_classes(X_te)).reshape(-1,18)\n",
    "# compute f1 score for GRU model\n",
    "f1_lst = f1_score(y_test, y_pred, average=None)\n",
    "f1_lst = [np.round(elem,2) for elem in f1_lst]\n",
    "df['Model_GRU'] = f1_lst\n",
    "\n",
    "# predict on X for model Bidirectional GRU\n",
    "y_pred = to_categorical(BGRU.predict_classes(X_te)).reshape(-1,18)\n",
    "# compute f1 score for Bidirectional GRU model\n",
    "f1_lst = f1_score(y_test, y_pred, average=None)\n",
    "f1_lst = [np.round(elem,2) for elem in f1_lst]\n",
    "df['Model_BGRU'] = f1_lst\n",
    "\n",
    "print(\"f1 score for each tag and for each model\")\n",
    "df"
   ]
  },
  {
   "cell_type": "code",
   "execution_count": 39,
   "metadata": {},
   "outputs": [
    {
     "data": {
      "image/png": "[encoded data removed]",
      "text/plain": [
       "<Figure size 1152x504 with 1 Axes>"
      ]
     },
     "metadata": {
      "needs_background": "light"
     },
     "output_type": "display_data"
    }
   ],
   "source": [
    "fig, ax = plt.subplots(figsize=(16,7))\n",
    "\n",
    "# set width of bar\n",
    "barWidth = 0.10\n",
    "pos = list(range(len(df['TagName']))) \n",
    "\n",
    "# Set position of bar on X axis\n",
    "r1 = np.arange(len(f1_lst))\n",
    "r2 = [x + barWidth for x in r1]\n",
    "r3 = [x + barWidth for x in r2]\n",
    "r4 = [x + barWidth for x in r3]\n",
    "r5 = [x + barWidth for x in r4]\n",
    "\n",
    "\n",
    "# Make the plot\n",
    "plt.bar(r1, df['Baseline'], color='purple', width=barWidth, edgecolor='white', label='Baseline')\n",
    "plt.bar(r2, df['Model_FFNN'], color='r', width=barWidth, edgecolor='white', label='Model FFNN')\n",
    "plt.bar(r3, df['Model_RNN'], color='green', width=barWidth, edgecolor='white', label='Model RNN')\n",
    "plt.bar(r4, df['Model_GRU'], color='skyblue', width=barWidth, edgecolor='white', label='Model GRU')\n",
    "plt.bar(r5, df['Model_BGRU'], color='#997e5f', width=barWidth, edgecolor='white', label='Model BGRU')\n",
    " \n",
    "# Add xticks on the middle of the group bars\n",
    "ax.set_xlabel('Tags for each model', fontweight='bold')\n",
    "ax.set_ylabel('f1 score', fontweight='bold')\n",
    "# Set the position of the x ticks\n",
    "ax.set_xticks([p + 1.5 * barWidth for p in pos])\n",
    "# Set the labels for the x ticks\n",
    "ax.set_xticklabels(df['TagName'])\n",
    "\n",
    "# Setting the x-axis and y-axis limits\n",
    "plt.xlim(min(pos)-barWidth, max(pos)+barWidth*4)\n",
    "plt.ylim(0, max(df['Model_FFNN']))\n",
    "\n",
    "# Create legend & Show graphic\n",
    "plt.legend(loc='best')\n",
    "plt.show()"
   ]
  },
  {
   "cell_type": "markdown",
   "metadata": {},
   "source": [
    "### Comparing performance of each model\n",
    "We can compare different model performance by comparing metric f1 score, loss vs epoch plot, accuracy/loss values and the PCA visualization graphs. \n",
    "\n",
    "**F1 SCORE:** Overall, our FFNN model has a lower performance for each tag with lower f1 scores.<br> \n",
    "Baseline model is predicting better than other models for tags such as 'B-art' and 'I-eve'. Though BiGRU has a greater f1 score for most tags, we also observed that Model BiGRU and FFNN doesn't predict the tags 'I-art' and 'I-nat'. On the other hand, Model GRU predicts all the tags and has slightly lower f1 score than the model Bi-GRU for most tags. GRU has a higher f1 score than BiGRU by 0.20 for 'B-nat' tag.\n",
    "\n",
    "**LOSS VS EPOCH:** plot for train and test set: Models SimpleRNN, GRU and BiGRU are all overfitting. Model FFNN has a very good train and test loss. \n",
    "\n",
    "**PCA plots:** We can summarize on comparing the visualization features, that there is more separation of tags in model FFNN, followed by model GRU. \n",
    "\n",
    "Overall, GRU model is the best model as it has a very good f1 score with good classification performance for all tags."
   ]
  },
  {
   "cell_type": "markdown",
   "metadata": {},
   "source": [
    "### Tags having lowest f1 score\n",
    "We can say Tags 'B-art' with tag index 0 and 'I-art' with tag index 8 has the lowest f1 score comparing all the models, by examining f1 score table and plot."
   ]
  },
  {
   "cell_type": "markdown",
   "metadata": {},
   "source": [
    "From f1 score table and f1 score grouped bar plot above we notice that the f1 score metric is low for the tags 'B-art' and 'I-art'. This would mean that the model prediction is incorrect for these two tags and hence we picked an example where the sequence contains these two tags and stored it in the variable 'common' for analysis below."
   ]
  },
  {
   "cell_type": "code",
   "execution_count": 53,
   "metadata": {
    "scrolled": true
   },
   "outputs": [
    {
     "name": "stdout",
     "output_type": "stream",
     "text": [
      "8 0\n"
     ]
    }
   ],
   "source": [
    "#Finding a common observation having tag 'I-art' and 'B-art'\n",
    "i_art=tag2idx['I-art']\n",
    "b_art=tag2idx['B-art']\n",
    "\n",
    "print(i_art, b_art)\n",
    "tag_i_art=np.where(y_org==i_art)\n",
    "tag_b_art=np.where(y_org==b_art)\n",
    "\n",
    "common=np.intersect1d(tag_i_art[0], tag_b_art[0])"
   ]
  },
  {
   "cell_type": "code",
   "execution_count": 47,
   "metadata": {},
   "outputs": [],
   "source": [
    "# selecting the first row (sequence) from the variable common which contains \n",
    "# both 'B-art' and 'I-art' tag to show our example where the prediction is incorrect.\n",
    "row_num = common[0]   \n",
    "FFNN.compile(optimizer=optimizer, loss=loss, metrics=metrics)\n",
    "RNN.compile(optimizer=optimizer, loss=loss, metrics=metrics)\n",
    "GRU2.compile(optimizer=optimizer, loss=loss, metrics=metrics)\n",
    "BGRU.compile(optimizer=optimizer, loss=loss, metrics=metrics)"
   ]
  },
  {
   "cell_type": "code",
   "execution_count": 48,
   "metadata": {},
   "outputs": [],
   "source": [
    "ffnn_y_pred=FFNN.predict_classes(np.expand_dims(X[row_num], axis=0))\n",
    "rnn_y_pred=RNN.predict_classes(np.expand_dims(X[row_num], axis=0))\n",
    "gru1_y_pred=GRU2.predict_classes(np.expand_dims(X[row_num], axis=0))\n",
    "bgru_y_pred=BGRU.predict_classes(np.expand_dims(X[row_num], axis=0))"
   ]
  },
  {
   "cell_type": "code",
   "execution_count": 49,
   "metadata": {},
   "outputs": [],
   "source": [
    "predictions=pd.DataFrame({'Words' : X[row_num], 'y_true' : y_org[row_num] , 'baseline' : baseline[X[row_num]].ravel(),\n",
    "                          'model_FFNN' : ffnn_y_pred.ravel(),\n",
    "                          'model_RNN' : rnn_y_pred.ravel(), 'model_GRU': gru1_y_pred.ravel(),\n",
    "                          'model_BGRU' : bgru_y_pred.ravel(),}, index=np.array(range(max_len)))"
   ]
  },
  {
   "cell_type": "code",
   "execution_count": 50,
   "metadata": {},
   "outputs": [],
   "source": [
    "predictions['Words']=predictions['Words'].map(idx2word)\n",
    "predictions['y_true']=predictions['y_true'].map(idx2tag)\n",
    "predictions['baseline']=predictions['baseline'].map(idx2tag)\n",
    "predictions['model_FFNN']=predictions['model_FFNN'].map(idx2tag)\n",
    "predictions['model_RNN']=predictions['model_RNN'].map(idx2tag)\n",
    "predictions['model_GRU']=predictions['model_GRU'].map(idx2tag)\n",
    "predictions['model_BGRU']=predictions['model_BGRU'].map(idx2tag)"
   ]
  },
  {
   "cell_type": "code",
   "execution_count": 54,
   "metadata": {},
   "outputs": [],
   "source": [
    "def highlight_errors(s):\n",
    "    is_max = s == s.y_true\n",
    "    return ['' if v or key=='Words' else 'color: red' for key,v in is_max.iteritems()]"
   ]
  },
  {
   "cell_type": "markdown",
   "metadata": {},
   "source": [
    "**Visiualizing misclassification for with an example**"
   ]
  },
  {
   "cell_type": "code",
   "execution_count": 55,
   "metadata": {},
   "outputs": [
    {
     "data": {
      "text/html": [
       "<style  type=\"text/css\" >\n",
       "    #T_98743df4_620f_11e9_ac33_5399f04dd5f1row0_col3 {\n",
       "            color:  red;\n",
       "        }    #T_98743df4_620f_11e9_ac33_5399f04dd5f1row0_col4 {\n",
       "            color:  red;\n",
       "        }    #T_98743df4_620f_11e9_ac33_5399f04dd5f1row0_col5 {\n",
       "            color:  red;\n",
       "        }    #T_98743df4_620f_11e9_ac33_5399f04dd5f1row2_col3 {\n",
       "            color:  red;\n",
       "        }    #T_98743df4_620f_11e9_ac33_5399f04dd5f1row2_col4 {\n",
       "            color:  red;\n",
       "        }    #T_98743df4_620f_11e9_ac33_5399f04dd5f1row2_col5 {\n",
       "            color:  red;\n",
       "        }    #T_98743df4_620f_11e9_ac33_5399f04dd5f1row3_col3 {\n",
       "            color:  red;\n",
       "        }    #T_98743df4_620f_11e9_ac33_5399f04dd5f1row3_col4 {\n",
       "            color:  red;\n",
       "        }    #T_98743df4_620f_11e9_ac33_5399f04dd5f1row6_col3 {\n",
       "            color:  red;\n",
       "        }    #T_98743df4_620f_11e9_ac33_5399f04dd5f1row6_col4 {\n",
       "            color:  red;\n",
       "        }    #T_98743df4_620f_11e9_ac33_5399f04dd5f1row6_col5 {\n",
       "            color:  red;\n",
       "        }    #T_98743df4_620f_11e9_ac33_5399f04dd5f1row6_col6 {\n",
       "            color:  red;\n",
       "        }    #T_98743df4_620f_11e9_ac33_5399f04dd5f1row7_col3 {\n",
       "            color:  red;\n",
       "        }    #T_98743df4_620f_11e9_ac33_5399f04dd5f1row7_col4 {\n",
       "            color:  red;\n",
       "        }    #T_98743df4_620f_11e9_ac33_5399f04dd5f1row7_col5 {\n",
       "            color:  red;\n",
       "        }    #T_98743df4_620f_11e9_ac33_5399f04dd5f1row7_col6 {\n",
       "            color:  red;\n",
       "        }    #T_98743df4_620f_11e9_ac33_5399f04dd5f1row8_col2 {\n",
       "            color:  red;\n",
       "        }    #T_98743df4_620f_11e9_ac33_5399f04dd5f1row8_col3 {\n",
       "            color:  red;\n",
       "        }    #T_98743df4_620f_11e9_ac33_5399f04dd5f1row8_col4 {\n",
       "            color:  red;\n",
       "        }    #T_98743df4_620f_11e9_ac33_5399f04dd5f1row8_col5 {\n",
       "            color:  red;\n",
       "        }    #T_98743df4_620f_11e9_ac33_5399f04dd5f1row8_col6 {\n",
       "            color:  red;\n",
       "        }</style>  \n",
       "<table id=\"T_98743df4_620f_11e9_ac33_5399f04dd5f1\" > \n",
       "<thead>    <tr> \n",
       "        <th class=\"blank level0\" ></th> \n",
       "        <th class=\"col_heading level0 col0\" >Words</th> \n",
       "        <th class=\"col_heading level0 col1\" >y_true</th> \n",
       "        <th class=\"col_heading level0 col2\" >baseline</th> \n",
       "        <th class=\"col_heading level0 col3\" >model_FFNN</th> \n",
       "        <th class=\"col_heading level0 col4\" >model_RNN</th> \n",
       "        <th class=\"col_heading level0 col5\" >model_GRU</th> \n",
       "        <th class=\"col_heading level0 col6\" >model_BGRU</th> \n",
       "    </tr></thead> \n",
       "<tbody>    <tr> \n",
       "        <th id=\"T_98743df4_620f_11e9_ac33_5399f04dd5f1level0_row0\" class=\"row_heading level0 row0\" >0</th> \n",
       "        <td id=\"T_98743df4_620f_11e9_ac33_5399f04dd5f1row0_col0\" class=\"data row0 col0\" >SpaceShipOne</td> \n",
       "        <td id=\"T_98743df4_620f_11e9_ac33_5399f04dd5f1row0_col1\" class=\"data row0 col1\" >B-art</td> \n",
       "        <td id=\"T_98743df4_620f_11e9_ac33_5399f04dd5f1row0_col2\" class=\"data row0 col2\" >B-art</td> \n",
       "        <td id=\"T_98743df4_620f_11e9_ac33_5399f04dd5f1row0_col3\" class=\"data row0 col3\" >O</td> \n",
       "        <td id=\"T_98743df4_620f_11e9_ac33_5399f04dd5f1row0_col4\" class=\"data row0 col4\" >B-per</td> \n",
       "        <td id=\"T_98743df4_620f_11e9_ac33_5399f04dd5f1row0_col5\" class=\"data row0 col5\" >B-org</td> \n",
       "        <td id=\"T_98743df4_620f_11e9_ac33_5399f04dd5f1row0_col6\" class=\"data row0 col6\" >B-art</td> \n",
       "    </tr>    <tr> \n",
       "        <th id=\"T_98743df4_620f_11e9_ac33_5399f04dd5f1level0_row1\" class=\"row_heading level0 row1\" >1</th> \n",
       "        <td id=\"T_98743df4_620f_11e9_ac33_5399f04dd5f1row1_col0\" class=\"data row1 col0\" >designer</td> \n",
       "        <td id=\"T_98743df4_620f_11e9_ac33_5399f04dd5f1row1_col1\" class=\"data row1 col1\" >O</td> \n",
       "        <td id=\"T_98743df4_620f_11e9_ac33_5399f04dd5f1row1_col2\" class=\"data row1 col2\" >O</td> \n",
       "        <td id=\"T_98743df4_620f_11e9_ac33_5399f04dd5f1row1_col3\" class=\"data row1 col3\" >O</td> \n",
       "        <td id=\"T_98743df4_620f_11e9_ac33_5399f04dd5f1row1_col4\" class=\"data row1 col4\" >O</td> \n",
       "        <td id=\"T_98743df4_620f_11e9_ac33_5399f04dd5f1row1_col5\" class=\"data row1 col5\" >O</td> \n",
       "        <td id=\"T_98743df4_620f_11e9_ac33_5399f04dd5f1row1_col6\" class=\"data row1 col6\" >O</td> \n",
       "    </tr>    <tr> \n",
       "        <th id=\"T_98743df4_620f_11e9_ac33_5399f04dd5f1level0_row2\" class=\"row_heading level0 row2\" >2</th> \n",
       "        <td id=\"T_98743df4_620f_11e9_ac33_5399f04dd5f1row2_col0\" class=\"data row2 col0\" >Burt</td> \n",
       "        <td id=\"T_98743df4_620f_11e9_ac33_5399f04dd5f1row2_col1\" class=\"data row2 col1\" >B-per</td> \n",
       "        <td id=\"T_98743df4_620f_11e9_ac33_5399f04dd5f1row2_col2\" class=\"data row2 col2\" >B-per</td> \n",
       "        <td id=\"T_98743df4_620f_11e9_ac33_5399f04dd5f1row2_col3\" class=\"data row2 col3\" >O</td> \n",
       "        <td id=\"T_98743df4_620f_11e9_ac33_5399f04dd5f1row2_col4\" class=\"data row2 col4\" >O</td> \n",
       "        <td id=\"T_98743df4_620f_11e9_ac33_5399f04dd5f1row2_col5\" class=\"data row2 col5\" >O</td> \n",
       "        <td id=\"T_98743df4_620f_11e9_ac33_5399f04dd5f1row2_col6\" class=\"data row2 col6\" >B-per</td> \n",
       "    </tr>    <tr> \n",
       "        <th id=\"T_98743df4_620f_11e9_ac33_5399f04dd5f1level0_row3\" class=\"row_heading level0 row3\" >3</th> \n",
       "        <td id=\"T_98743df4_620f_11e9_ac33_5399f04dd5f1row3_col0\" class=\"data row3 col0\" >Rutan</td> \n",
       "        <td id=\"T_98743df4_620f_11e9_ac33_5399f04dd5f1row3_col1\" class=\"data row3 col1\" >I-per</td> \n",
       "        <td id=\"T_98743df4_620f_11e9_ac33_5399f04dd5f1row3_col2\" class=\"data row3 col2\" >I-per</td> \n",
       "        <td id=\"T_98743df4_620f_11e9_ac33_5399f04dd5f1row3_col3\" class=\"data row3 col3\" >O</td> \n",
       "        <td id=\"T_98743df4_620f_11e9_ac33_5399f04dd5f1row3_col4\" class=\"data row3 col4\" >O</td> \n",
       "        <td id=\"T_98743df4_620f_11e9_ac33_5399f04dd5f1row3_col5\" class=\"data row3 col5\" >I-per</td> \n",
       "        <td id=\"T_98743df4_620f_11e9_ac33_5399f04dd5f1row3_col6\" class=\"data row3 col6\" >I-per</td> \n",
       "    </tr>    <tr> \n",
       "        <th id=\"T_98743df4_620f_11e9_ac33_5399f04dd5f1level0_row4\" class=\"row_heading level0 row4\" >4</th> \n",
       "        <td id=\"T_98743df4_620f_11e9_ac33_5399f04dd5f1row4_col0\" class=\"data row4 col0\" >accepted</td> \n",
       "        <td id=\"T_98743df4_620f_11e9_ac33_5399f04dd5f1row4_col1\" class=\"data row4 col1\" >O</td> \n",
       "        <td id=\"T_98743df4_620f_11e9_ac33_5399f04dd5f1row4_col2\" class=\"data row4 col2\" >O</td> \n",
       "        <td id=\"T_98743df4_620f_11e9_ac33_5399f04dd5f1row4_col3\" class=\"data row4 col3\" >O</td> \n",
       "        <td id=\"T_98743df4_620f_11e9_ac33_5399f04dd5f1row4_col4\" class=\"data row4 col4\" >O</td> \n",
       "        <td id=\"T_98743df4_620f_11e9_ac33_5399f04dd5f1row4_col5\" class=\"data row4 col5\" >O</td> \n",
       "        <td id=\"T_98743df4_620f_11e9_ac33_5399f04dd5f1row4_col6\" class=\"data row4 col6\" >O</td> \n",
       "    </tr>    <tr> \n",
       "        <th id=\"T_98743df4_620f_11e9_ac33_5399f04dd5f1level0_row5\" class=\"row_heading level0 row5\" >5</th> \n",
       "        <td id=\"T_98743df4_620f_11e9_ac33_5399f04dd5f1row5_col0\" class=\"data row5 col0\" >the</td> \n",
       "        <td id=\"T_98743df4_620f_11e9_ac33_5399f04dd5f1row5_col1\" class=\"data row5 col1\" >O</td> \n",
       "        <td id=\"T_98743df4_620f_11e9_ac33_5399f04dd5f1row5_col2\" class=\"data row5 col2\" >O</td> \n",
       "        <td id=\"T_98743df4_620f_11e9_ac33_5399f04dd5f1row5_col3\" class=\"data row5 col3\" >O</td> \n",
       "        <td id=\"T_98743df4_620f_11e9_ac33_5399f04dd5f1row5_col4\" class=\"data row5 col4\" >O</td> \n",
       "        <td id=\"T_98743df4_620f_11e9_ac33_5399f04dd5f1row5_col5\" class=\"data row5 col5\" >O</td> \n",
       "        <td id=\"T_98743df4_620f_11e9_ac33_5399f04dd5f1row5_col6\" class=\"data row5 col6\" >O</td> \n",
       "    </tr>    <tr> \n",
       "        <th id=\"T_98743df4_620f_11e9_ac33_5399f04dd5f1level0_row6\" class=\"row_heading level0 row6\" >6</th> \n",
       "        <td id=\"T_98743df4_620f_11e9_ac33_5399f04dd5f1row6_col0\" class=\"data row6 col0\" >Ansari</td> \n",
       "        <td id=\"T_98743df4_620f_11e9_ac33_5399f04dd5f1row6_col1\" class=\"data row6 col1\" >B-art</td> \n",
       "        <td id=\"T_98743df4_620f_11e9_ac33_5399f04dd5f1row6_col2\" class=\"data row6 col2\" >B-art</td> \n",
       "        <td id=\"T_98743df4_620f_11e9_ac33_5399f04dd5f1row6_col3\" class=\"data row6 col3\" >O</td> \n",
       "        <td id=\"T_98743df4_620f_11e9_ac33_5399f04dd5f1row6_col4\" class=\"data row6 col4\" >B-org</td> \n",
       "        <td id=\"T_98743df4_620f_11e9_ac33_5399f04dd5f1row6_col5\" class=\"data row6 col5\" >O</td> \n",
       "        <td id=\"T_98743df4_620f_11e9_ac33_5399f04dd5f1row6_col6\" class=\"data row6 col6\" >B-org</td> \n",
       "    </tr>    <tr> \n",
       "        <th id=\"T_98743df4_620f_11e9_ac33_5399f04dd5f1level0_row7\" class=\"row_heading level0 row7\" >7</th> \n",
       "        <td id=\"T_98743df4_620f_11e9_ac33_5399f04dd5f1row7_col0\" class=\"data row7 col0\" >X</td> \n",
       "        <td id=\"T_98743df4_620f_11e9_ac33_5399f04dd5f1row7_col1\" class=\"data row7 col1\" >I-art</td> \n",
       "        <td id=\"T_98743df4_620f_11e9_ac33_5399f04dd5f1row7_col2\" class=\"data row7 col2\" >I-art</td> \n",
       "        <td id=\"T_98743df4_620f_11e9_ac33_5399f04dd5f1row7_col3\" class=\"data row7 col3\" >O</td> \n",
       "        <td id=\"T_98743df4_620f_11e9_ac33_5399f04dd5f1row7_col4\" class=\"data row7 col4\" >I-org</td> \n",
       "        <td id=\"T_98743df4_620f_11e9_ac33_5399f04dd5f1row7_col5\" class=\"data row7 col5\" >I-org</td> \n",
       "        <td id=\"T_98743df4_620f_11e9_ac33_5399f04dd5f1row7_col6\" class=\"data row7 col6\" >I-org</td> \n",
       "    </tr>    <tr> \n",
       "        <th id=\"T_98743df4_620f_11e9_ac33_5399f04dd5f1level0_row8\" class=\"row_heading level0 row8\" >8</th> \n",
       "        <td id=\"T_98743df4_620f_11e9_ac33_5399f04dd5f1row8_col0\" class=\"data row8 col0\" >Prize</td> \n",
       "        <td id=\"T_98743df4_620f_11e9_ac33_5399f04dd5f1row8_col1\" class=\"data row8 col1\" >I-art</td> \n",
       "        <td id=\"T_98743df4_620f_11e9_ac33_5399f04dd5f1row8_col2\" class=\"data row8 col2\" >I-org</td> \n",
       "        <td id=\"T_98743df4_620f_11e9_ac33_5399f04dd5f1row8_col3\" class=\"data row8 col3\" >I-org</td> \n",
       "        <td id=\"T_98743df4_620f_11e9_ac33_5399f04dd5f1row8_col4\" class=\"data row8 col4\" >I-org</td> \n",
       "        <td id=\"T_98743df4_620f_11e9_ac33_5399f04dd5f1row8_col5\" class=\"data row8 col5\" >I-org</td> \n",
       "        <td id=\"T_98743df4_620f_11e9_ac33_5399f04dd5f1row8_col6\" class=\"data row8 col6\" >I-org</td> \n",
       "    </tr>    <tr> \n",
       "        <th id=\"T_98743df4_620f_11e9_ac33_5399f04dd5f1level0_row9\" class=\"row_heading level0 row9\" >9</th> \n",
       "        <td id=\"T_98743df4_620f_11e9_ac33_5399f04dd5f1row9_col0\" class=\"data row9 col0\" >money</td> \n",
       "        <td id=\"T_98743df4_620f_11e9_ac33_5399f04dd5f1row9_col1\" class=\"data row9 col1\" >O</td> \n",
       "        <td id=\"T_98743df4_620f_11e9_ac33_5399f04dd5f1row9_col2\" class=\"data row9 col2\" >O</td> \n",
       "        <td id=\"T_98743df4_620f_11e9_ac33_5399f04dd5f1row9_col3\" class=\"data row9 col3\" >O</td> \n",
       "        <td id=\"T_98743df4_620f_11e9_ac33_5399f04dd5f1row9_col4\" class=\"data row9 col4\" >O</td> \n",
       "        <td id=\"T_98743df4_620f_11e9_ac33_5399f04dd5f1row9_col5\" class=\"data row9 col5\" >O</td> \n",
       "        <td id=\"T_98743df4_620f_11e9_ac33_5399f04dd5f1row9_col6\" class=\"data row9 col6\" >O</td> \n",
       "    </tr>    <tr> \n",
       "        <th id=\"T_98743df4_620f_11e9_ac33_5399f04dd5f1level0_row10\" class=\"row_heading level0 row10\" >10</th> \n",
       "        <td id=\"T_98743df4_620f_11e9_ac33_5399f04dd5f1row10_col0\" class=\"data row10 col0\" >and</td> \n",
       "        <td id=\"T_98743df4_620f_11e9_ac33_5399f04dd5f1row10_col1\" class=\"data row10 col1\" >O</td> \n",
       "        <td id=\"T_98743df4_620f_11e9_ac33_5399f04dd5f1row10_col2\" class=\"data row10 col2\" >O</td> \n",
       "        <td id=\"T_98743df4_620f_11e9_ac33_5399f04dd5f1row10_col3\" class=\"data row10 col3\" >O</td> \n",
       "        <td id=\"T_98743df4_620f_11e9_ac33_5399f04dd5f1row10_col4\" class=\"data row10 col4\" >O</td> \n",
       "        <td id=\"T_98743df4_620f_11e9_ac33_5399f04dd5f1row10_col5\" class=\"data row10 col5\" >O</td> \n",
       "        <td id=\"T_98743df4_620f_11e9_ac33_5399f04dd5f1row10_col6\" class=\"data row10 col6\" >O</td> \n",
       "    </tr>    <tr> \n",
       "        <th id=\"T_98743df4_620f_11e9_ac33_5399f04dd5f1level0_row11\" class=\"row_heading level0 row11\" >11</th> \n",
       "        <td id=\"T_98743df4_620f_11e9_ac33_5399f04dd5f1row11_col0\" class=\"data row11 col0\" >a</td> \n",
       "        <td id=\"T_98743df4_620f_11e9_ac33_5399f04dd5f1row11_col1\" class=\"data row11 col1\" >O</td> \n",
       "        <td id=\"T_98743df4_620f_11e9_ac33_5399f04dd5f1row11_col2\" class=\"data row11 col2\" >O</td> \n",
       "        <td id=\"T_98743df4_620f_11e9_ac33_5399f04dd5f1row11_col3\" class=\"data row11 col3\" >O</td> \n",
       "        <td id=\"T_98743df4_620f_11e9_ac33_5399f04dd5f1row11_col4\" class=\"data row11 col4\" >O</td> \n",
       "        <td id=\"T_98743df4_620f_11e9_ac33_5399f04dd5f1row11_col5\" class=\"data row11 col5\" >O</td> \n",
       "        <td id=\"T_98743df4_620f_11e9_ac33_5399f04dd5f1row11_col6\" class=\"data row11 col6\" >O</td> \n",
       "    </tr>    <tr> \n",
       "        <th id=\"T_98743df4_620f_11e9_ac33_5399f04dd5f1level0_row12\" class=\"row_heading level0 row12\" >12</th> \n",
       "        <td id=\"T_98743df4_620f_11e9_ac33_5399f04dd5f1row12_col0\" class=\"data row12 col0\" >trophy</td> \n",
       "        <td id=\"T_98743df4_620f_11e9_ac33_5399f04dd5f1row12_col1\" class=\"data row12 col1\" >O</td> \n",
       "        <td id=\"T_98743df4_620f_11e9_ac33_5399f04dd5f1row12_col2\" class=\"data row12 col2\" >O</td> \n",
       "        <td id=\"T_98743df4_620f_11e9_ac33_5399f04dd5f1row12_col3\" class=\"data row12 col3\" >O</td> \n",
       "        <td id=\"T_98743df4_620f_11e9_ac33_5399f04dd5f1row12_col4\" class=\"data row12 col4\" >O</td> \n",
       "        <td id=\"T_98743df4_620f_11e9_ac33_5399f04dd5f1row12_col5\" class=\"data row12 col5\" >O</td> \n",
       "        <td id=\"T_98743df4_620f_11e9_ac33_5399f04dd5f1row12_col6\" class=\"data row12 col6\" >O</td> \n",
       "    </tr>    <tr> \n",
       "        <th id=\"T_98743df4_620f_11e9_ac33_5399f04dd5f1level0_row13\" class=\"row_heading level0 row13\" >13</th> \n",
       "        <td id=\"T_98743df4_620f_11e9_ac33_5399f04dd5f1row13_col0\" class=\"data row13 col0\" >on</td> \n",
       "        <td id=\"T_98743df4_620f_11e9_ac33_5399f04dd5f1row13_col1\" class=\"data row13 col1\" >O</td> \n",
       "        <td id=\"T_98743df4_620f_11e9_ac33_5399f04dd5f1row13_col2\" class=\"data row13 col2\" >O</td> \n",
       "        <td id=\"T_98743df4_620f_11e9_ac33_5399f04dd5f1row13_col3\" class=\"data row13 col3\" >O</td> \n",
       "        <td id=\"T_98743df4_620f_11e9_ac33_5399f04dd5f1row13_col4\" class=\"data row13 col4\" >O</td> \n",
       "        <td id=\"T_98743df4_620f_11e9_ac33_5399f04dd5f1row13_col5\" class=\"data row13 col5\" >O</td> \n",
       "        <td id=\"T_98743df4_620f_11e9_ac33_5399f04dd5f1row13_col6\" class=\"data row13 col6\" >O</td> \n",
       "    </tr>    <tr> \n",
       "        <th id=\"T_98743df4_620f_11e9_ac33_5399f04dd5f1level0_row14\" class=\"row_heading level0 row14\" >14</th> \n",
       "        <td id=\"T_98743df4_620f_11e9_ac33_5399f04dd5f1row14_col0\" class=\"data row14 col0\" >behalf</td> \n",
       "        <td id=\"T_98743df4_620f_11e9_ac33_5399f04dd5f1row14_col1\" class=\"data row14 col1\" >O</td> \n",
       "        <td id=\"T_98743df4_620f_11e9_ac33_5399f04dd5f1row14_col2\" class=\"data row14 col2\" >O</td> \n",
       "        <td id=\"T_98743df4_620f_11e9_ac33_5399f04dd5f1row14_col3\" class=\"data row14 col3\" >O</td> \n",
       "        <td id=\"T_98743df4_620f_11e9_ac33_5399f04dd5f1row14_col4\" class=\"data row14 col4\" >O</td> \n",
       "        <td id=\"T_98743df4_620f_11e9_ac33_5399f04dd5f1row14_col5\" class=\"data row14 col5\" >O</td> \n",
       "        <td id=\"T_98743df4_620f_11e9_ac33_5399f04dd5f1row14_col6\" class=\"data row14 col6\" >O</td> \n",
       "    </tr>    <tr> \n",
       "        <th id=\"T_98743df4_620f_11e9_ac33_5399f04dd5f1level0_row15\" class=\"row_heading level0 row15\" >15</th> \n",
       "        <td id=\"T_98743df4_620f_11e9_ac33_5399f04dd5f1row15_col0\" class=\"data row15 col0\" >of</td> \n",
       "        <td id=\"T_98743df4_620f_11e9_ac33_5399f04dd5f1row15_col1\" class=\"data row15 col1\" >O</td> \n",
       "        <td id=\"T_98743df4_620f_11e9_ac33_5399f04dd5f1row15_col2\" class=\"data row15 col2\" >O</td> \n",
       "        <td id=\"T_98743df4_620f_11e9_ac33_5399f04dd5f1row15_col3\" class=\"data row15 col3\" >O</td> \n",
       "        <td id=\"T_98743df4_620f_11e9_ac33_5399f04dd5f1row15_col4\" class=\"data row15 col4\" >O</td> \n",
       "        <td id=\"T_98743df4_620f_11e9_ac33_5399f04dd5f1row15_col5\" class=\"data row15 col5\" >O</td> \n",
       "        <td id=\"T_98743df4_620f_11e9_ac33_5399f04dd5f1row15_col6\" class=\"data row15 col6\" >O</td> \n",
       "    </tr>    <tr> \n",
       "        <th id=\"T_98743df4_620f_11e9_ac33_5399f04dd5f1level0_row16\" class=\"row_heading level0 row16\" >16</th> \n",
       "        <td id=\"T_98743df4_620f_11e9_ac33_5399f04dd5f1row16_col0\" class=\"data row16 col0\" >his</td> \n",
       "        <td id=\"T_98743df4_620f_11e9_ac33_5399f04dd5f1row16_col1\" class=\"data row16 col1\" >O</td> \n",
       "        <td id=\"T_98743df4_620f_11e9_ac33_5399f04dd5f1row16_col2\" class=\"data row16 col2\" >O</td> \n",
       "        <td id=\"T_98743df4_620f_11e9_ac33_5399f04dd5f1row16_col3\" class=\"data row16 col3\" >O</td> \n",
       "        <td id=\"T_98743df4_620f_11e9_ac33_5399f04dd5f1row16_col4\" class=\"data row16 col4\" >O</td> \n",
       "        <td id=\"T_98743df4_620f_11e9_ac33_5399f04dd5f1row16_col5\" class=\"data row16 col5\" >O</td> \n",
       "        <td id=\"T_98743df4_620f_11e9_ac33_5399f04dd5f1row16_col6\" class=\"data row16 col6\" >O</td> \n",
       "    </tr>    <tr> \n",
       "        <th id=\"T_98743df4_620f_11e9_ac33_5399f04dd5f1level0_row17\" class=\"row_heading level0 row17\" >17</th> \n",
       "        <td id=\"T_98743df4_620f_11e9_ac33_5399f04dd5f1row17_col0\" class=\"data row17 col0\" >team</td> \n",
       "        <td id=\"T_98743df4_620f_11e9_ac33_5399f04dd5f1row17_col1\" class=\"data row17 col1\" >O</td> \n",
       "        <td id=\"T_98743df4_620f_11e9_ac33_5399f04dd5f1row17_col2\" class=\"data row17 col2\" >O</td> \n",
       "        <td id=\"T_98743df4_620f_11e9_ac33_5399f04dd5f1row17_col3\" class=\"data row17 col3\" >O</td> \n",
       "        <td id=\"T_98743df4_620f_11e9_ac33_5399f04dd5f1row17_col4\" class=\"data row17 col4\" >O</td> \n",
       "        <td id=\"T_98743df4_620f_11e9_ac33_5399f04dd5f1row17_col5\" class=\"data row17 col5\" >O</td> \n",
       "        <td id=\"T_98743df4_620f_11e9_ac33_5399f04dd5f1row17_col6\" class=\"data row17 col6\" >O</td> \n",
       "    </tr>    <tr> \n",
       "        <th id=\"T_98743df4_620f_11e9_ac33_5399f04dd5f1level0_row18\" class=\"row_heading level0 row18\" >18</th> \n",
       "        <td id=\"T_98743df4_620f_11e9_ac33_5399f04dd5f1row18_col0\" class=\"data row18 col0\" >Saturday</td> \n",
       "        <td id=\"T_98743df4_620f_11e9_ac33_5399f04dd5f1row18_col1\" class=\"data row18 col1\" >B-tim</td> \n",
       "        <td id=\"T_98743df4_620f_11e9_ac33_5399f04dd5f1row18_col2\" class=\"data row18 col2\" >B-tim</td> \n",
       "        <td id=\"T_98743df4_620f_11e9_ac33_5399f04dd5f1row18_col3\" class=\"data row18 col3\" >B-tim</td> \n",
       "        <td id=\"T_98743df4_620f_11e9_ac33_5399f04dd5f1row18_col4\" class=\"data row18 col4\" >B-tim</td> \n",
       "        <td id=\"T_98743df4_620f_11e9_ac33_5399f04dd5f1row18_col5\" class=\"data row18 col5\" >B-tim</td> \n",
       "        <td id=\"T_98743df4_620f_11e9_ac33_5399f04dd5f1row18_col6\" class=\"data row18 col6\" >B-tim</td> \n",
       "    </tr>    <tr> \n",
       "        <th id=\"T_98743df4_620f_11e9_ac33_5399f04dd5f1level0_row19\" class=\"row_heading level0 row19\" >19</th> \n",
       "        <td id=\"T_98743df4_620f_11e9_ac33_5399f04dd5f1row19_col0\" class=\"data row19 col0\" >during</td> \n",
       "        <td id=\"T_98743df4_620f_11e9_ac33_5399f04dd5f1row19_col1\" class=\"data row19 col1\" >O</td> \n",
       "        <td id=\"T_98743df4_620f_11e9_ac33_5399f04dd5f1row19_col2\" class=\"data row19 col2\" >O</td> \n",
       "        <td id=\"T_98743df4_620f_11e9_ac33_5399f04dd5f1row19_col3\" class=\"data row19 col3\" >O</td> \n",
       "        <td id=\"T_98743df4_620f_11e9_ac33_5399f04dd5f1row19_col4\" class=\"data row19 col4\" >O</td> \n",
       "        <td id=\"T_98743df4_620f_11e9_ac33_5399f04dd5f1row19_col5\" class=\"data row19 col5\" >O</td> \n",
       "        <td id=\"T_98743df4_620f_11e9_ac33_5399f04dd5f1row19_col6\" class=\"data row19 col6\" >O</td> \n",
       "    </tr>    <tr> \n",
       "        <th id=\"T_98743df4_620f_11e9_ac33_5399f04dd5f1level0_row20\" class=\"row_heading level0 row20\" >20</th> \n",
       "        <td id=\"T_98743df4_620f_11e9_ac33_5399f04dd5f1row20_col0\" class=\"data row20 col0\" >an</td> \n",
       "        <td id=\"T_98743df4_620f_11e9_ac33_5399f04dd5f1row20_col1\" class=\"data row20 col1\" >O</td> \n",
       "        <td id=\"T_98743df4_620f_11e9_ac33_5399f04dd5f1row20_col2\" class=\"data row20 col2\" >O</td> \n",
       "        <td id=\"T_98743df4_620f_11e9_ac33_5399f04dd5f1row20_col3\" class=\"data row20 col3\" >O</td> \n",
       "        <td id=\"T_98743df4_620f_11e9_ac33_5399f04dd5f1row20_col4\" class=\"data row20 col4\" >O</td> \n",
       "        <td id=\"T_98743df4_620f_11e9_ac33_5399f04dd5f1row20_col5\" class=\"data row20 col5\" >O</td> \n",
       "        <td id=\"T_98743df4_620f_11e9_ac33_5399f04dd5f1row20_col6\" class=\"data row20 col6\" >O</td> \n",
       "    </tr>    <tr> \n",
       "        <th id=\"T_98743df4_620f_11e9_ac33_5399f04dd5f1level0_row21\" class=\"row_heading level0 row21\" >21</th> \n",
       "        <td id=\"T_98743df4_620f_11e9_ac33_5399f04dd5f1row21_col0\" class=\"data row21 col0\" >awards</td> \n",
       "        <td id=\"T_98743df4_620f_11e9_ac33_5399f04dd5f1row21_col1\" class=\"data row21 col1\" >O</td> \n",
       "        <td id=\"T_98743df4_620f_11e9_ac33_5399f04dd5f1row21_col2\" class=\"data row21 col2\" >O</td> \n",
       "        <td id=\"T_98743df4_620f_11e9_ac33_5399f04dd5f1row21_col3\" class=\"data row21 col3\" >O</td> \n",
       "        <td id=\"T_98743df4_620f_11e9_ac33_5399f04dd5f1row21_col4\" class=\"data row21 col4\" >O</td> \n",
       "        <td id=\"T_98743df4_620f_11e9_ac33_5399f04dd5f1row21_col5\" class=\"data row21 col5\" >O</td> \n",
       "        <td id=\"T_98743df4_620f_11e9_ac33_5399f04dd5f1row21_col6\" class=\"data row21 col6\" >O</td> \n",
       "    </tr>    <tr> \n",
       "        <th id=\"T_98743df4_620f_11e9_ac33_5399f04dd5f1level0_row22\" class=\"row_heading level0 row22\" >22</th> \n",
       "        <td id=\"T_98743df4_620f_11e9_ac33_5399f04dd5f1row22_col0\" class=\"data row22 col0\" >ceremony</td> \n",
       "        <td id=\"T_98743df4_620f_11e9_ac33_5399f04dd5f1row22_col1\" class=\"data row22 col1\" >O</td> \n",
       "        <td id=\"T_98743df4_620f_11e9_ac33_5399f04dd5f1row22_col2\" class=\"data row22 col2\" >O</td> \n",
       "        <td id=\"T_98743df4_620f_11e9_ac33_5399f04dd5f1row22_col3\" class=\"data row22 col3\" >O</td> \n",
       "        <td id=\"T_98743df4_620f_11e9_ac33_5399f04dd5f1row22_col4\" class=\"data row22 col4\" >O</td> \n",
       "        <td id=\"T_98743df4_620f_11e9_ac33_5399f04dd5f1row22_col5\" class=\"data row22 col5\" >O</td> \n",
       "        <td id=\"T_98743df4_620f_11e9_ac33_5399f04dd5f1row22_col6\" class=\"data row22 col6\" >O</td> \n",
       "    </tr>    <tr> \n",
       "        <th id=\"T_98743df4_620f_11e9_ac33_5399f04dd5f1level0_row23\" class=\"row_heading level0 row23\" >23</th> \n",
       "        <td id=\"T_98743df4_620f_11e9_ac33_5399f04dd5f1row23_col0\" class=\"data row23 col0\" >in</td> \n",
       "        <td id=\"T_98743df4_620f_11e9_ac33_5399f04dd5f1row23_col1\" class=\"data row23 col1\" >O</td> \n",
       "        <td id=\"T_98743df4_620f_11e9_ac33_5399f04dd5f1row23_col2\" class=\"data row23 col2\" >O</td> \n",
       "        <td id=\"T_98743df4_620f_11e9_ac33_5399f04dd5f1row23_col3\" class=\"data row23 col3\" >O</td> \n",
       "        <td id=\"T_98743df4_620f_11e9_ac33_5399f04dd5f1row23_col4\" class=\"data row23 col4\" >O</td> \n",
       "        <td id=\"T_98743df4_620f_11e9_ac33_5399f04dd5f1row23_col5\" class=\"data row23 col5\" >O</td> \n",
       "        <td id=\"T_98743df4_620f_11e9_ac33_5399f04dd5f1row23_col6\" class=\"data row23 col6\" >O</td> \n",
       "    </tr>    <tr> \n",
       "        <th id=\"T_98743df4_620f_11e9_ac33_5399f04dd5f1level0_row24\" class=\"row_heading level0 row24\" >24</th> \n",
       "        <td id=\"T_98743df4_620f_11e9_ac33_5399f04dd5f1row24_col0\" class=\"data row24 col0\" >the</td> \n",
       "        <td id=\"T_98743df4_620f_11e9_ac33_5399f04dd5f1row24_col1\" class=\"data row24 col1\" >O</td> \n",
       "        <td id=\"T_98743df4_620f_11e9_ac33_5399f04dd5f1row24_col2\" class=\"data row24 col2\" >O</td> \n",
       "        <td id=\"T_98743df4_620f_11e9_ac33_5399f04dd5f1row24_col3\" class=\"data row24 col3\" >O</td> \n",
       "        <td id=\"T_98743df4_620f_11e9_ac33_5399f04dd5f1row24_col4\" class=\"data row24 col4\" >O</td> \n",
       "        <td id=\"T_98743df4_620f_11e9_ac33_5399f04dd5f1row24_col5\" class=\"data row24 col5\" >O</td> \n",
       "        <td id=\"T_98743df4_620f_11e9_ac33_5399f04dd5f1row24_col6\" class=\"data row24 col6\" >O</td> \n",
       "    </tr>    <tr> \n",
       "        <th id=\"T_98743df4_620f_11e9_ac33_5399f04dd5f1level0_row25\" class=\"row_heading level0 row25\" >25</th> \n",
       "        <td id=\"T_98743df4_620f_11e9_ac33_5399f04dd5f1row25_col0\" class=\"data row25 col0\" >U.S.</td> \n",
       "        <td id=\"T_98743df4_620f_11e9_ac33_5399f04dd5f1row25_col1\" class=\"data row25 col1\" >B-geo</td> \n",
       "        <td id=\"T_98743df4_620f_11e9_ac33_5399f04dd5f1row25_col2\" class=\"data row25 col2\" >B-geo</td> \n",
       "        <td id=\"T_98743df4_620f_11e9_ac33_5399f04dd5f1row25_col3\" class=\"data row25 col3\" >B-geo</td> \n",
       "        <td id=\"T_98743df4_620f_11e9_ac33_5399f04dd5f1row25_col4\" class=\"data row25 col4\" >B-geo</td> \n",
       "        <td id=\"T_98743df4_620f_11e9_ac33_5399f04dd5f1row25_col5\" class=\"data row25 col5\" >B-geo</td> \n",
       "        <td id=\"T_98743df4_620f_11e9_ac33_5399f04dd5f1row25_col6\" class=\"data row25 col6\" >B-geo</td> \n",
       "    </tr>    <tr> \n",
       "        <th id=\"T_98743df4_620f_11e9_ac33_5399f04dd5f1level0_row26\" class=\"row_heading level0 row26\" >26</th> \n",
       "        <td id=\"T_98743df4_620f_11e9_ac33_5399f04dd5f1row26_col0\" class=\"data row26 col0\" >state</td> \n",
       "        <td id=\"T_98743df4_620f_11e9_ac33_5399f04dd5f1row26_col1\" class=\"data row26 col1\" >O</td> \n",
       "        <td id=\"T_98743df4_620f_11e9_ac33_5399f04dd5f1row26_col2\" class=\"data row26 col2\" >O</td> \n",
       "        <td id=\"T_98743df4_620f_11e9_ac33_5399f04dd5f1row26_col3\" class=\"data row26 col3\" >O</td> \n",
       "        <td id=\"T_98743df4_620f_11e9_ac33_5399f04dd5f1row26_col4\" class=\"data row26 col4\" >O</td> \n",
       "        <td id=\"T_98743df4_620f_11e9_ac33_5399f04dd5f1row26_col5\" class=\"data row26 col5\" >O</td> \n",
       "        <td id=\"T_98743df4_620f_11e9_ac33_5399f04dd5f1row26_col6\" class=\"data row26 col6\" >O</td> \n",
       "    </tr>    <tr> \n",
       "        <th id=\"T_98743df4_620f_11e9_ac33_5399f04dd5f1level0_row27\" class=\"row_heading level0 row27\" >27</th> \n",
       "        <td id=\"T_98743df4_620f_11e9_ac33_5399f04dd5f1row27_col0\" class=\"data row27 col0\" >of</td> \n",
       "        <td id=\"T_98743df4_620f_11e9_ac33_5399f04dd5f1row27_col1\" class=\"data row27 col1\" >O</td> \n",
       "        <td id=\"T_98743df4_620f_11e9_ac33_5399f04dd5f1row27_col2\" class=\"data row27 col2\" >O</td> \n",
       "        <td id=\"T_98743df4_620f_11e9_ac33_5399f04dd5f1row27_col3\" class=\"data row27 col3\" >O</td> \n",
       "        <td id=\"T_98743df4_620f_11e9_ac33_5399f04dd5f1row27_col4\" class=\"data row27 col4\" >O</td> \n",
       "        <td id=\"T_98743df4_620f_11e9_ac33_5399f04dd5f1row27_col5\" class=\"data row27 col5\" >O</td> \n",
       "        <td id=\"T_98743df4_620f_11e9_ac33_5399f04dd5f1row27_col6\" class=\"data row27 col6\" >O</td> \n",
       "    </tr>    <tr> \n",
       "        <th id=\"T_98743df4_620f_11e9_ac33_5399f04dd5f1level0_row28\" class=\"row_heading level0 row28\" >28</th> \n",
       "        <td id=\"T_98743df4_620f_11e9_ac33_5399f04dd5f1row28_col0\" class=\"data row28 col0\" >Missouri</td> \n",
       "        <td id=\"T_98743df4_620f_11e9_ac33_5399f04dd5f1row28_col1\" class=\"data row28 col1\" >B-geo</td> \n",
       "        <td id=\"T_98743df4_620f_11e9_ac33_5399f04dd5f1row28_col2\" class=\"data row28 col2\" >B-geo</td> \n",
       "        <td id=\"T_98743df4_620f_11e9_ac33_5399f04dd5f1row28_col3\" class=\"data row28 col3\" >B-geo</td> \n",
       "        <td id=\"T_98743df4_620f_11e9_ac33_5399f04dd5f1row28_col4\" class=\"data row28 col4\" >B-geo</td> \n",
       "        <td id=\"T_98743df4_620f_11e9_ac33_5399f04dd5f1row28_col5\" class=\"data row28 col5\" >B-geo</td> \n",
       "        <td id=\"T_98743df4_620f_11e9_ac33_5399f04dd5f1row28_col6\" class=\"data row28 col6\" >B-geo</td> \n",
       "    </tr>    <tr> \n",
       "        <th id=\"T_98743df4_620f_11e9_ac33_5399f04dd5f1level0_row29\" class=\"row_heading level0 row29\" >29</th> \n",
       "        <td id=\"T_98743df4_620f_11e9_ac33_5399f04dd5f1row29_col0\" class=\"data row29 col0\" >.</td> \n",
       "        <td id=\"T_98743df4_620f_11e9_ac33_5399f04dd5f1row29_col1\" class=\"data row29 col1\" >O</td> \n",
       "        <td id=\"T_98743df4_620f_11e9_ac33_5399f04dd5f1row29_col2\" class=\"data row29 col2\" >O</td> \n",
       "        <td id=\"T_98743df4_620f_11e9_ac33_5399f04dd5f1row29_col3\" class=\"data row29 col3\" >O</td> \n",
       "        <td id=\"T_98743df4_620f_11e9_ac33_5399f04dd5f1row29_col4\" class=\"data row29 col4\" >O</td> \n",
       "        <td id=\"T_98743df4_620f_11e9_ac33_5399f04dd5f1row29_col5\" class=\"data row29 col5\" >O</td> \n",
       "        <td id=\"T_98743df4_620f_11e9_ac33_5399f04dd5f1row29_col6\" class=\"data row29 col6\" >O</td> \n",
       "    </tr>    <tr> \n",
       "        <th id=\"T_98743df4_620f_11e9_ac33_5399f04dd5f1level0_row30\" class=\"row_heading level0 row30\" >30</th> \n",
       "        <td id=\"T_98743df4_620f_11e9_ac33_5399f04dd5f1row30_col0\" class=\"data row30 col0\" >ENDPAD</td> \n",
       "        <td id=\"T_98743df4_620f_11e9_ac33_5399f04dd5f1row30_col1\" class=\"data row30 col1\" >PAD</td> \n",
       "        <td id=\"T_98743df4_620f_11e9_ac33_5399f04dd5f1row30_col2\" class=\"data row30 col2\" >PAD</td> \n",
       "        <td id=\"T_98743df4_620f_11e9_ac33_5399f04dd5f1row30_col3\" class=\"data row30 col3\" >PAD</td> \n",
       "        <td id=\"T_98743df4_620f_11e9_ac33_5399f04dd5f1row30_col4\" class=\"data row30 col4\" >PAD</td> \n",
       "        <td id=\"T_98743df4_620f_11e9_ac33_5399f04dd5f1row30_col5\" class=\"data row30 col5\" >PAD</td> \n",
       "        <td id=\"T_98743df4_620f_11e9_ac33_5399f04dd5f1row30_col6\" class=\"data row30 col6\" >PAD</td> \n",
       "    </tr>    <tr> \n",
       "        <th id=\"T_98743df4_620f_11e9_ac33_5399f04dd5f1level0_row31\" class=\"row_heading level0 row31\" >31</th> \n",
       "        <td id=\"T_98743df4_620f_11e9_ac33_5399f04dd5f1row31_col0\" class=\"data row31 col0\" >ENDPAD</td> \n",
       "        <td id=\"T_98743df4_620f_11e9_ac33_5399f04dd5f1row31_col1\" class=\"data row31 col1\" >PAD</td> \n",
       "        <td id=\"T_98743df4_620f_11e9_ac33_5399f04dd5f1row31_col2\" class=\"data row31 col2\" >PAD</td> \n",
       "        <td id=\"T_98743df4_620f_11e9_ac33_5399f04dd5f1row31_col3\" class=\"data row31 col3\" >PAD</td> \n",
       "        <td id=\"T_98743df4_620f_11e9_ac33_5399f04dd5f1row31_col4\" class=\"data row31 col4\" >PAD</td> \n",
       "        <td id=\"T_98743df4_620f_11e9_ac33_5399f04dd5f1row31_col5\" class=\"data row31 col5\" >PAD</td> \n",
       "        <td id=\"T_98743df4_620f_11e9_ac33_5399f04dd5f1row31_col6\" class=\"data row31 col6\" >PAD</td> \n",
       "    </tr>    <tr> \n",
       "        <th id=\"T_98743df4_620f_11e9_ac33_5399f04dd5f1level0_row32\" class=\"row_heading level0 row32\" >32</th> \n",
       "        <td id=\"T_98743df4_620f_11e9_ac33_5399f04dd5f1row32_col0\" class=\"data row32 col0\" >ENDPAD</td> \n",
       "        <td id=\"T_98743df4_620f_11e9_ac33_5399f04dd5f1row32_col1\" class=\"data row32 col1\" >PAD</td> \n",
       "        <td id=\"T_98743df4_620f_11e9_ac33_5399f04dd5f1row32_col2\" class=\"data row32 col2\" >PAD</td> \n",
       "        <td id=\"T_98743df4_620f_11e9_ac33_5399f04dd5f1row32_col3\" class=\"data row32 col3\" >PAD</td> \n",
       "        <td id=\"T_98743df4_620f_11e9_ac33_5399f04dd5f1row32_col4\" class=\"data row32 col4\" >PAD</td> \n",
       "        <td id=\"T_98743df4_620f_11e9_ac33_5399f04dd5f1row32_col5\" class=\"data row32 col5\" >PAD</td> \n",
       "        <td id=\"T_98743df4_620f_11e9_ac33_5399f04dd5f1row32_col6\" class=\"data row32 col6\" >PAD</td> \n",
       "    </tr>    <tr> \n",
       "        <th id=\"T_98743df4_620f_11e9_ac33_5399f04dd5f1level0_row33\" class=\"row_heading level0 row33\" >33</th> \n",
       "        <td id=\"T_98743df4_620f_11e9_ac33_5399f04dd5f1row33_col0\" class=\"data row33 col0\" >ENDPAD</td> \n",
       "        <td id=\"T_98743df4_620f_11e9_ac33_5399f04dd5f1row33_col1\" class=\"data row33 col1\" >PAD</td> \n",
       "        <td id=\"T_98743df4_620f_11e9_ac33_5399f04dd5f1row33_col2\" class=\"data row33 col2\" >PAD</td> \n",
       "        <td id=\"T_98743df4_620f_11e9_ac33_5399f04dd5f1row33_col3\" class=\"data row33 col3\" >PAD</td> \n",
       "        <td id=\"T_98743df4_620f_11e9_ac33_5399f04dd5f1row33_col4\" class=\"data row33 col4\" >PAD</td> \n",
       "        <td id=\"T_98743df4_620f_11e9_ac33_5399f04dd5f1row33_col5\" class=\"data row33 col5\" >PAD</td> \n",
       "        <td id=\"T_98743df4_620f_11e9_ac33_5399f04dd5f1row33_col6\" class=\"data row33 col6\" >PAD</td> \n",
       "    </tr>    <tr> \n",
       "        <th id=\"T_98743df4_620f_11e9_ac33_5399f04dd5f1level0_row34\" class=\"row_heading level0 row34\" >34</th> \n",
       "        <td id=\"T_98743df4_620f_11e9_ac33_5399f04dd5f1row34_col0\" class=\"data row34 col0\" >ENDPAD</td> \n",
       "        <td id=\"T_98743df4_620f_11e9_ac33_5399f04dd5f1row34_col1\" class=\"data row34 col1\" >PAD</td> \n",
       "        <td id=\"T_98743df4_620f_11e9_ac33_5399f04dd5f1row34_col2\" class=\"data row34 col2\" >PAD</td> \n",
       "        <td id=\"T_98743df4_620f_11e9_ac33_5399f04dd5f1row34_col3\" class=\"data row34 col3\" >PAD</td> \n",
       "        <td id=\"T_98743df4_620f_11e9_ac33_5399f04dd5f1row34_col4\" class=\"data row34 col4\" >PAD</td> \n",
       "        <td id=\"T_98743df4_620f_11e9_ac33_5399f04dd5f1row34_col5\" class=\"data row34 col5\" >PAD</td> \n",
       "        <td id=\"T_98743df4_620f_11e9_ac33_5399f04dd5f1row34_col6\" class=\"data row34 col6\" >PAD</td> \n",
       "    </tr>    <tr> \n",
       "        <th id=\"T_98743df4_620f_11e9_ac33_5399f04dd5f1level0_row35\" class=\"row_heading level0 row35\" >35</th> \n",
       "        <td id=\"T_98743df4_620f_11e9_ac33_5399f04dd5f1row35_col0\" class=\"data row35 col0\" >ENDPAD</td> \n",
       "        <td id=\"T_98743df4_620f_11e9_ac33_5399f04dd5f1row35_col1\" class=\"data row35 col1\" >PAD</td> \n",
       "        <td id=\"T_98743df4_620f_11e9_ac33_5399f04dd5f1row35_col2\" class=\"data row35 col2\" >PAD</td> \n",
       "        <td id=\"T_98743df4_620f_11e9_ac33_5399f04dd5f1row35_col3\" class=\"data row35 col3\" >PAD</td> \n",
       "        <td id=\"T_98743df4_620f_11e9_ac33_5399f04dd5f1row35_col4\" class=\"data row35 col4\" >PAD</td> \n",
       "        <td id=\"T_98743df4_620f_11e9_ac33_5399f04dd5f1row35_col5\" class=\"data row35 col5\" >PAD</td> \n",
       "        <td id=\"T_98743df4_620f_11e9_ac33_5399f04dd5f1row35_col6\" class=\"data row35 col6\" >PAD</td> \n",
       "    </tr>    <tr> \n",
       "        <th id=\"T_98743df4_620f_11e9_ac33_5399f04dd5f1level0_row36\" class=\"row_heading level0 row36\" >36</th> \n",
       "        <td id=\"T_98743df4_620f_11e9_ac33_5399f04dd5f1row36_col0\" class=\"data row36 col0\" >ENDPAD</td> \n",
       "        <td id=\"T_98743df4_620f_11e9_ac33_5399f04dd5f1row36_col1\" class=\"data row36 col1\" >PAD</td> \n",
       "        <td id=\"T_98743df4_620f_11e9_ac33_5399f04dd5f1row36_col2\" class=\"data row36 col2\" >PAD</td> \n",
       "        <td id=\"T_98743df4_620f_11e9_ac33_5399f04dd5f1row36_col3\" class=\"data row36 col3\" >PAD</td> \n",
       "        <td id=\"T_98743df4_620f_11e9_ac33_5399f04dd5f1row36_col4\" class=\"data row36 col4\" >PAD</td> \n",
       "        <td id=\"T_98743df4_620f_11e9_ac33_5399f04dd5f1row36_col5\" class=\"data row36 col5\" >PAD</td> \n",
       "        <td id=\"T_98743df4_620f_11e9_ac33_5399f04dd5f1row36_col6\" class=\"data row36 col6\" >PAD</td> \n",
       "    </tr>    <tr> \n",
       "        <th id=\"T_98743df4_620f_11e9_ac33_5399f04dd5f1level0_row37\" class=\"row_heading level0 row37\" >37</th> \n",
       "        <td id=\"T_98743df4_620f_11e9_ac33_5399f04dd5f1row37_col0\" class=\"data row37 col0\" >ENDPAD</td> \n",
       "        <td id=\"T_98743df4_620f_11e9_ac33_5399f04dd5f1row37_col1\" class=\"data row37 col1\" >PAD</td> \n",
       "        <td id=\"T_98743df4_620f_11e9_ac33_5399f04dd5f1row37_col2\" class=\"data row37 col2\" >PAD</td> \n",
       "        <td id=\"T_98743df4_620f_11e9_ac33_5399f04dd5f1row37_col3\" class=\"data row37 col3\" >PAD</td> \n",
       "        <td id=\"T_98743df4_620f_11e9_ac33_5399f04dd5f1row37_col4\" class=\"data row37 col4\" >PAD</td> \n",
       "        <td id=\"T_98743df4_620f_11e9_ac33_5399f04dd5f1row37_col5\" class=\"data row37 col5\" >PAD</td> \n",
       "        <td id=\"T_98743df4_620f_11e9_ac33_5399f04dd5f1row37_col6\" class=\"data row37 col6\" >PAD</td> \n",
       "    </tr>    <tr> \n",
       "        <th id=\"T_98743df4_620f_11e9_ac33_5399f04dd5f1level0_row38\" class=\"row_heading level0 row38\" >38</th> \n",
       "        <td id=\"T_98743df4_620f_11e9_ac33_5399f04dd5f1row38_col0\" class=\"data row38 col0\" >ENDPAD</td> \n",
       "        <td id=\"T_98743df4_620f_11e9_ac33_5399f04dd5f1row38_col1\" class=\"data row38 col1\" >PAD</td> \n",
       "        <td id=\"T_98743df4_620f_11e9_ac33_5399f04dd5f1row38_col2\" class=\"data row38 col2\" >PAD</td> \n",
       "        <td id=\"T_98743df4_620f_11e9_ac33_5399f04dd5f1row38_col3\" class=\"data row38 col3\" >PAD</td> \n",
       "        <td id=\"T_98743df4_620f_11e9_ac33_5399f04dd5f1row38_col4\" class=\"data row38 col4\" >PAD</td> \n",
       "        <td id=\"T_98743df4_620f_11e9_ac33_5399f04dd5f1row38_col5\" class=\"data row38 col5\" >PAD</td> \n",
       "        <td id=\"T_98743df4_620f_11e9_ac33_5399f04dd5f1row38_col6\" class=\"data row38 col6\" >PAD</td> \n",
       "    </tr>    <tr> \n",
       "        <th id=\"T_98743df4_620f_11e9_ac33_5399f04dd5f1level0_row39\" class=\"row_heading level0 row39\" >39</th> \n",
       "        <td id=\"T_98743df4_620f_11e9_ac33_5399f04dd5f1row39_col0\" class=\"data row39 col0\" >ENDPAD</td> \n",
       "        <td id=\"T_98743df4_620f_11e9_ac33_5399f04dd5f1row39_col1\" class=\"data row39 col1\" >PAD</td> \n",
       "        <td id=\"T_98743df4_620f_11e9_ac33_5399f04dd5f1row39_col2\" class=\"data row39 col2\" >PAD</td> \n",
       "        <td id=\"T_98743df4_620f_11e9_ac33_5399f04dd5f1row39_col3\" class=\"data row39 col3\" >PAD</td> \n",
       "        <td id=\"T_98743df4_620f_11e9_ac33_5399f04dd5f1row39_col4\" class=\"data row39 col4\" >PAD</td> \n",
       "        <td id=\"T_98743df4_620f_11e9_ac33_5399f04dd5f1row39_col5\" class=\"data row39 col5\" >PAD</td> \n",
       "        <td id=\"T_98743df4_620f_11e9_ac33_5399f04dd5f1row39_col6\" class=\"data row39 col6\" >PAD</td> \n",
       "    </tr>    <tr> \n",
       "        <th id=\"T_98743df4_620f_11e9_ac33_5399f04dd5f1level0_row40\" class=\"row_heading level0 row40\" >40</th> \n",
       "        <td id=\"T_98743df4_620f_11e9_ac33_5399f04dd5f1row40_col0\" class=\"data row40 col0\" >ENDPAD</td> \n",
       "        <td id=\"T_98743df4_620f_11e9_ac33_5399f04dd5f1row40_col1\" class=\"data row40 col1\" >PAD</td> \n",
       "        <td id=\"T_98743df4_620f_11e9_ac33_5399f04dd5f1row40_col2\" class=\"data row40 col2\" >PAD</td> \n",
       "        <td id=\"T_98743df4_620f_11e9_ac33_5399f04dd5f1row40_col3\" class=\"data row40 col3\" >PAD</td> \n",
       "        <td id=\"T_98743df4_620f_11e9_ac33_5399f04dd5f1row40_col4\" class=\"data row40 col4\" >PAD</td> \n",
       "        <td id=\"T_98743df4_620f_11e9_ac33_5399f04dd5f1row40_col5\" class=\"data row40 col5\" >PAD</td> \n",
       "        <td id=\"T_98743df4_620f_11e9_ac33_5399f04dd5f1row40_col6\" class=\"data row40 col6\" >PAD</td> \n",
       "    </tr>    <tr> \n",
       "        <th id=\"T_98743df4_620f_11e9_ac33_5399f04dd5f1level0_row41\" class=\"row_heading level0 row41\" >41</th> \n",
       "        <td id=\"T_98743df4_620f_11e9_ac33_5399f04dd5f1row41_col0\" class=\"data row41 col0\" >ENDPAD</td> \n",
       "        <td id=\"T_98743df4_620f_11e9_ac33_5399f04dd5f1row41_col1\" class=\"data row41 col1\" >PAD</td> \n",
       "        <td id=\"T_98743df4_620f_11e9_ac33_5399f04dd5f1row41_col2\" class=\"data row41 col2\" >PAD</td> \n",
       "        <td id=\"T_98743df4_620f_11e9_ac33_5399f04dd5f1row41_col3\" class=\"data row41 col3\" >PAD</td> \n",
       "        <td id=\"T_98743df4_620f_11e9_ac33_5399f04dd5f1row41_col4\" class=\"data row41 col4\" >PAD</td> \n",
       "        <td id=\"T_98743df4_620f_11e9_ac33_5399f04dd5f1row41_col5\" class=\"data row41 col5\" >PAD</td> \n",
       "        <td id=\"T_98743df4_620f_11e9_ac33_5399f04dd5f1row41_col6\" class=\"data row41 col6\" >PAD</td> \n",
       "    </tr>    <tr> \n",
       "        <th id=\"T_98743df4_620f_11e9_ac33_5399f04dd5f1level0_row42\" class=\"row_heading level0 row42\" >42</th> \n",
       "        <td id=\"T_98743df4_620f_11e9_ac33_5399f04dd5f1row42_col0\" class=\"data row42 col0\" >ENDPAD</td> \n",
       "        <td id=\"T_98743df4_620f_11e9_ac33_5399f04dd5f1row42_col1\" class=\"data row42 col1\" >PAD</td> \n",
       "        <td id=\"T_98743df4_620f_11e9_ac33_5399f04dd5f1row42_col2\" class=\"data row42 col2\" >PAD</td> \n",
       "        <td id=\"T_98743df4_620f_11e9_ac33_5399f04dd5f1row42_col3\" class=\"data row42 col3\" >PAD</td> \n",
       "        <td id=\"T_98743df4_620f_11e9_ac33_5399f04dd5f1row42_col4\" class=\"data row42 col4\" >PAD</td> \n",
       "        <td id=\"T_98743df4_620f_11e9_ac33_5399f04dd5f1row42_col5\" class=\"data row42 col5\" >PAD</td> \n",
       "        <td id=\"T_98743df4_620f_11e9_ac33_5399f04dd5f1row42_col6\" class=\"data row42 col6\" >PAD</td> \n",
       "    </tr>    <tr> \n",
       "        <th id=\"T_98743df4_620f_11e9_ac33_5399f04dd5f1level0_row43\" class=\"row_heading level0 row43\" >43</th> \n",
       "        <td id=\"T_98743df4_620f_11e9_ac33_5399f04dd5f1row43_col0\" class=\"data row43 col0\" >ENDPAD</td> \n",
       "        <td id=\"T_98743df4_620f_11e9_ac33_5399f04dd5f1row43_col1\" class=\"data row43 col1\" >PAD</td> \n",
       "        <td id=\"T_98743df4_620f_11e9_ac33_5399f04dd5f1row43_col2\" class=\"data row43 col2\" >PAD</td> \n",
       "        <td id=\"T_98743df4_620f_11e9_ac33_5399f04dd5f1row43_col3\" class=\"data row43 col3\" >PAD</td> \n",
       "        <td id=\"T_98743df4_620f_11e9_ac33_5399f04dd5f1row43_col4\" class=\"data row43 col4\" >PAD</td> \n",
       "        <td id=\"T_98743df4_620f_11e9_ac33_5399f04dd5f1row43_col5\" class=\"data row43 col5\" >PAD</td> \n",
       "        <td id=\"T_98743df4_620f_11e9_ac33_5399f04dd5f1row43_col6\" class=\"data row43 col6\" >PAD</td> \n",
       "    </tr>    <tr> \n",
       "        <th id=\"T_98743df4_620f_11e9_ac33_5399f04dd5f1level0_row44\" class=\"row_heading level0 row44\" >44</th> \n",
       "        <td id=\"T_98743df4_620f_11e9_ac33_5399f04dd5f1row44_col0\" class=\"data row44 col0\" >ENDPAD</td> \n",
       "        <td id=\"T_98743df4_620f_11e9_ac33_5399f04dd5f1row44_col1\" class=\"data row44 col1\" >PAD</td> \n",
       "        <td id=\"T_98743df4_620f_11e9_ac33_5399f04dd5f1row44_col2\" class=\"data row44 col2\" >PAD</td> \n",
       "        <td id=\"T_98743df4_620f_11e9_ac33_5399f04dd5f1row44_col3\" class=\"data row44 col3\" >PAD</td> \n",
       "        <td id=\"T_98743df4_620f_11e9_ac33_5399f04dd5f1row44_col4\" class=\"data row44 col4\" >PAD</td> \n",
       "        <td id=\"T_98743df4_620f_11e9_ac33_5399f04dd5f1row44_col5\" class=\"data row44 col5\" >PAD</td> \n",
       "        <td id=\"T_98743df4_620f_11e9_ac33_5399f04dd5f1row44_col6\" class=\"data row44 col6\" >PAD</td> \n",
       "    </tr>    <tr> \n",
       "        <th id=\"T_98743df4_620f_11e9_ac33_5399f04dd5f1level0_row45\" class=\"row_heading level0 row45\" >45</th> \n",
       "        <td id=\"T_98743df4_620f_11e9_ac33_5399f04dd5f1row45_col0\" class=\"data row45 col0\" >ENDPAD</td> \n",
       "        <td id=\"T_98743df4_620f_11e9_ac33_5399f04dd5f1row45_col1\" class=\"data row45 col1\" >PAD</td> \n",
       "        <td id=\"T_98743df4_620f_11e9_ac33_5399f04dd5f1row45_col2\" class=\"data row45 col2\" >PAD</td> \n",
       "        <td id=\"T_98743df4_620f_11e9_ac33_5399f04dd5f1row45_col3\" class=\"data row45 col3\" >PAD</td> \n",
       "        <td id=\"T_98743df4_620f_11e9_ac33_5399f04dd5f1row45_col4\" class=\"data row45 col4\" >PAD</td> \n",
       "        <td id=\"T_98743df4_620f_11e9_ac33_5399f04dd5f1row45_col5\" class=\"data row45 col5\" >PAD</td> \n",
       "        <td id=\"T_98743df4_620f_11e9_ac33_5399f04dd5f1row45_col6\" class=\"data row45 col6\" >PAD</td> \n",
       "    </tr>    <tr> \n",
       "        <th id=\"T_98743df4_620f_11e9_ac33_5399f04dd5f1level0_row46\" class=\"row_heading level0 row46\" >46</th> \n",
       "        <td id=\"T_98743df4_620f_11e9_ac33_5399f04dd5f1row46_col0\" class=\"data row46 col0\" >ENDPAD</td> \n",
       "        <td id=\"T_98743df4_620f_11e9_ac33_5399f04dd5f1row46_col1\" class=\"data row46 col1\" >PAD</td> \n",
       "        <td id=\"T_98743df4_620f_11e9_ac33_5399f04dd5f1row46_col2\" class=\"data row46 col2\" >PAD</td> \n",
       "        <td id=\"T_98743df4_620f_11e9_ac33_5399f04dd5f1row46_col3\" class=\"data row46 col3\" >PAD</td> \n",
       "        <td id=\"T_98743df4_620f_11e9_ac33_5399f04dd5f1row46_col4\" class=\"data row46 col4\" >PAD</td> \n",
       "        <td id=\"T_98743df4_620f_11e9_ac33_5399f04dd5f1row46_col5\" class=\"data row46 col5\" >PAD</td> \n",
       "        <td id=\"T_98743df4_620f_11e9_ac33_5399f04dd5f1row46_col6\" class=\"data row46 col6\" >PAD</td> \n",
       "    </tr>    <tr> \n",
       "        <th id=\"T_98743df4_620f_11e9_ac33_5399f04dd5f1level0_row47\" class=\"row_heading level0 row47\" >47</th> \n",
       "        <td id=\"T_98743df4_620f_11e9_ac33_5399f04dd5f1row47_col0\" class=\"data row47 col0\" >ENDPAD</td> \n",
       "        <td id=\"T_98743df4_620f_11e9_ac33_5399f04dd5f1row47_col1\" class=\"data row47 col1\" >PAD</td> \n",
       "        <td id=\"T_98743df4_620f_11e9_ac33_5399f04dd5f1row47_col2\" class=\"data row47 col2\" >PAD</td> \n",
       "        <td id=\"T_98743df4_620f_11e9_ac33_5399f04dd5f1row47_col3\" class=\"data row47 col3\" >PAD</td> \n",
       "        <td id=\"T_98743df4_620f_11e9_ac33_5399f04dd5f1row47_col4\" class=\"data row47 col4\" >PAD</td> \n",
       "        <td id=\"T_98743df4_620f_11e9_ac33_5399f04dd5f1row47_col5\" class=\"data row47 col5\" >PAD</td> \n",
       "        <td id=\"T_98743df4_620f_11e9_ac33_5399f04dd5f1row47_col6\" class=\"data row47 col6\" >PAD</td> \n",
       "    </tr>    <tr> \n",
       "        <th id=\"T_98743df4_620f_11e9_ac33_5399f04dd5f1level0_row48\" class=\"row_heading level0 row48\" >48</th> \n",
       "        <td id=\"T_98743df4_620f_11e9_ac33_5399f04dd5f1row48_col0\" class=\"data row48 col0\" >ENDPAD</td> \n",
       "        <td id=\"T_98743df4_620f_11e9_ac33_5399f04dd5f1row48_col1\" class=\"data row48 col1\" >PAD</td> \n",
       "        <td id=\"T_98743df4_620f_11e9_ac33_5399f04dd5f1row48_col2\" class=\"data row48 col2\" >PAD</td> \n",
       "        <td id=\"T_98743df4_620f_11e9_ac33_5399f04dd5f1row48_col3\" class=\"data row48 col3\" >PAD</td> \n",
       "        <td id=\"T_98743df4_620f_11e9_ac33_5399f04dd5f1row48_col4\" class=\"data row48 col4\" >PAD</td> \n",
       "        <td id=\"T_98743df4_620f_11e9_ac33_5399f04dd5f1row48_col5\" class=\"data row48 col5\" >PAD</td> \n",
       "        <td id=\"T_98743df4_620f_11e9_ac33_5399f04dd5f1row48_col6\" class=\"data row48 col6\" >PAD</td> \n",
       "    </tr>    <tr> \n",
       "        <th id=\"T_98743df4_620f_11e9_ac33_5399f04dd5f1level0_row49\" class=\"row_heading level0 row49\" >49</th> \n",
       "        <td id=\"T_98743df4_620f_11e9_ac33_5399f04dd5f1row49_col0\" class=\"data row49 col0\" >ENDPAD</td> \n",
       "        <td id=\"T_98743df4_620f_11e9_ac33_5399f04dd5f1row49_col1\" class=\"data row49 col1\" >PAD</td> \n",
       "        <td id=\"T_98743df4_620f_11e9_ac33_5399f04dd5f1row49_col2\" class=\"data row49 col2\" >PAD</td> \n",
       "        <td id=\"T_98743df4_620f_11e9_ac33_5399f04dd5f1row49_col3\" class=\"data row49 col3\" >PAD</td> \n",
       "        <td id=\"T_98743df4_620f_11e9_ac33_5399f04dd5f1row49_col4\" class=\"data row49 col4\" >PAD</td> \n",
       "        <td id=\"T_98743df4_620f_11e9_ac33_5399f04dd5f1row49_col5\" class=\"data row49 col5\" >PAD</td> \n",
       "        <td id=\"T_98743df4_620f_11e9_ac33_5399f04dd5f1row49_col6\" class=\"data row49 col6\" >PAD</td> \n",
       "    </tr>    <tr> \n",
       "        <th id=\"T_98743df4_620f_11e9_ac33_5399f04dd5f1level0_row50\" class=\"row_heading level0 row50\" >50</th> \n",
       "        <td id=\"T_98743df4_620f_11e9_ac33_5399f04dd5f1row50_col0\" class=\"data row50 col0\" >ENDPAD</td> \n",
       "        <td id=\"T_98743df4_620f_11e9_ac33_5399f04dd5f1row50_col1\" class=\"data row50 col1\" >PAD</td> \n",
       "        <td id=\"T_98743df4_620f_11e9_ac33_5399f04dd5f1row50_col2\" class=\"data row50 col2\" >PAD</td> \n",
       "        <td id=\"T_98743df4_620f_11e9_ac33_5399f04dd5f1row50_col3\" class=\"data row50 col3\" >PAD</td> \n",
       "        <td id=\"T_98743df4_620f_11e9_ac33_5399f04dd5f1row50_col4\" class=\"data row50 col4\" >PAD</td> \n",
       "        <td id=\"T_98743df4_620f_11e9_ac33_5399f04dd5f1row50_col5\" class=\"data row50 col5\" >PAD</td> \n",
       "        <td id=\"T_98743df4_620f_11e9_ac33_5399f04dd5f1row50_col6\" class=\"data row50 col6\" >PAD</td> \n",
       "    </tr>    <tr> \n",
       "        <th id=\"T_98743df4_620f_11e9_ac33_5399f04dd5f1level0_row51\" class=\"row_heading level0 row51\" >51</th> \n",
       "        <td id=\"T_98743df4_620f_11e9_ac33_5399f04dd5f1row51_col0\" class=\"data row51 col0\" >ENDPAD</td> \n",
       "        <td id=\"T_98743df4_620f_11e9_ac33_5399f04dd5f1row51_col1\" class=\"data row51 col1\" >PAD</td> \n",
       "        <td id=\"T_98743df4_620f_11e9_ac33_5399f04dd5f1row51_col2\" class=\"data row51 col2\" >PAD</td> \n",
       "        <td id=\"T_98743df4_620f_11e9_ac33_5399f04dd5f1row51_col3\" class=\"data row51 col3\" >PAD</td> \n",
       "        <td id=\"T_98743df4_620f_11e9_ac33_5399f04dd5f1row51_col4\" class=\"data row51 col4\" >PAD</td> \n",
       "        <td id=\"T_98743df4_620f_11e9_ac33_5399f04dd5f1row51_col5\" class=\"data row51 col5\" >PAD</td> \n",
       "        <td id=\"T_98743df4_620f_11e9_ac33_5399f04dd5f1row51_col6\" class=\"data row51 col6\" >PAD</td> \n",
       "    </tr>    <tr> \n",
       "        <th id=\"T_98743df4_620f_11e9_ac33_5399f04dd5f1level0_row52\" class=\"row_heading level0 row52\" >52</th> \n",
       "        <td id=\"T_98743df4_620f_11e9_ac33_5399f04dd5f1row52_col0\" class=\"data row52 col0\" >ENDPAD</td> \n",
       "        <td id=\"T_98743df4_620f_11e9_ac33_5399f04dd5f1row52_col1\" class=\"data row52 col1\" >PAD</td> \n",
       "        <td id=\"T_98743df4_620f_11e9_ac33_5399f04dd5f1row52_col2\" class=\"data row52 col2\" >PAD</td> \n",
       "        <td id=\"T_98743df4_620f_11e9_ac33_5399f04dd5f1row52_col3\" class=\"data row52 col3\" >PAD</td> \n",
       "        <td id=\"T_98743df4_620f_11e9_ac33_5399f04dd5f1row52_col4\" class=\"data row52 col4\" >PAD</td> \n",
       "        <td id=\"T_98743df4_620f_11e9_ac33_5399f04dd5f1row52_col5\" class=\"data row52 col5\" >PAD</td> \n",
       "        <td id=\"T_98743df4_620f_11e9_ac33_5399f04dd5f1row52_col6\" class=\"data row52 col6\" >PAD</td> \n",
       "    </tr>    <tr> \n",
       "        <th id=\"T_98743df4_620f_11e9_ac33_5399f04dd5f1level0_row53\" class=\"row_heading level0 row53\" >53</th> \n",
       "        <td id=\"T_98743df4_620f_11e9_ac33_5399f04dd5f1row53_col0\" class=\"data row53 col0\" >ENDPAD</td> \n",
       "        <td id=\"T_98743df4_620f_11e9_ac33_5399f04dd5f1row53_col1\" class=\"data row53 col1\" >PAD</td> \n",
       "        <td id=\"T_98743df4_620f_11e9_ac33_5399f04dd5f1row53_col2\" class=\"data row53 col2\" >PAD</td> \n",
       "        <td id=\"T_98743df4_620f_11e9_ac33_5399f04dd5f1row53_col3\" class=\"data row53 col3\" >PAD</td> \n",
       "        <td id=\"T_98743df4_620f_11e9_ac33_5399f04dd5f1row53_col4\" class=\"data row53 col4\" >PAD</td> \n",
       "        <td id=\"T_98743df4_620f_11e9_ac33_5399f04dd5f1row53_col5\" class=\"data row53 col5\" >PAD</td> \n",
       "        <td id=\"T_98743df4_620f_11e9_ac33_5399f04dd5f1row53_col6\" class=\"data row53 col6\" >PAD</td> \n",
       "    </tr>    <tr> \n",
       "        <th id=\"T_98743df4_620f_11e9_ac33_5399f04dd5f1level0_row54\" class=\"row_heading level0 row54\" >54</th> \n",
       "        <td id=\"T_98743df4_620f_11e9_ac33_5399f04dd5f1row54_col0\" class=\"data row54 col0\" >ENDPAD</td> \n",
       "        <td id=\"T_98743df4_620f_11e9_ac33_5399f04dd5f1row54_col1\" class=\"data row54 col1\" >PAD</td> \n",
       "        <td id=\"T_98743df4_620f_11e9_ac33_5399f04dd5f1row54_col2\" class=\"data row54 col2\" >PAD</td> \n",
       "        <td id=\"T_98743df4_620f_11e9_ac33_5399f04dd5f1row54_col3\" class=\"data row54 col3\" >PAD</td> \n",
       "        <td id=\"T_98743df4_620f_11e9_ac33_5399f04dd5f1row54_col4\" class=\"data row54 col4\" >PAD</td> \n",
       "        <td id=\"T_98743df4_620f_11e9_ac33_5399f04dd5f1row54_col5\" class=\"data row54 col5\" >PAD</td> \n",
       "        <td id=\"T_98743df4_620f_11e9_ac33_5399f04dd5f1row54_col6\" class=\"data row54 col6\" >PAD</td> \n",
       "    </tr>    <tr> \n",
       "        <th id=\"T_98743df4_620f_11e9_ac33_5399f04dd5f1level0_row55\" class=\"row_heading level0 row55\" >55</th> \n",
       "        <td id=\"T_98743df4_620f_11e9_ac33_5399f04dd5f1row55_col0\" class=\"data row55 col0\" >ENDPAD</td> \n",
       "        <td id=\"T_98743df4_620f_11e9_ac33_5399f04dd5f1row55_col1\" class=\"data row55 col1\" >PAD</td> \n",
       "        <td id=\"T_98743df4_620f_11e9_ac33_5399f04dd5f1row55_col2\" class=\"data row55 col2\" >PAD</td> \n",
       "        <td id=\"T_98743df4_620f_11e9_ac33_5399f04dd5f1row55_col3\" class=\"data row55 col3\" >PAD</td> \n",
       "        <td id=\"T_98743df4_620f_11e9_ac33_5399f04dd5f1row55_col4\" class=\"data row55 col4\" >PAD</td> \n",
       "        <td id=\"T_98743df4_620f_11e9_ac33_5399f04dd5f1row55_col5\" class=\"data row55 col5\" >PAD</td> \n",
       "        <td id=\"T_98743df4_620f_11e9_ac33_5399f04dd5f1row55_col6\" class=\"data row55 col6\" >PAD</td> \n",
       "    </tr>    <tr> \n",
       "        <th id=\"T_98743df4_620f_11e9_ac33_5399f04dd5f1level0_row56\" class=\"row_heading level0 row56\" >56</th> \n",
       "        <td id=\"T_98743df4_620f_11e9_ac33_5399f04dd5f1row56_col0\" class=\"data row56 col0\" >ENDPAD</td> \n",
       "        <td id=\"T_98743df4_620f_11e9_ac33_5399f04dd5f1row56_col1\" class=\"data row56 col1\" >PAD</td> \n",
       "        <td id=\"T_98743df4_620f_11e9_ac33_5399f04dd5f1row56_col2\" class=\"data row56 col2\" >PAD</td> \n",
       "        <td id=\"T_98743df4_620f_11e9_ac33_5399f04dd5f1row56_col3\" class=\"data row56 col3\" >PAD</td> \n",
       "        <td id=\"T_98743df4_620f_11e9_ac33_5399f04dd5f1row56_col4\" class=\"data row56 col4\" >PAD</td> \n",
       "        <td id=\"T_98743df4_620f_11e9_ac33_5399f04dd5f1row56_col5\" class=\"data row56 col5\" >PAD</td> \n",
       "        <td id=\"T_98743df4_620f_11e9_ac33_5399f04dd5f1row56_col6\" class=\"data row56 col6\" >PAD</td> \n",
       "    </tr>    <tr> \n",
       "        <th id=\"T_98743df4_620f_11e9_ac33_5399f04dd5f1level0_row57\" class=\"row_heading level0 row57\" >57</th> \n",
       "        <td id=\"T_98743df4_620f_11e9_ac33_5399f04dd5f1row57_col0\" class=\"data row57 col0\" >ENDPAD</td> \n",
       "        <td id=\"T_98743df4_620f_11e9_ac33_5399f04dd5f1row57_col1\" class=\"data row57 col1\" >PAD</td> \n",
       "        <td id=\"T_98743df4_620f_11e9_ac33_5399f04dd5f1row57_col2\" class=\"data row57 col2\" >PAD</td> \n",
       "        <td id=\"T_98743df4_620f_11e9_ac33_5399f04dd5f1row57_col3\" class=\"data row57 col3\" >PAD</td> \n",
       "        <td id=\"T_98743df4_620f_11e9_ac33_5399f04dd5f1row57_col4\" class=\"data row57 col4\" >PAD</td> \n",
       "        <td id=\"T_98743df4_620f_11e9_ac33_5399f04dd5f1row57_col5\" class=\"data row57 col5\" >PAD</td> \n",
       "        <td id=\"T_98743df4_620f_11e9_ac33_5399f04dd5f1row57_col6\" class=\"data row57 col6\" >PAD</td> \n",
       "    </tr>    <tr> \n",
       "        <th id=\"T_98743df4_620f_11e9_ac33_5399f04dd5f1level0_row58\" class=\"row_heading level0 row58\" >58</th> \n",
       "        <td id=\"T_98743df4_620f_11e9_ac33_5399f04dd5f1row58_col0\" class=\"data row58 col0\" >ENDPAD</td> \n",
       "        <td id=\"T_98743df4_620f_11e9_ac33_5399f04dd5f1row58_col1\" class=\"data row58 col1\" >PAD</td> \n",
       "        <td id=\"T_98743df4_620f_11e9_ac33_5399f04dd5f1row58_col2\" class=\"data row58 col2\" >PAD</td> \n",
       "        <td id=\"T_98743df4_620f_11e9_ac33_5399f04dd5f1row58_col3\" class=\"data row58 col3\" >PAD</td> \n",
       "        <td id=\"T_98743df4_620f_11e9_ac33_5399f04dd5f1row58_col4\" class=\"data row58 col4\" >PAD</td> \n",
       "        <td id=\"T_98743df4_620f_11e9_ac33_5399f04dd5f1row58_col5\" class=\"data row58 col5\" >PAD</td> \n",
       "        <td id=\"T_98743df4_620f_11e9_ac33_5399f04dd5f1row58_col6\" class=\"data row58 col6\" >PAD</td> \n",
       "    </tr>    <tr> \n",
       "        <th id=\"T_98743df4_620f_11e9_ac33_5399f04dd5f1level0_row59\" class=\"row_heading level0 row59\" >59</th> \n",
       "        <td id=\"T_98743df4_620f_11e9_ac33_5399f04dd5f1row59_col0\" class=\"data row59 col0\" >ENDPAD</td> \n",
       "        <td id=\"T_98743df4_620f_11e9_ac33_5399f04dd5f1row59_col1\" class=\"data row59 col1\" >PAD</td> \n",
       "        <td id=\"T_98743df4_620f_11e9_ac33_5399f04dd5f1row59_col2\" class=\"data row59 col2\" >PAD</td> \n",
       "        <td id=\"T_98743df4_620f_11e9_ac33_5399f04dd5f1row59_col3\" class=\"data row59 col3\" >PAD</td> \n",
       "        <td id=\"T_98743df4_620f_11e9_ac33_5399f04dd5f1row59_col4\" class=\"data row59 col4\" >PAD</td> \n",
       "        <td id=\"T_98743df4_620f_11e9_ac33_5399f04dd5f1row59_col5\" class=\"data row59 col5\" >PAD</td> \n",
       "        <td id=\"T_98743df4_620f_11e9_ac33_5399f04dd5f1row59_col6\" class=\"data row59 col6\" >PAD</td> \n",
       "    </tr>    <tr> \n",
       "        <th id=\"T_98743df4_620f_11e9_ac33_5399f04dd5f1level0_row60\" class=\"row_heading level0 row60\" >60</th> \n",
       "        <td id=\"T_98743df4_620f_11e9_ac33_5399f04dd5f1row60_col0\" class=\"data row60 col0\" >ENDPAD</td> \n",
       "        <td id=\"T_98743df4_620f_11e9_ac33_5399f04dd5f1row60_col1\" class=\"data row60 col1\" >PAD</td> \n",
       "        <td id=\"T_98743df4_620f_11e9_ac33_5399f04dd5f1row60_col2\" class=\"data row60 col2\" >PAD</td> \n",
       "        <td id=\"T_98743df4_620f_11e9_ac33_5399f04dd5f1row60_col3\" class=\"data row60 col3\" >PAD</td> \n",
       "        <td id=\"T_98743df4_620f_11e9_ac33_5399f04dd5f1row60_col4\" class=\"data row60 col4\" >PAD</td> \n",
       "        <td id=\"T_98743df4_620f_11e9_ac33_5399f04dd5f1row60_col5\" class=\"data row60 col5\" >PAD</td> \n",
       "        <td id=\"T_98743df4_620f_11e9_ac33_5399f04dd5f1row60_col6\" class=\"data row60 col6\" >PAD</td> \n",
       "    </tr>    <tr> \n",
       "        <th id=\"T_98743df4_620f_11e9_ac33_5399f04dd5f1level0_row61\" class=\"row_heading level0 row61\" >61</th> \n",
       "        <td id=\"T_98743df4_620f_11e9_ac33_5399f04dd5f1row61_col0\" class=\"data row61 col0\" >ENDPAD</td> \n",
       "        <td id=\"T_98743df4_620f_11e9_ac33_5399f04dd5f1row61_col1\" class=\"data row61 col1\" >PAD</td> \n",
       "        <td id=\"T_98743df4_620f_11e9_ac33_5399f04dd5f1row61_col2\" class=\"data row61 col2\" >PAD</td> \n",
       "        <td id=\"T_98743df4_620f_11e9_ac33_5399f04dd5f1row61_col3\" class=\"data row61 col3\" >PAD</td> \n",
       "        <td id=\"T_98743df4_620f_11e9_ac33_5399f04dd5f1row61_col4\" class=\"data row61 col4\" >PAD</td> \n",
       "        <td id=\"T_98743df4_620f_11e9_ac33_5399f04dd5f1row61_col5\" class=\"data row61 col5\" >PAD</td> \n",
       "        <td id=\"T_98743df4_620f_11e9_ac33_5399f04dd5f1row61_col6\" class=\"data row61 col6\" >PAD</td> \n",
       "    </tr>    <tr> \n",
       "        <th id=\"T_98743df4_620f_11e9_ac33_5399f04dd5f1level0_row62\" class=\"row_heading level0 row62\" >62</th> \n",
       "        <td id=\"T_98743df4_620f_11e9_ac33_5399f04dd5f1row62_col0\" class=\"data row62 col0\" >ENDPAD</td> \n",
       "        <td id=\"T_98743df4_620f_11e9_ac33_5399f04dd5f1row62_col1\" class=\"data row62 col1\" >PAD</td> \n",
       "        <td id=\"T_98743df4_620f_11e9_ac33_5399f04dd5f1row62_col2\" class=\"data row62 col2\" >PAD</td> \n",
       "        <td id=\"T_98743df4_620f_11e9_ac33_5399f04dd5f1row62_col3\" class=\"data row62 col3\" >PAD</td> \n",
       "        <td id=\"T_98743df4_620f_11e9_ac33_5399f04dd5f1row62_col4\" class=\"data row62 col4\" >PAD</td> \n",
       "        <td id=\"T_98743df4_620f_11e9_ac33_5399f04dd5f1row62_col5\" class=\"data row62 col5\" >PAD</td> \n",
       "        <td id=\"T_98743df4_620f_11e9_ac33_5399f04dd5f1row62_col6\" class=\"data row62 col6\" >PAD</td> \n",
       "    </tr>    <tr> \n",
       "        <th id=\"T_98743df4_620f_11e9_ac33_5399f04dd5f1level0_row63\" class=\"row_heading level0 row63\" >63</th> \n",
       "        <td id=\"T_98743df4_620f_11e9_ac33_5399f04dd5f1row63_col0\" class=\"data row63 col0\" >ENDPAD</td> \n",
       "        <td id=\"T_98743df4_620f_11e9_ac33_5399f04dd5f1row63_col1\" class=\"data row63 col1\" >PAD</td> \n",
       "        <td id=\"T_98743df4_620f_11e9_ac33_5399f04dd5f1row63_col2\" class=\"data row63 col2\" >PAD</td> \n",
       "        <td id=\"T_98743df4_620f_11e9_ac33_5399f04dd5f1row63_col3\" class=\"data row63 col3\" >PAD</td> \n",
       "        <td id=\"T_98743df4_620f_11e9_ac33_5399f04dd5f1row63_col4\" class=\"data row63 col4\" >PAD</td> \n",
       "        <td id=\"T_98743df4_620f_11e9_ac33_5399f04dd5f1row63_col5\" class=\"data row63 col5\" >PAD</td> \n",
       "        <td id=\"T_98743df4_620f_11e9_ac33_5399f04dd5f1row63_col6\" class=\"data row63 col6\" >PAD</td> \n",
       "    </tr>    <tr> \n",
       "        <th id=\"T_98743df4_620f_11e9_ac33_5399f04dd5f1level0_row64\" class=\"row_heading level0 row64\" >64</th> \n",
       "        <td id=\"T_98743df4_620f_11e9_ac33_5399f04dd5f1row64_col0\" class=\"data row64 col0\" >ENDPAD</td> \n",
       "        <td id=\"T_98743df4_620f_11e9_ac33_5399f04dd5f1row64_col1\" class=\"data row64 col1\" >PAD</td> \n",
       "        <td id=\"T_98743df4_620f_11e9_ac33_5399f04dd5f1row64_col2\" class=\"data row64 col2\" >PAD</td> \n",
       "        <td id=\"T_98743df4_620f_11e9_ac33_5399f04dd5f1row64_col3\" class=\"data row64 col3\" >PAD</td> \n",
       "        <td id=\"T_98743df4_620f_11e9_ac33_5399f04dd5f1row64_col4\" class=\"data row64 col4\" >PAD</td> \n",
       "        <td id=\"T_98743df4_620f_11e9_ac33_5399f04dd5f1row64_col5\" class=\"data row64 col5\" >PAD</td> \n",
       "        <td id=\"T_98743df4_620f_11e9_ac33_5399f04dd5f1row64_col6\" class=\"data row64 col6\" >PAD</td> \n",
       "    </tr>    <tr> \n",
       "        <th id=\"T_98743df4_620f_11e9_ac33_5399f04dd5f1level0_row65\" class=\"row_heading level0 row65\" >65</th> \n",
       "        <td id=\"T_98743df4_620f_11e9_ac33_5399f04dd5f1row65_col0\" class=\"data row65 col0\" >ENDPAD</td> \n",
       "        <td id=\"T_98743df4_620f_11e9_ac33_5399f04dd5f1row65_col1\" class=\"data row65 col1\" >PAD</td> \n",
       "        <td id=\"T_98743df4_620f_11e9_ac33_5399f04dd5f1row65_col2\" class=\"data row65 col2\" >PAD</td> \n",
       "        <td id=\"T_98743df4_620f_11e9_ac33_5399f04dd5f1row65_col3\" class=\"data row65 col3\" >PAD</td> \n",
       "        <td id=\"T_98743df4_620f_11e9_ac33_5399f04dd5f1row65_col4\" class=\"data row65 col4\" >PAD</td> \n",
       "        <td id=\"T_98743df4_620f_11e9_ac33_5399f04dd5f1row65_col5\" class=\"data row65 col5\" >PAD</td> \n",
       "        <td id=\"T_98743df4_620f_11e9_ac33_5399f04dd5f1row65_col6\" class=\"data row65 col6\" >PAD</td> \n",
       "    </tr>    <tr> \n",
       "        <th id=\"T_98743df4_620f_11e9_ac33_5399f04dd5f1level0_row66\" class=\"row_heading level0 row66\" >66</th> \n",
       "        <td id=\"T_98743df4_620f_11e9_ac33_5399f04dd5f1row66_col0\" class=\"data row66 col0\" >ENDPAD</td> \n",
       "        <td id=\"T_98743df4_620f_11e9_ac33_5399f04dd5f1row66_col1\" class=\"data row66 col1\" >PAD</td> \n",
       "        <td id=\"T_98743df4_620f_11e9_ac33_5399f04dd5f1row66_col2\" class=\"data row66 col2\" >PAD</td> \n",
       "        <td id=\"T_98743df4_620f_11e9_ac33_5399f04dd5f1row66_col3\" class=\"data row66 col3\" >PAD</td> \n",
       "        <td id=\"T_98743df4_620f_11e9_ac33_5399f04dd5f1row66_col4\" class=\"data row66 col4\" >PAD</td> \n",
       "        <td id=\"T_98743df4_620f_11e9_ac33_5399f04dd5f1row66_col5\" class=\"data row66 col5\" >PAD</td> \n",
       "        <td id=\"T_98743df4_620f_11e9_ac33_5399f04dd5f1row66_col6\" class=\"data row66 col6\" >PAD</td> \n",
       "    </tr>    <tr> \n",
       "        <th id=\"T_98743df4_620f_11e9_ac33_5399f04dd5f1level0_row67\" class=\"row_heading level0 row67\" >67</th> \n",
       "        <td id=\"T_98743df4_620f_11e9_ac33_5399f04dd5f1row67_col0\" class=\"data row67 col0\" >ENDPAD</td> \n",
       "        <td id=\"T_98743df4_620f_11e9_ac33_5399f04dd5f1row67_col1\" class=\"data row67 col1\" >PAD</td> \n",
       "        <td id=\"T_98743df4_620f_11e9_ac33_5399f04dd5f1row67_col2\" class=\"data row67 col2\" >PAD</td> \n",
       "        <td id=\"T_98743df4_620f_11e9_ac33_5399f04dd5f1row67_col3\" class=\"data row67 col3\" >PAD</td> \n",
       "        <td id=\"T_98743df4_620f_11e9_ac33_5399f04dd5f1row67_col4\" class=\"data row67 col4\" >PAD</td> \n",
       "        <td id=\"T_98743df4_620f_11e9_ac33_5399f04dd5f1row67_col5\" class=\"data row67 col5\" >PAD</td> \n",
       "        <td id=\"T_98743df4_620f_11e9_ac33_5399f04dd5f1row67_col6\" class=\"data row67 col6\" >PAD</td> \n",
       "    </tr>    <tr> \n",
       "        <th id=\"T_98743df4_620f_11e9_ac33_5399f04dd5f1level0_row68\" class=\"row_heading level0 row68\" >68</th> \n",
       "        <td id=\"T_98743df4_620f_11e9_ac33_5399f04dd5f1row68_col0\" class=\"data row68 col0\" >ENDPAD</td> \n",
       "        <td id=\"T_98743df4_620f_11e9_ac33_5399f04dd5f1row68_col1\" class=\"data row68 col1\" >PAD</td> \n",
       "        <td id=\"T_98743df4_620f_11e9_ac33_5399f04dd5f1row68_col2\" class=\"data row68 col2\" >PAD</td> \n",
       "        <td id=\"T_98743df4_620f_11e9_ac33_5399f04dd5f1row68_col3\" class=\"data row68 col3\" >PAD</td> \n",
       "        <td id=\"T_98743df4_620f_11e9_ac33_5399f04dd5f1row68_col4\" class=\"data row68 col4\" >PAD</td> \n",
       "        <td id=\"T_98743df4_620f_11e9_ac33_5399f04dd5f1row68_col5\" class=\"data row68 col5\" >PAD</td> \n",
       "        <td id=\"T_98743df4_620f_11e9_ac33_5399f04dd5f1row68_col6\" class=\"data row68 col6\" >PAD</td> \n",
       "    </tr>    <tr> \n",
       "        <th id=\"T_98743df4_620f_11e9_ac33_5399f04dd5f1level0_row69\" class=\"row_heading level0 row69\" >69</th> \n",
       "        <td id=\"T_98743df4_620f_11e9_ac33_5399f04dd5f1row69_col0\" class=\"data row69 col0\" >ENDPAD</td> \n",
       "        <td id=\"T_98743df4_620f_11e9_ac33_5399f04dd5f1row69_col1\" class=\"data row69 col1\" >PAD</td> \n",
       "        <td id=\"T_98743df4_620f_11e9_ac33_5399f04dd5f1row69_col2\" class=\"data row69 col2\" >PAD</td> \n",
       "        <td id=\"T_98743df4_620f_11e9_ac33_5399f04dd5f1row69_col3\" class=\"data row69 col3\" >PAD</td> \n",
       "        <td id=\"T_98743df4_620f_11e9_ac33_5399f04dd5f1row69_col4\" class=\"data row69 col4\" >PAD</td> \n",
       "        <td id=\"T_98743df4_620f_11e9_ac33_5399f04dd5f1row69_col5\" class=\"data row69 col5\" >PAD</td> \n",
       "        <td id=\"T_98743df4_620f_11e9_ac33_5399f04dd5f1row69_col6\" class=\"data row69 col6\" >PAD</td> \n",
       "    </tr>    <tr> \n",
       "        <th id=\"T_98743df4_620f_11e9_ac33_5399f04dd5f1level0_row70\" class=\"row_heading level0 row70\" >70</th> \n",
       "        <td id=\"T_98743df4_620f_11e9_ac33_5399f04dd5f1row70_col0\" class=\"data row70 col0\" >ENDPAD</td> \n",
       "        <td id=\"T_98743df4_620f_11e9_ac33_5399f04dd5f1row70_col1\" class=\"data row70 col1\" >PAD</td> \n",
       "        <td id=\"T_98743df4_620f_11e9_ac33_5399f04dd5f1row70_col2\" class=\"data row70 col2\" >PAD</td> \n",
       "        <td id=\"T_98743df4_620f_11e9_ac33_5399f04dd5f1row70_col3\" class=\"data row70 col3\" >PAD</td> \n",
       "        <td id=\"T_98743df4_620f_11e9_ac33_5399f04dd5f1row70_col4\" class=\"data row70 col4\" >PAD</td> \n",
       "        <td id=\"T_98743df4_620f_11e9_ac33_5399f04dd5f1row70_col5\" class=\"data row70 col5\" >PAD</td> \n",
       "        <td id=\"T_98743df4_620f_11e9_ac33_5399f04dd5f1row70_col6\" class=\"data row70 col6\" >PAD</td> \n",
       "    </tr>    <tr> \n",
       "        <th id=\"T_98743df4_620f_11e9_ac33_5399f04dd5f1level0_row71\" class=\"row_heading level0 row71\" >71</th> \n",
       "        <td id=\"T_98743df4_620f_11e9_ac33_5399f04dd5f1row71_col0\" class=\"data row71 col0\" >ENDPAD</td> \n",
       "        <td id=\"T_98743df4_620f_11e9_ac33_5399f04dd5f1row71_col1\" class=\"data row71 col1\" >PAD</td> \n",
       "        <td id=\"T_98743df4_620f_11e9_ac33_5399f04dd5f1row71_col2\" class=\"data row71 col2\" >PAD</td> \n",
       "        <td id=\"T_98743df4_620f_11e9_ac33_5399f04dd5f1row71_col3\" class=\"data row71 col3\" >PAD</td> \n",
       "        <td id=\"T_98743df4_620f_11e9_ac33_5399f04dd5f1row71_col4\" class=\"data row71 col4\" >PAD</td> \n",
       "        <td id=\"T_98743df4_620f_11e9_ac33_5399f04dd5f1row71_col5\" class=\"data row71 col5\" >PAD</td> \n",
       "        <td id=\"T_98743df4_620f_11e9_ac33_5399f04dd5f1row71_col6\" class=\"data row71 col6\" >PAD</td> \n",
       "    </tr>    <tr> \n",
       "        <th id=\"T_98743df4_620f_11e9_ac33_5399f04dd5f1level0_row72\" class=\"row_heading level0 row72\" >72</th> \n",
       "        <td id=\"T_98743df4_620f_11e9_ac33_5399f04dd5f1row72_col0\" class=\"data row72 col0\" >ENDPAD</td> \n",
       "        <td id=\"T_98743df4_620f_11e9_ac33_5399f04dd5f1row72_col1\" class=\"data row72 col1\" >PAD</td> \n",
       "        <td id=\"T_98743df4_620f_11e9_ac33_5399f04dd5f1row72_col2\" class=\"data row72 col2\" >PAD</td> \n",
       "        <td id=\"T_98743df4_620f_11e9_ac33_5399f04dd5f1row72_col3\" class=\"data row72 col3\" >PAD</td> \n",
       "        <td id=\"T_98743df4_620f_11e9_ac33_5399f04dd5f1row72_col4\" class=\"data row72 col4\" >PAD</td> \n",
       "        <td id=\"T_98743df4_620f_11e9_ac33_5399f04dd5f1row72_col5\" class=\"data row72 col5\" >PAD</td> \n",
       "        <td id=\"T_98743df4_620f_11e9_ac33_5399f04dd5f1row72_col6\" class=\"data row72 col6\" >PAD</td> \n",
       "    </tr>    <tr> \n",
       "        <th id=\"T_98743df4_620f_11e9_ac33_5399f04dd5f1level0_row73\" class=\"row_heading level0 row73\" >73</th> \n",
       "        <td id=\"T_98743df4_620f_11e9_ac33_5399f04dd5f1row73_col0\" class=\"data row73 col0\" >ENDPAD</td> \n",
       "        <td id=\"T_98743df4_620f_11e9_ac33_5399f04dd5f1row73_col1\" class=\"data row73 col1\" >PAD</td> \n",
       "        <td id=\"T_98743df4_620f_11e9_ac33_5399f04dd5f1row73_col2\" class=\"data row73 col2\" >PAD</td> \n",
       "        <td id=\"T_98743df4_620f_11e9_ac33_5399f04dd5f1row73_col3\" class=\"data row73 col3\" >PAD</td> \n",
       "        <td id=\"T_98743df4_620f_11e9_ac33_5399f04dd5f1row73_col4\" class=\"data row73 col4\" >PAD</td> \n",
       "        <td id=\"T_98743df4_620f_11e9_ac33_5399f04dd5f1row73_col5\" class=\"data row73 col5\" >PAD</td> \n",
       "        <td id=\"T_98743df4_620f_11e9_ac33_5399f04dd5f1row73_col6\" class=\"data row73 col6\" >PAD</td> \n",
       "    </tr>    <tr> \n",
       "        <th id=\"T_98743df4_620f_11e9_ac33_5399f04dd5f1level0_row74\" class=\"row_heading level0 row74\" >74</th> \n",
       "        <td id=\"T_98743df4_620f_11e9_ac33_5399f04dd5f1row74_col0\" class=\"data row74 col0\" >ENDPAD</td> \n",
       "        <td id=\"T_98743df4_620f_11e9_ac33_5399f04dd5f1row74_col1\" class=\"data row74 col1\" >PAD</td> \n",
       "        <td id=\"T_98743df4_620f_11e9_ac33_5399f04dd5f1row74_col2\" class=\"data row74 col2\" >PAD</td> \n",
       "        <td id=\"T_98743df4_620f_11e9_ac33_5399f04dd5f1row74_col3\" class=\"data row74 col3\" >PAD</td> \n",
       "        <td id=\"T_98743df4_620f_11e9_ac33_5399f04dd5f1row74_col4\" class=\"data row74 col4\" >PAD</td> \n",
       "        <td id=\"T_98743df4_620f_11e9_ac33_5399f04dd5f1row74_col5\" class=\"data row74 col5\" >PAD</td> \n",
       "        <td id=\"T_98743df4_620f_11e9_ac33_5399f04dd5f1row74_col6\" class=\"data row74 col6\" >PAD</td> \n",
       "    </tr>    <tr> \n",
       "        <th id=\"T_98743df4_620f_11e9_ac33_5399f04dd5f1level0_row75\" class=\"row_heading level0 row75\" >75</th> \n",
       "        <td id=\"T_98743df4_620f_11e9_ac33_5399f04dd5f1row75_col0\" class=\"data row75 col0\" >ENDPAD</td> \n",
       "        <td id=\"T_98743df4_620f_11e9_ac33_5399f04dd5f1row75_col1\" class=\"data row75 col1\" >PAD</td> \n",
       "        <td id=\"T_98743df4_620f_11e9_ac33_5399f04dd5f1row75_col2\" class=\"data row75 col2\" >PAD</td> \n",
       "        <td id=\"T_98743df4_620f_11e9_ac33_5399f04dd5f1row75_col3\" class=\"data row75 col3\" >PAD</td> \n",
       "        <td id=\"T_98743df4_620f_11e9_ac33_5399f04dd5f1row75_col4\" class=\"data row75 col4\" >PAD</td> \n",
       "        <td id=\"T_98743df4_620f_11e9_ac33_5399f04dd5f1row75_col5\" class=\"data row75 col5\" >PAD</td> \n",
       "        <td id=\"T_98743df4_620f_11e9_ac33_5399f04dd5f1row75_col6\" class=\"data row75 col6\" >PAD</td> \n",
       "    </tr>    <tr> \n",
       "        <th id=\"T_98743df4_620f_11e9_ac33_5399f04dd5f1level0_row76\" class=\"row_heading level0 row76\" >76</th> \n",
       "        <td id=\"T_98743df4_620f_11e9_ac33_5399f04dd5f1row76_col0\" class=\"data row76 col0\" >ENDPAD</td> \n",
       "        <td id=\"T_98743df4_620f_11e9_ac33_5399f04dd5f1row76_col1\" class=\"data row76 col1\" >PAD</td> \n",
       "        <td id=\"T_98743df4_620f_11e9_ac33_5399f04dd5f1row76_col2\" class=\"data row76 col2\" >PAD</td> \n",
       "        <td id=\"T_98743df4_620f_11e9_ac33_5399f04dd5f1row76_col3\" class=\"data row76 col3\" >PAD</td> \n",
       "        <td id=\"T_98743df4_620f_11e9_ac33_5399f04dd5f1row76_col4\" class=\"data row76 col4\" >PAD</td> \n",
       "        <td id=\"T_98743df4_620f_11e9_ac33_5399f04dd5f1row76_col5\" class=\"data row76 col5\" >PAD</td> \n",
       "        <td id=\"T_98743df4_620f_11e9_ac33_5399f04dd5f1row76_col6\" class=\"data row76 col6\" >PAD</td> \n",
       "    </tr>    <tr> \n",
       "        <th id=\"T_98743df4_620f_11e9_ac33_5399f04dd5f1level0_row77\" class=\"row_heading level0 row77\" >77</th> \n",
       "        <td id=\"T_98743df4_620f_11e9_ac33_5399f04dd5f1row77_col0\" class=\"data row77 col0\" >ENDPAD</td> \n",
       "        <td id=\"T_98743df4_620f_11e9_ac33_5399f04dd5f1row77_col1\" class=\"data row77 col1\" >PAD</td> \n",
       "        <td id=\"T_98743df4_620f_11e9_ac33_5399f04dd5f1row77_col2\" class=\"data row77 col2\" >PAD</td> \n",
       "        <td id=\"T_98743df4_620f_11e9_ac33_5399f04dd5f1row77_col3\" class=\"data row77 col3\" >PAD</td> \n",
       "        <td id=\"T_98743df4_620f_11e9_ac33_5399f04dd5f1row77_col4\" class=\"data row77 col4\" >PAD</td> \n",
       "        <td id=\"T_98743df4_620f_11e9_ac33_5399f04dd5f1row77_col5\" class=\"data row77 col5\" >PAD</td> \n",
       "        <td id=\"T_98743df4_620f_11e9_ac33_5399f04dd5f1row77_col6\" class=\"data row77 col6\" >PAD</td> \n",
       "    </tr>    <tr> \n",
       "        <th id=\"T_98743df4_620f_11e9_ac33_5399f04dd5f1level0_row78\" class=\"row_heading level0 row78\" >78</th> \n",
       "        <td id=\"T_98743df4_620f_11e9_ac33_5399f04dd5f1row78_col0\" class=\"data row78 col0\" >ENDPAD</td> \n",
       "        <td id=\"T_98743df4_620f_11e9_ac33_5399f04dd5f1row78_col1\" class=\"data row78 col1\" >PAD</td> \n",
       "        <td id=\"T_98743df4_620f_11e9_ac33_5399f04dd5f1row78_col2\" class=\"data row78 col2\" >PAD</td> \n",
       "        <td id=\"T_98743df4_620f_11e9_ac33_5399f04dd5f1row78_col3\" class=\"data row78 col3\" >PAD</td> \n",
       "        <td id=\"T_98743df4_620f_11e9_ac33_5399f04dd5f1row78_col4\" class=\"data row78 col4\" >PAD</td> \n",
       "        <td id=\"T_98743df4_620f_11e9_ac33_5399f04dd5f1row78_col5\" class=\"data row78 col5\" >PAD</td> \n",
       "        <td id=\"T_98743df4_620f_11e9_ac33_5399f04dd5f1row78_col6\" class=\"data row78 col6\" >PAD</td> \n",
       "    </tr>    <tr> \n",
       "        <th id=\"T_98743df4_620f_11e9_ac33_5399f04dd5f1level0_row79\" class=\"row_heading level0 row79\" >79</th> \n",
       "        <td id=\"T_98743df4_620f_11e9_ac33_5399f04dd5f1row79_col0\" class=\"data row79 col0\" >ENDPAD</td> \n",
       "        <td id=\"T_98743df4_620f_11e9_ac33_5399f04dd5f1row79_col1\" class=\"data row79 col1\" >PAD</td> \n",
       "        <td id=\"T_98743df4_620f_11e9_ac33_5399f04dd5f1row79_col2\" class=\"data row79 col2\" >PAD</td> \n",
       "        <td id=\"T_98743df4_620f_11e9_ac33_5399f04dd5f1row79_col3\" class=\"data row79 col3\" >PAD</td> \n",
       "        <td id=\"T_98743df4_620f_11e9_ac33_5399f04dd5f1row79_col4\" class=\"data row79 col4\" >PAD</td> \n",
       "        <td id=\"T_98743df4_620f_11e9_ac33_5399f04dd5f1row79_col5\" class=\"data row79 col5\" >PAD</td> \n",
       "        <td id=\"T_98743df4_620f_11e9_ac33_5399f04dd5f1row79_col6\" class=\"data row79 col6\" >PAD</td> \n",
       "    </tr>    <tr> \n",
       "        <th id=\"T_98743df4_620f_11e9_ac33_5399f04dd5f1level0_row80\" class=\"row_heading level0 row80\" >80</th> \n",
       "        <td id=\"T_98743df4_620f_11e9_ac33_5399f04dd5f1row80_col0\" class=\"data row80 col0\" >ENDPAD</td> \n",
       "        <td id=\"T_98743df4_620f_11e9_ac33_5399f04dd5f1row80_col1\" class=\"data row80 col1\" >PAD</td> \n",
       "        <td id=\"T_98743df4_620f_11e9_ac33_5399f04dd5f1row80_col2\" class=\"data row80 col2\" >PAD</td> \n",
       "        <td id=\"T_98743df4_620f_11e9_ac33_5399f04dd5f1row80_col3\" class=\"data row80 col3\" >PAD</td> \n",
       "        <td id=\"T_98743df4_620f_11e9_ac33_5399f04dd5f1row80_col4\" class=\"data row80 col4\" >PAD</td> \n",
       "        <td id=\"T_98743df4_620f_11e9_ac33_5399f04dd5f1row80_col5\" class=\"data row80 col5\" >PAD</td> \n",
       "        <td id=\"T_98743df4_620f_11e9_ac33_5399f04dd5f1row80_col6\" class=\"data row80 col6\" >PAD</td> \n",
       "    </tr>    <tr> \n",
       "        <th id=\"T_98743df4_620f_11e9_ac33_5399f04dd5f1level0_row81\" class=\"row_heading level0 row81\" >81</th> \n",
       "        <td id=\"T_98743df4_620f_11e9_ac33_5399f04dd5f1row81_col0\" class=\"data row81 col0\" >ENDPAD</td> \n",
       "        <td id=\"T_98743df4_620f_11e9_ac33_5399f04dd5f1row81_col1\" class=\"data row81 col1\" >PAD</td> \n",
       "        <td id=\"T_98743df4_620f_11e9_ac33_5399f04dd5f1row81_col2\" class=\"data row81 col2\" >PAD</td> \n",
       "        <td id=\"T_98743df4_620f_11e9_ac33_5399f04dd5f1row81_col3\" class=\"data row81 col3\" >PAD</td> \n",
       "        <td id=\"T_98743df4_620f_11e9_ac33_5399f04dd5f1row81_col4\" class=\"data row81 col4\" >PAD</td> \n",
       "        <td id=\"T_98743df4_620f_11e9_ac33_5399f04dd5f1row81_col5\" class=\"data row81 col5\" >PAD</td> \n",
       "        <td id=\"T_98743df4_620f_11e9_ac33_5399f04dd5f1row81_col6\" class=\"data row81 col6\" >PAD</td> \n",
       "    </tr>    <tr> \n",
       "        <th id=\"T_98743df4_620f_11e9_ac33_5399f04dd5f1level0_row82\" class=\"row_heading level0 row82\" >82</th> \n",
       "        <td id=\"T_98743df4_620f_11e9_ac33_5399f04dd5f1row82_col0\" class=\"data row82 col0\" >ENDPAD</td> \n",
       "        <td id=\"T_98743df4_620f_11e9_ac33_5399f04dd5f1row82_col1\" class=\"data row82 col1\" >PAD</td> \n",
       "        <td id=\"T_98743df4_620f_11e9_ac33_5399f04dd5f1row82_col2\" class=\"data row82 col2\" >PAD</td> \n",
       "        <td id=\"T_98743df4_620f_11e9_ac33_5399f04dd5f1row82_col3\" class=\"data row82 col3\" >PAD</td> \n",
       "        <td id=\"T_98743df4_620f_11e9_ac33_5399f04dd5f1row82_col4\" class=\"data row82 col4\" >PAD</td> \n",
       "        <td id=\"T_98743df4_620f_11e9_ac33_5399f04dd5f1row82_col5\" class=\"data row82 col5\" >PAD</td> \n",
       "        <td id=\"T_98743df4_620f_11e9_ac33_5399f04dd5f1row82_col6\" class=\"data row82 col6\" >PAD</td> \n",
       "    </tr>    <tr> \n",
       "        <th id=\"T_98743df4_620f_11e9_ac33_5399f04dd5f1level0_row83\" class=\"row_heading level0 row83\" >83</th> \n",
       "        <td id=\"T_98743df4_620f_11e9_ac33_5399f04dd5f1row83_col0\" class=\"data row83 col0\" >ENDPAD</td> \n",
       "        <td id=\"T_98743df4_620f_11e9_ac33_5399f04dd5f1row83_col1\" class=\"data row83 col1\" >PAD</td> \n",
       "        <td id=\"T_98743df4_620f_11e9_ac33_5399f04dd5f1row83_col2\" class=\"data row83 col2\" >PAD</td> \n",
       "        <td id=\"T_98743df4_620f_11e9_ac33_5399f04dd5f1row83_col3\" class=\"data row83 col3\" >PAD</td> \n",
       "        <td id=\"T_98743df4_620f_11e9_ac33_5399f04dd5f1row83_col4\" class=\"data row83 col4\" >PAD</td> \n",
       "        <td id=\"T_98743df4_620f_11e9_ac33_5399f04dd5f1row83_col5\" class=\"data row83 col5\" >PAD</td> \n",
       "        <td id=\"T_98743df4_620f_11e9_ac33_5399f04dd5f1row83_col6\" class=\"data row83 col6\" >PAD</td> \n",
       "    </tr>    <tr> \n",
       "        <th id=\"T_98743df4_620f_11e9_ac33_5399f04dd5f1level0_row84\" class=\"row_heading level0 row84\" >84</th> \n",
       "        <td id=\"T_98743df4_620f_11e9_ac33_5399f04dd5f1row84_col0\" class=\"data row84 col0\" >ENDPAD</td> \n",
       "        <td id=\"T_98743df4_620f_11e9_ac33_5399f04dd5f1row84_col1\" class=\"data row84 col1\" >PAD</td> \n",
       "        <td id=\"T_98743df4_620f_11e9_ac33_5399f04dd5f1row84_col2\" class=\"data row84 col2\" >PAD</td> \n",
       "        <td id=\"T_98743df4_620f_11e9_ac33_5399f04dd5f1row84_col3\" class=\"data row84 col3\" >PAD</td> \n",
       "        <td id=\"T_98743df4_620f_11e9_ac33_5399f04dd5f1row84_col4\" class=\"data row84 col4\" >PAD</td> \n",
       "        <td id=\"T_98743df4_620f_11e9_ac33_5399f04dd5f1row84_col5\" class=\"data row84 col5\" >PAD</td> \n",
       "        <td id=\"T_98743df4_620f_11e9_ac33_5399f04dd5f1row84_col6\" class=\"data row84 col6\" >PAD</td> \n",
       "    </tr>    <tr> \n",
       "        <th id=\"T_98743df4_620f_11e9_ac33_5399f04dd5f1level0_row85\" class=\"row_heading level0 row85\" >85</th> \n",
       "        <td id=\"T_98743df4_620f_11e9_ac33_5399f04dd5f1row85_col0\" class=\"data row85 col0\" >ENDPAD</td> \n",
       "        <td id=\"T_98743df4_620f_11e9_ac33_5399f04dd5f1row85_col1\" class=\"data row85 col1\" >PAD</td> \n",
       "        <td id=\"T_98743df4_620f_11e9_ac33_5399f04dd5f1row85_col2\" class=\"data row85 col2\" >PAD</td> \n",
       "        <td id=\"T_98743df4_620f_11e9_ac33_5399f04dd5f1row85_col3\" class=\"data row85 col3\" >PAD</td> \n",
       "        <td id=\"T_98743df4_620f_11e9_ac33_5399f04dd5f1row85_col4\" class=\"data row85 col4\" >PAD</td> \n",
       "        <td id=\"T_98743df4_620f_11e9_ac33_5399f04dd5f1row85_col5\" class=\"data row85 col5\" >PAD</td> \n",
       "        <td id=\"T_98743df4_620f_11e9_ac33_5399f04dd5f1row85_col6\" class=\"data row85 col6\" >PAD</td> \n",
       "    </tr>    <tr> \n",
       "        <th id=\"T_98743df4_620f_11e9_ac33_5399f04dd5f1level0_row86\" class=\"row_heading level0 row86\" >86</th> \n",
       "        <td id=\"T_98743df4_620f_11e9_ac33_5399f04dd5f1row86_col0\" class=\"data row86 col0\" >ENDPAD</td> \n",
       "        <td id=\"T_98743df4_620f_11e9_ac33_5399f04dd5f1row86_col1\" class=\"data row86 col1\" >PAD</td> \n",
       "        <td id=\"T_98743df4_620f_11e9_ac33_5399f04dd5f1row86_col2\" class=\"data row86 col2\" >PAD</td> \n",
       "        <td id=\"T_98743df4_620f_11e9_ac33_5399f04dd5f1row86_col3\" class=\"data row86 col3\" >PAD</td> \n",
       "        <td id=\"T_98743df4_620f_11e9_ac33_5399f04dd5f1row86_col4\" class=\"data row86 col4\" >PAD</td> \n",
       "        <td id=\"T_98743df4_620f_11e9_ac33_5399f04dd5f1row86_col5\" class=\"data row86 col5\" >PAD</td> \n",
       "        <td id=\"T_98743df4_620f_11e9_ac33_5399f04dd5f1row86_col6\" class=\"data row86 col6\" >PAD</td> \n",
       "    </tr>    <tr> \n",
       "        <th id=\"T_98743df4_620f_11e9_ac33_5399f04dd5f1level0_row87\" class=\"row_heading level0 row87\" >87</th> \n",
       "        <td id=\"T_98743df4_620f_11e9_ac33_5399f04dd5f1row87_col0\" class=\"data row87 col0\" >ENDPAD</td> \n",
       "        <td id=\"T_98743df4_620f_11e9_ac33_5399f04dd5f1row87_col1\" class=\"data row87 col1\" >PAD</td> \n",
       "        <td id=\"T_98743df4_620f_11e9_ac33_5399f04dd5f1row87_col2\" class=\"data row87 col2\" >PAD</td> \n",
       "        <td id=\"T_98743df4_620f_11e9_ac33_5399f04dd5f1row87_col3\" class=\"data row87 col3\" >PAD</td> \n",
       "        <td id=\"T_98743df4_620f_11e9_ac33_5399f04dd5f1row87_col4\" class=\"data row87 col4\" >PAD</td> \n",
       "        <td id=\"T_98743df4_620f_11e9_ac33_5399f04dd5f1row87_col5\" class=\"data row87 col5\" >PAD</td> \n",
       "        <td id=\"T_98743df4_620f_11e9_ac33_5399f04dd5f1row87_col6\" class=\"data row87 col6\" >PAD</td> \n",
       "    </tr>    <tr> \n",
       "        <th id=\"T_98743df4_620f_11e9_ac33_5399f04dd5f1level0_row88\" class=\"row_heading level0 row88\" >88</th> \n",
       "        <td id=\"T_98743df4_620f_11e9_ac33_5399f04dd5f1row88_col0\" class=\"data row88 col0\" >ENDPAD</td> \n",
       "        <td id=\"T_98743df4_620f_11e9_ac33_5399f04dd5f1row88_col1\" class=\"data row88 col1\" >PAD</td> \n",
       "        <td id=\"T_98743df4_620f_11e9_ac33_5399f04dd5f1row88_col2\" class=\"data row88 col2\" >PAD</td> \n",
       "        <td id=\"T_98743df4_620f_11e9_ac33_5399f04dd5f1row88_col3\" class=\"data row88 col3\" >PAD</td> \n",
       "        <td id=\"T_98743df4_620f_11e9_ac33_5399f04dd5f1row88_col4\" class=\"data row88 col4\" >PAD</td> \n",
       "        <td id=\"T_98743df4_620f_11e9_ac33_5399f04dd5f1row88_col5\" class=\"data row88 col5\" >PAD</td> \n",
       "        <td id=\"T_98743df4_620f_11e9_ac33_5399f04dd5f1row88_col6\" class=\"data row88 col6\" >PAD</td> \n",
       "    </tr>    <tr> \n",
       "        <th id=\"T_98743df4_620f_11e9_ac33_5399f04dd5f1level0_row89\" class=\"row_heading level0 row89\" >89</th> \n",
       "        <td id=\"T_98743df4_620f_11e9_ac33_5399f04dd5f1row89_col0\" class=\"data row89 col0\" >ENDPAD</td> \n",
       "        <td id=\"T_98743df4_620f_11e9_ac33_5399f04dd5f1row89_col1\" class=\"data row89 col1\" >PAD</td> \n",
       "        <td id=\"T_98743df4_620f_11e9_ac33_5399f04dd5f1row89_col2\" class=\"data row89 col2\" >PAD</td> \n",
       "        <td id=\"T_98743df4_620f_11e9_ac33_5399f04dd5f1row89_col3\" class=\"data row89 col3\" >PAD</td> \n",
       "        <td id=\"T_98743df4_620f_11e9_ac33_5399f04dd5f1row89_col4\" class=\"data row89 col4\" >PAD</td> \n",
       "        <td id=\"T_98743df4_620f_11e9_ac33_5399f04dd5f1row89_col5\" class=\"data row89 col5\" >PAD</td> \n",
       "        <td id=\"T_98743df4_620f_11e9_ac33_5399f04dd5f1row89_col6\" class=\"data row89 col6\" >PAD</td> \n",
       "    </tr>    <tr> \n",
       "        <th id=\"T_98743df4_620f_11e9_ac33_5399f04dd5f1level0_row90\" class=\"row_heading level0 row90\" >90</th> \n",
       "        <td id=\"T_98743df4_620f_11e9_ac33_5399f04dd5f1row90_col0\" class=\"data row90 col0\" >ENDPAD</td> \n",
       "        <td id=\"T_98743df4_620f_11e9_ac33_5399f04dd5f1row90_col1\" class=\"data row90 col1\" >PAD</td> \n",
       "        <td id=\"T_98743df4_620f_11e9_ac33_5399f04dd5f1row90_col2\" class=\"data row90 col2\" >PAD</td> \n",
       "        <td id=\"T_98743df4_620f_11e9_ac33_5399f04dd5f1row90_col3\" class=\"data row90 col3\" >PAD</td> \n",
       "        <td id=\"T_98743df4_620f_11e9_ac33_5399f04dd5f1row90_col4\" class=\"data row90 col4\" >PAD</td> \n",
       "        <td id=\"T_98743df4_620f_11e9_ac33_5399f04dd5f1row90_col5\" class=\"data row90 col5\" >PAD</td> \n",
       "        <td id=\"T_98743df4_620f_11e9_ac33_5399f04dd5f1row90_col6\" class=\"data row90 col6\" >PAD</td> \n",
       "    </tr>    <tr> \n",
       "        <th id=\"T_98743df4_620f_11e9_ac33_5399f04dd5f1level0_row91\" class=\"row_heading level0 row91\" >91</th> \n",
       "        <td id=\"T_98743df4_620f_11e9_ac33_5399f04dd5f1row91_col0\" class=\"data row91 col0\" >ENDPAD</td> \n",
       "        <td id=\"T_98743df4_620f_11e9_ac33_5399f04dd5f1row91_col1\" class=\"data row91 col1\" >PAD</td> \n",
       "        <td id=\"T_98743df4_620f_11e9_ac33_5399f04dd5f1row91_col2\" class=\"data row91 col2\" >PAD</td> \n",
       "        <td id=\"T_98743df4_620f_11e9_ac33_5399f04dd5f1row91_col3\" class=\"data row91 col3\" >PAD</td> \n",
       "        <td id=\"T_98743df4_620f_11e9_ac33_5399f04dd5f1row91_col4\" class=\"data row91 col4\" >PAD</td> \n",
       "        <td id=\"T_98743df4_620f_11e9_ac33_5399f04dd5f1row91_col5\" class=\"data row91 col5\" >PAD</td> \n",
       "        <td id=\"T_98743df4_620f_11e9_ac33_5399f04dd5f1row91_col6\" class=\"data row91 col6\" >PAD</td> \n",
       "    </tr>    <tr> \n",
       "        <th id=\"T_98743df4_620f_11e9_ac33_5399f04dd5f1level0_row92\" class=\"row_heading level0 row92\" >92</th> \n",
       "        <td id=\"T_98743df4_620f_11e9_ac33_5399f04dd5f1row92_col0\" class=\"data row92 col0\" >ENDPAD</td> \n",
       "        <td id=\"T_98743df4_620f_11e9_ac33_5399f04dd5f1row92_col1\" class=\"data row92 col1\" >PAD</td> \n",
       "        <td id=\"T_98743df4_620f_11e9_ac33_5399f04dd5f1row92_col2\" class=\"data row92 col2\" >PAD</td> \n",
       "        <td id=\"T_98743df4_620f_11e9_ac33_5399f04dd5f1row92_col3\" class=\"data row92 col3\" >PAD</td> \n",
       "        <td id=\"T_98743df4_620f_11e9_ac33_5399f04dd5f1row92_col4\" class=\"data row92 col4\" >PAD</td> \n",
       "        <td id=\"T_98743df4_620f_11e9_ac33_5399f04dd5f1row92_col5\" class=\"data row92 col5\" >PAD</td> \n",
       "        <td id=\"T_98743df4_620f_11e9_ac33_5399f04dd5f1row92_col6\" class=\"data row92 col6\" >PAD</td> \n",
       "    </tr>    <tr> \n",
       "        <th id=\"T_98743df4_620f_11e9_ac33_5399f04dd5f1level0_row93\" class=\"row_heading level0 row93\" >93</th> \n",
       "        <td id=\"T_98743df4_620f_11e9_ac33_5399f04dd5f1row93_col0\" class=\"data row93 col0\" >ENDPAD</td> \n",
       "        <td id=\"T_98743df4_620f_11e9_ac33_5399f04dd5f1row93_col1\" class=\"data row93 col1\" >PAD</td> \n",
       "        <td id=\"T_98743df4_620f_11e9_ac33_5399f04dd5f1row93_col2\" class=\"data row93 col2\" >PAD</td> \n",
       "        <td id=\"T_98743df4_620f_11e9_ac33_5399f04dd5f1row93_col3\" class=\"data row93 col3\" >PAD</td> \n",
       "        <td id=\"T_98743df4_620f_11e9_ac33_5399f04dd5f1row93_col4\" class=\"data row93 col4\" >PAD</td> \n",
       "        <td id=\"T_98743df4_620f_11e9_ac33_5399f04dd5f1row93_col5\" class=\"data row93 col5\" >PAD</td> \n",
       "        <td id=\"T_98743df4_620f_11e9_ac33_5399f04dd5f1row93_col6\" class=\"data row93 col6\" >PAD</td> \n",
       "    </tr>    <tr> \n",
       "        <th id=\"T_98743df4_620f_11e9_ac33_5399f04dd5f1level0_row94\" class=\"row_heading level0 row94\" >94</th> \n",
       "        <td id=\"T_98743df4_620f_11e9_ac33_5399f04dd5f1row94_col0\" class=\"data row94 col0\" >ENDPAD</td> \n",
       "        <td id=\"T_98743df4_620f_11e9_ac33_5399f04dd5f1row94_col1\" class=\"data row94 col1\" >PAD</td> \n",
       "        <td id=\"T_98743df4_620f_11e9_ac33_5399f04dd5f1row94_col2\" class=\"data row94 col2\" >PAD</td> \n",
       "        <td id=\"T_98743df4_620f_11e9_ac33_5399f04dd5f1row94_col3\" class=\"data row94 col3\" >PAD</td> \n",
       "        <td id=\"T_98743df4_620f_11e9_ac33_5399f04dd5f1row94_col4\" class=\"data row94 col4\" >PAD</td> \n",
       "        <td id=\"T_98743df4_620f_11e9_ac33_5399f04dd5f1row94_col5\" class=\"data row94 col5\" >PAD</td> \n",
       "        <td id=\"T_98743df4_620f_11e9_ac33_5399f04dd5f1row94_col6\" class=\"data row94 col6\" >PAD</td> \n",
       "    </tr>    <tr> \n",
       "        <th id=\"T_98743df4_620f_11e9_ac33_5399f04dd5f1level0_row95\" class=\"row_heading level0 row95\" >95</th> \n",
       "        <td id=\"T_98743df4_620f_11e9_ac33_5399f04dd5f1row95_col0\" class=\"data row95 col0\" >ENDPAD</td> \n",
       "        <td id=\"T_98743df4_620f_11e9_ac33_5399f04dd5f1row95_col1\" class=\"data row95 col1\" >PAD</td> \n",
       "        <td id=\"T_98743df4_620f_11e9_ac33_5399f04dd5f1row95_col2\" class=\"data row95 col2\" >PAD</td> \n",
       "        <td id=\"T_98743df4_620f_11e9_ac33_5399f04dd5f1row95_col3\" class=\"data row95 col3\" >PAD</td> \n",
       "        <td id=\"T_98743df4_620f_11e9_ac33_5399f04dd5f1row95_col4\" class=\"data row95 col4\" >PAD</td> \n",
       "        <td id=\"T_98743df4_620f_11e9_ac33_5399f04dd5f1row95_col5\" class=\"data row95 col5\" >PAD</td> \n",
       "        <td id=\"T_98743df4_620f_11e9_ac33_5399f04dd5f1row95_col6\" class=\"data row95 col6\" >PAD</td> \n",
       "    </tr>    <tr> \n",
       "        <th id=\"T_98743df4_620f_11e9_ac33_5399f04dd5f1level0_row96\" class=\"row_heading level0 row96\" >96</th> \n",
       "        <td id=\"T_98743df4_620f_11e9_ac33_5399f04dd5f1row96_col0\" class=\"data row96 col0\" >ENDPAD</td> \n",
       "        <td id=\"T_98743df4_620f_11e9_ac33_5399f04dd5f1row96_col1\" class=\"data row96 col1\" >PAD</td> \n",
       "        <td id=\"T_98743df4_620f_11e9_ac33_5399f04dd5f1row96_col2\" class=\"data row96 col2\" >PAD</td> \n",
       "        <td id=\"T_98743df4_620f_11e9_ac33_5399f04dd5f1row96_col3\" class=\"data row96 col3\" >PAD</td> \n",
       "        <td id=\"T_98743df4_620f_11e9_ac33_5399f04dd5f1row96_col4\" class=\"data row96 col4\" >PAD</td> \n",
       "        <td id=\"T_98743df4_620f_11e9_ac33_5399f04dd5f1row96_col5\" class=\"data row96 col5\" >PAD</td> \n",
       "        <td id=\"T_98743df4_620f_11e9_ac33_5399f04dd5f1row96_col6\" class=\"data row96 col6\" >PAD</td> \n",
       "    </tr>    <tr> \n",
       "        <th id=\"T_98743df4_620f_11e9_ac33_5399f04dd5f1level0_row97\" class=\"row_heading level0 row97\" >97</th> \n",
       "        <td id=\"T_98743df4_620f_11e9_ac33_5399f04dd5f1row97_col0\" class=\"data row97 col0\" >ENDPAD</td> \n",
       "        <td id=\"T_98743df4_620f_11e9_ac33_5399f04dd5f1row97_col1\" class=\"data row97 col1\" >PAD</td> \n",
       "        <td id=\"T_98743df4_620f_11e9_ac33_5399f04dd5f1row97_col2\" class=\"data row97 col2\" >PAD</td> \n",
       "        <td id=\"T_98743df4_620f_11e9_ac33_5399f04dd5f1row97_col3\" class=\"data row97 col3\" >PAD</td> \n",
       "        <td id=\"T_98743df4_620f_11e9_ac33_5399f04dd5f1row97_col4\" class=\"data row97 col4\" >PAD</td> \n",
       "        <td id=\"T_98743df4_620f_11e9_ac33_5399f04dd5f1row97_col5\" class=\"data row97 col5\" >PAD</td> \n",
       "        <td id=\"T_98743df4_620f_11e9_ac33_5399f04dd5f1row97_col6\" class=\"data row97 col6\" >PAD</td> \n",
       "    </tr>    <tr> \n",
       "        <th id=\"T_98743df4_620f_11e9_ac33_5399f04dd5f1level0_row98\" class=\"row_heading level0 row98\" >98</th> \n",
       "        <td id=\"T_98743df4_620f_11e9_ac33_5399f04dd5f1row98_col0\" class=\"data row98 col0\" >ENDPAD</td> \n",
       "        <td id=\"T_98743df4_620f_11e9_ac33_5399f04dd5f1row98_col1\" class=\"data row98 col1\" >PAD</td> \n",
       "        <td id=\"T_98743df4_620f_11e9_ac33_5399f04dd5f1row98_col2\" class=\"data row98 col2\" >PAD</td> \n",
       "        <td id=\"T_98743df4_620f_11e9_ac33_5399f04dd5f1row98_col3\" class=\"data row98 col3\" >PAD</td> \n",
       "        <td id=\"T_98743df4_620f_11e9_ac33_5399f04dd5f1row98_col4\" class=\"data row98 col4\" >PAD</td> \n",
       "        <td id=\"T_98743df4_620f_11e9_ac33_5399f04dd5f1row98_col5\" class=\"data row98 col5\" >PAD</td> \n",
       "        <td id=\"T_98743df4_620f_11e9_ac33_5399f04dd5f1row98_col6\" class=\"data row98 col6\" >PAD</td> \n",
       "    </tr>    <tr> \n",
       "        <th id=\"T_98743df4_620f_11e9_ac33_5399f04dd5f1level0_row99\" class=\"row_heading level0 row99\" >99</th> \n",
       "        <td id=\"T_98743df4_620f_11e9_ac33_5399f04dd5f1row99_col0\" class=\"data row99 col0\" >ENDPAD</td> \n",
       "        <td id=\"T_98743df4_620f_11e9_ac33_5399f04dd5f1row99_col1\" class=\"data row99 col1\" >PAD</td> \n",
       "        <td id=\"T_98743df4_620f_11e9_ac33_5399f04dd5f1row99_col2\" class=\"data row99 col2\" >PAD</td> \n",
       "        <td id=\"T_98743df4_620f_11e9_ac33_5399f04dd5f1row99_col3\" class=\"data row99 col3\" >PAD</td> \n",
       "        <td id=\"T_98743df4_620f_11e9_ac33_5399f04dd5f1row99_col4\" class=\"data row99 col4\" >PAD</td> \n",
       "        <td id=\"T_98743df4_620f_11e9_ac33_5399f04dd5f1row99_col5\" class=\"data row99 col5\" >PAD</td> \n",
       "        <td id=\"T_98743df4_620f_11e9_ac33_5399f04dd5f1row99_col6\" class=\"data row99 col6\" >PAD</td> \n",
       "    </tr>    <tr> \n",
       "        <th id=\"T_98743df4_620f_11e9_ac33_5399f04dd5f1level0_row100\" class=\"row_heading level0 row100\" >100</th> \n",
       "        <td id=\"T_98743df4_620f_11e9_ac33_5399f04dd5f1row100_col0\" class=\"data row100 col0\" >ENDPAD</td> \n",
       "        <td id=\"T_98743df4_620f_11e9_ac33_5399f04dd5f1row100_col1\" class=\"data row100 col1\" >PAD</td> \n",
       "        <td id=\"T_98743df4_620f_11e9_ac33_5399f04dd5f1row100_col2\" class=\"data row100 col2\" >PAD</td> \n",
       "        <td id=\"T_98743df4_620f_11e9_ac33_5399f04dd5f1row100_col3\" class=\"data row100 col3\" >PAD</td> \n",
       "        <td id=\"T_98743df4_620f_11e9_ac33_5399f04dd5f1row100_col4\" class=\"data row100 col4\" >PAD</td> \n",
       "        <td id=\"T_98743df4_620f_11e9_ac33_5399f04dd5f1row100_col5\" class=\"data row100 col5\" >PAD</td> \n",
       "        <td id=\"T_98743df4_620f_11e9_ac33_5399f04dd5f1row100_col6\" class=\"data row100 col6\" >PAD</td> \n",
       "    </tr>    <tr> \n",
       "        <th id=\"T_98743df4_620f_11e9_ac33_5399f04dd5f1level0_row101\" class=\"row_heading level0 row101\" >101</th> \n",
       "        <td id=\"T_98743df4_620f_11e9_ac33_5399f04dd5f1row101_col0\" class=\"data row101 col0\" >ENDPAD</td> \n",
       "        <td id=\"T_98743df4_620f_11e9_ac33_5399f04dd5f1row101_col1\" class=\"data row101 col1\" >PAD</td> \n",
       "        <td id=\"T_98743df4_620f_11e9_ac33_5399f04dd5f1row101_col2\" class=\"data row101 col2\" >PAD</td> \n",
       "        <td id=\"T_98743df4_620f_11e9_ac33_5399f04dd5f1row101_col3\" class=\"data row101 col3\" >PAD</td> \n",
       "        <td id=\"T_98743df4_620f_11e9_ac33_5399f04dd5f1row101_col4\" class=\"data row101 col4\" >PAD</td> \n",
       "        <td id=\"T_98743df4_620f_11e9_ac33_5399f04dd5f1row101_col5\" class=\"data row101 col5\" >PAD</td> \n",
       "        <td id=\"T_98743df4_620f_11e9_ac33_5399f04dd5f1row101_col6\" class=\"data row101 col6\" >PAD</td> \n",
       "    </tr>    <tr> \n",
       "        <th id=\"T_98743df4_620f_11e9_ac33_5399f04dd5f1level0_row102\" class=\"row_heading level0 row102\" >102</th> \n",
       "        <td id=\"T_98743df4_620f_11e9_ac33_5399f04dd5f1row102_col0\" class=\"data row102 col0\" >ENDPAD</td> \n",
       "        <td id=\"T_98743df4_620f_11e9_ac33_5399f04dd5f1row102_col1\" class=\"data row102 col1\" >PAD</td> \n",
       "        <td id=\"T_98743df4_620f_11e9_ac33_5399f04dd5f1row102_col2\" class=\"data row102 col2\" >PAD</td> \n",
       "        <td id=\"T_98743df4_620f_11e9_ac33_5399f04dd5f1row102_col3\" class=\"data row102 col3\" >PAD</td> \n",
       "        <td id=\"T_98743df4_620f_11e9_ac33_5399f04dd5f1row102_col4\" class=\"data row102 col4\" >PAD</td> \n",
       "        <td id=\"T_98743df4_620f_11e9_ac33_5399f04dd5f1row102_col5\" class=\"data row102 col5\" >PAD</td> \n",
       "        <td id=\"T_98743df4_620f_11e9_ac33_5399f04dd5f1row102_col6\" class=\"data row102 col6\" >PAD</td> \n",
       "    </tr>    <tr> \n",
       "        <th id=\"T_98743df4_620f_11e9_ac33_5399f04dd5f1level0_row103\" class=\"row_heading level0 row103\" >103</th> \n",
       "        <td id=\"T_98743df4_620f_11e9_ac33_5399f04dd5f1row103_col0\" class=\"data row103 col0\" >ENDPAD</td> \n",
       "        <td id=\"T_98743df4_620f_11e9_ac33_5399f04dd5f1row103_col1\" class=\"data row103 col1\" >PAD</td> \n",
       "        <td id=\"T_98743df4_620f_11e9_ac33_5399f04dd5f1row103_col2\" class=\"data row103 col2\" >PAD</td> \n",
       "        <td id=\"T_98743df4_620f_11e9_ac33_5399f04dd5f1row103_col3\" class=\"data row103 col3\" >PAD</td> \n",
       "        <td id=\"T_98743df4_620f_11e9_ac33_5399f04dd5f1row103_col4\" class=\"data row103 col4\" >PAD</td> \n",
       "        <td id=\"T_98743df4_620f_11e9_ac33_5399f04dd5f1row103_col5\" class=\"data row103 col5\" >PAD</td> \n",
       "        <td id=\"T_98743df4_620f_11e9_ac33_5399f04dd5f1row103_col6\" class=\"data row103 col6\" >PAD</td> \n",
       "    </tr></tbody> \n",
       "</table> "
      ],
      "text/plain": [
       "<pandas.io.formats.style.Styler at 0x7f80d062c9e8>"
      ]
     },
     "execution_count": 55,
     "metadata": {},
     "output_type": "execute_result"
    }
   ],
   "source": [
    "# run this cell to show you result #\n",
    "predictions.style.apply(highlight_errors, axis=1)"
   ]
  },
  {
   "cell_type": "markdown",
   "metadata": {},
   "source": [
    "### Upsampling minority classes"
   ]
  },
  {
   "cell_type": "markdown",
   "metadata": {},
   "source": [
    "First we wanted to check for improvement by data balancing. \n",
    "We examined our dataset to see the number of occurences of each tag in our data. We observed that the tag indices \"0,1,4,8,9,11,12\" had less than 500 occurences in the dataset,\n",
    "which is very less compared to other tag instances. So we wanted to balance our dataset and then model again to see for any improvement.\n",
    "To do this, we identified sequence numbers or rows which have these tags. And added these entire sequences 5 times to our dataset for upsampling the minority classes.\n",
    "For instance, tag 12 had 51 occurences initially and after upsampling, we had 741 instances after upsampling. Here, we have increased our sample size, ensuring there are enough samples for each tag for training the model.\n",
    "<br>\n",
    "<br>\n",
    "With our new model, we had almost all tags with f1 score greater than .80 with our new upsampling the minority class.\n",
    "But we also noticed a very little overfitting in our loss to epoch plot. We reduced our layers on GRU and reduced the number of epochs and then ran our model again and checked our f1 score for prediction performance.\n",
    "<br>\n",
    "<br>\n",
    "We considered few other changes like changing the hyper parameters like optimizer and the epochs. \n",
    "<br>\n",
    "<br>\n",
    "We did not alter the Batch size, because our model works well with mini batch sizes. Key advantage of using minibatch as opposed to the full dataset goes back to the fundamental idea of stochastic gradient descent. In batch gradient descent, you compute the gradient over the entire dataset, averaging over potentially a vast amount of information, which take up a lot of memory. But the real handicap is the batch gradient trajectory that will land you in a bad spot (saddle point). We chose around batch size of 1000 "
   ]
  },
  {
   "cell_type": "code",
   "execution_count": 49,
   "metadata": {},
   "outputs": [
    {
     "data": {
      "text/plain": [
       "(47959, 104)"
      ]
     },
     "execution_count": 49,
     "metadata": {},
     "output_type": "execute_result"
    }
   ],
   "source": [
    "y_org.shape"
   ]
  },
  {
   "cell_type": "code",
   "execution_count": 31,
   "metadata": {},
   "outputs": [
    {
     "data": {
      "text/plain": [
       "(array([ 0,  1,  2,  3,  4,  5,  6,  7,  8,  9, 10, 11, 12, 13, 14, 15, 16,\n",
       "        17], dtype=int32),\n",
       " array([    402,     308,   37644,   15870,     201,   20143,   16990,\n",
       "          20333,     297,     253,    7414,     198,      51,   16784,\n",
       "          17251,    6528,  887908, 3939161]))"
      ]
     },
     "execution_count": 31,
     "metadata": {},
     "output_type": "execute_result"
    }
   ],
   "source": [
    "np.unique(y_org, return_counts=True)"
   ]
  },
  {
   "cell_type": "code",
   "execution_count": 32,
   "metadata": {},
   "outputs": [
    {
     "name": "stdout",
     "output_type": "stream",
     "text": [
      "(1710, 104) (1710, 104)\n"
     ]
    }
   ],
   "source": [
    "lst_tag=[1,4,8,9,11,12]\n",
    "\n",
    "idx=np.where(y_org==0)\n",
    "y_minor=y_org[idx[0],:]\n",
    "x_minor=X[idx[0],:]\n",
    "\n",
    "for i in lst_tag:\n",
    "    idx=np.where(y_org==i)\n",
    "    y_idx=y_org[idx[0],:]\n",
    "    y_minor = np.append(y_minor, y_idx, axis=0)\n",
    "    x_idx=X[idx[0],:]\n",
    "    x_minor = np.append(x_minor, x_idx, axis=0)\n",
    "\n",
    "print(y_minor.shape, x_minor.shape)    "
   ]
  },
  {
   "cell_type": "code",
   "execution_count": 33,
   "metadata": {},
   "outputs": [],
   "source": [
    "y_org2 = y_org.copy()\n",
    "X2 = X.copy()"
   ]
  },
  {
   "cell_type": "code",
   "execution_count": 34,
   "metadata": {},
   "outputs": [
    {
     "data": {
      "text/plain": [
       "((47959, 104), (47959, 104))"
      ]
     },
     "execution_count": 34,
     "metadata": {},
     "output_type": "execute_result"
    }
   ],
   "source": [
    "y_org2.shape, X2.shape"
   ]
  },
  {
   "cell_type": "code",
   "execution_count": 35,
   "metadata": {},
   "outputs": [],
   "source": [
    "for i in range(5):\n",
    "    y_org2=np.append(y_org2, y_minor, axis=0)\n",
    "    X2=np.append(X2, x_minor, axis=0)"
   ]
  },
  {
   "cell_type": "code",
   "execution_count": 36,
   "metadata": {},
   "outputs": [
    {
     "data": {
      "text/plain": [
       "((56509, 104), (56509, 104))"
      ]
     },
     "execution_count": 36,
     "metadata": {},
     "output_type": "execute_result"
    }
   ],
   "source": [
    "y_org2.shape, X2.shape"
   ]
  },
  {
   "cell_type": "code",
   "execution_count": 37,
   "metadata": {},
   "outputs": [],
   "source": [
    "X_tr_bal, X_te_bal, y_tr_bal, y_te_bal = train_test_split(X2, y_org2, test_size=0.1)"
   ]
  },
  {
   "cell_type": "code",
   "execution_count": 38,
   "metadata": {},
   "outputs": [],
   "source": [
    "y_te_bal_cat = to_categorical(y_te_bal)\n",
    "y_tr_bal_cat = to_categorical(y_tr_bal)"
   ]
  },
  {
   "cell_type": "code",
   "execution_count": 39,
   "metadata": {},
   "outputs": [
    {
     "data": {
      "text/plain": [
       "(array([ 0,  1,  2,  3,  4,  5,  6,  7,  8,  9, 10, 11, 12, 13, 14, 15, 16,\n",
       "        17], dtype=int32),\n",
       " array([   4889,    3364,   39242,   17612,    1613,   21369,   18580,\n",
       "          22172,    5371,    3912,    7936,    1338,     667,   17480,\n",
       "          18533,    7621,  949461, 4148072]))"
      ]
     },
     "execution_count": 39,
     "metadata": {},
     "output_type": "execute_result"
    }
   ],
   "source": [
    "np.unique(y_tr_bal, return_counts=True)"
   ]
  },
  {
   "cell_type": "code",
   "execution_count": 40,
   "metadata": {},
   "outputs": [
    {
     "data": {
      "text/plain": [
       "(array([ 0,  1,  2,  3,  4,  5,  6,  7,  8,  9, 10, 11, 12, 13, 14, 15, 16,\n",
       "        17], dtype=int32),\n",
       " array([   558,    324,   4317,   1933,    173,   2394,   2040,   2501,\n",
       "           596,    376,    873,    125,     74,   1919,   2028,    842,\n",
       "        105482, 461149]))"
      ]
     },
     "execution_count": 40,
     "metadata": {},
     "output_type": "execute_result"
    }
   ],
   "source": [
    "np.unique(y_te_bal, return_counts=True)"
   ]
  },
  {
   "cell_type": "code",
   "execution_count": 162,
   "metadata": {},
   "outputs": [],
   "source": [
    "##############################\n",
    "# Using upsampling on the code where we have less than 500 samples for any given tag\n",
    "# We get below f1 score for 10 epochs before and after upsampling\n",
    "#BEFORE: [0.09, 0.33, 0.85, 0.95, 0.48, 0.67, 0.82, 0.86, 0.09, 0.10, 0.79, 0.75, 0.40, 0.76, 0.86, 0.73, 0.99, 1.0]\n",
    "#AFTER: [0.96, 0.96, 0.86, 0.94, 0.94, 0.7, 0.83, 0.89, 0.99, 0.98, 0.8, 0.93, 0.96, 0.79, 0.87, 0.8, 0.99, 1.0] \n",
    "##############################\n",
    "\n",
    "# use clear_session to start a new model #\n",
    "backend.clear_session()\n",
    "\n",
    "model_gru_improved = Sequential()\n",
    "model_gru_improved.add(Embedding(input_dim=n_words, output_dim=dim_embed, input_length=max_len))\n",
    "model_gru_improved.add(Dropout(drop_rate))\n",
    "model_gru_improved.add(GRU(100, return_sequences=True))\n",
    "model_gru_improved.add(TimeDistributed(Dense(n_tags, activation='softmax')))\n",
    "model_gru_improved.compile(optimizer=optimizer, loss=loss, metrics=metrics)"
   ]
  },
  {
   "cell_type": "code",
   "execution_count": 168,
   "metadata": {
    "scrolled": true
   },
   "outputs": [
    {
     "name": "stdout",
     "output_type": "stream",
     "text": [
      "Train on 45772 samples, validate on 5086 samples\n",
      "Epoch 1/10\n",
      "45772/45772 [==============================] - 334s 7ms/step - loss: 0.0311 - acc: 0.9908 - val_loss: 0.0292 - val_acc: 0.9912\n",
      "Epoch 2/10\n",
      "45772/45772 [==============================] - 334s 7ms/step - loss: 0.0260 - acc: 0.9922 - val_loss: 0.0265 - val_acc: 0.9920\n",
      "Epoch 3/10\n",
      "45772/45772 [==============================] - 334s 7ms/step - loss: 0.0234 - acc: 0.9930 - val_loss: 0.0252 - val_acc: 0.9923\n",
      "Epoch 4/10\n",
      "45772/45772 [==============================] - 334s 7ms/step - loss: 0.0217 - acc: 0.9935 - val_loss: 0.0244 - val_acc: 0.9925\n",
      "Epoch 5/10\n",
      "45772/45772 [==============================] - 334s 7ms/step - loss: 0.0204 - acc: 0.9938 - val_loss: 0.0239 - val_acc: 0.9928\n",
      "Epoch 6/10\n",
      "45772/45772 [==============================] - 334s 7ms/step - loss: 0.0193 - acc: 0.9942 - val_loss: 0.0236 - val_acc: 0.9927\n",
      "Epoch 7/10\n",
      "45772/45772 [==============================] - 334s 7ms/step - loss: 0.0183 - acc: 0.9944 - val_loss: 0.0231 - val_acc: 0.9928\n",
      "Epoch 8/10\n",
      "45772/45772 [==============================] - 334s 7ms/step - loss: 0.0175 - acc: 0.9946 - val_loss: 0.0227 - val_acc: 0.9931\n",
      "Epoch 9/10\n",
      "45772/45772 [==============================] - 334s 7ms/step - loss: 0.0169 - acc: 0.9949 - val_loss: 0.0230 - val_acc: 0.9931\n",
      "Epoch 10/10\n",
      "45772/45772 [==============================] - 334s 7ms/step - loss: 0.0163 - acc: 0.9950 - val_loss: 0.0231 - val_acc: 0.9931\n",
      "CPU times: user 2h 17min 52s, sys: 13min 12s, total: 2h 31min 4s\n",
      "Wall time: 55min 40s\n"
     ]
    }
   ],
   "source": [
    "%%time\n",
    "# Train model\n",
    "history_gru_improved = model_gru_improved.fit(X_tr_bal, y_tr_bal_cat, batch_size=batch_size, epochs=epochs, verbose=verbose,\n",
    "                                             validation_split=validation_split)"
   ]
  },
  {
   "cell_type": "code",
   "execution_count": 169,
   "metadata": {},
   "outputs": [
    {
     "name": "stdout",
     "output_type": "stream",
     "text": [
      "5651/5651 [==============================] - 11s 2ms/step\n",
      "Accuracy: 99.30%\n",
      "_________________________________________________________________\n",
      "Layer (type)                 Output Shape              Param #   \n",
      "=================================================================\n",
      "embedding_1 (Embedding)      (None, 104, 50)           1758950   \n",
      "_________________________________________________________________\n",
      "dropout_1 (Dropout)          (None, 104, 50)           0         \n",
      "_________________________________________________________________\n",
      "gru_1 (GRU)                  (None, 104, 100)          45300     \n",
      "_________________________________________________________________\n",
      "time_distributed_1 (TimeDist (None, 104, 18)           1818      \n",
      "=================================================================\n",
      "Total params: 1,806,068\n",
      "Trainable params: 1,806,068\n",
      "Non-trainable params: 0\n",
      "_________________________________________________________________\n",
      "None\n",
      "Saved model to disk\n"
     ]
    }
   ],
   "source": [
    "# Final evaluation of the model\n",
    "scores = model_gru_improved.evaluate(X_te_bal, y_te_bal_cat)\n",
    "print(\"Accuracy: %.2f%%\" % (scores[1]*100))\n",
    "print(model_gru_improved.summary())\n",
    "\n",
    "# save your model and load your model#\n",
    "store_keras_model(model_gru_improved, 'model_GRU_Improved')\n",
    "GRU_improved=load_keras_model('model_GRU_Improved')"
   ]
  },
  {
   "cell_type": "code",
   "execution_count": 170,
   "metadata": {},
   "outputs": [
    {
     "name": "stdout",
     "output_type": "stream",
     "text": [
      "[0.96, 0.96, 0.86, 0.94, 0.94, 0.7, 0.83, 0.89, 0.99, 0.98, 0.8, 0.93, 0.96, 0.79, 0.87, 0.8, 0.99, 1.0]\n"
     ]
    }
   ],
   "source": [
    "# predict on X for model Bidirectional GRU\n",
    "y_pred = to_categorical(GRU_improved.predict_classes(X_te_bal)).reshape(-1,18)\n",
    "y_test = y_te_bal_cat.reshape(-1,18)\n",
    "# compute f1 score for  GRU model\n",
    "f1_lst = f1_score(y_test, y_pred, average=None)\n",
    "f1_lst = [np.round(elem,2) for elem in f1_lst]\n",
    "print(f1_lst)"
   ]
  },
  {
   "cell_type": "code",
   "execution_count": 171,
   "metadata": {},
   "outputs": [
    {
     "data": {
      "image/png": "[encoded data removed]",
      "text/plain": [
       "<Figure size 432x288 with 1 Axes>"
      ]
     },
     "metadata": {},
     "output_type": "display_data"
    }
   ],
   "source": [
    "# run this cell to show your results #\n",
    "plot_training_history(history_gru_improved)"
   ]
  },
  {
   "cell_type": "markdown",
   "metadata": {},
   "source": [
    "*Trial 2 - after we saw overfitting, reducing layers and epochs*"
   ]
  },
  {
   "cell_type": "code",
   "execution_count": 41,
   "metadata": {},
   "outputs": [
    {
     "name": "stdout",
     "output_type": "stream",
     "text": [
      "CPU times: user 676 ms, sys: 12 ms, total: 688 ms\n",
      "Wall time: 489 ms\n"
     ]
    }
   ],
   "source": [
    "%%time\n",
    "# use clear_session to start a new model #\n",
    "backend.clear_session()\n",
    "\n",
    "model_gru_improved = Sequential()\n",
    "model_gru_improved.add(Embedding(input_dim=n_words, output_dim=dim_embed, input_length=max_len))\n",
    "model_gru_improved.add(Dropout(drop_rate))\n",
    "model_gru_improved.add(GRU(70, return_sequences=True))  # reduced n_units from 100 to 70\n",
    "model_gru_improved.add(TimeDistributed(Dense(n_tags, activation='softmax')))\n",
    "model_gru_improved.compile(optimizer=optimizer, loss=loss, metrics=metrics)"
   ]
  },
  {
   "cell_type": "code",
   "execution_count": 56,
   "metadata": {},
   "outputs": [
    {
     "name": "stdout",
     "output_type": "stream",
     "text": [
      "_________________________________________________________________\n",
      "Layer (type)                 Output Shape              Param #   \n",
      "=================================================================\n",
      "embedding_1 (Embedding)      (None, 104, 50)           1758950   \n",
      "_________________________________________________________________\n",
      "dropout_1 (Dropout)          (None, 104, 50)           0         \n",
      "_________________________________________________________________\n",
      "gru_1 (GRU)                  (None, 104, 70)           25410     \n",
      "_________________________________________________________________\n",
      "time_distributed_1 (TimeDist (None, 104, 18)           1278      \n",
      "=================================================================\n",
      "Total params: 1,785,638\n",
      "Trainable params: 1,785,638\n",
      "Non-trainable params: 0\n",
      "_________________________________________________________________\n",
      "None\n"
     ]
    }
   ],
   "source": [
    "print(model_gru_improved.summary())"
   ]
  },
  {
   "cell_type": "code",
   "execution_count": 42,
   "metadata": {},
   "outputs": [
    {
     "name": "stdout",
     "output_type": "stream",
     "text": [
      "Train on 45772 samples, validate on 5086 samples\n",
      "Epoch 1/5\n",
      "45772/45772 [==============================] - 203s 4ms/step - loss: 0.1029 - acc: 0.9749 - val_loss: 0.0387 - val_acc: 0.9889\n",
      "Epoch 2/5\n",
      "45772/45772 [==============================] - 202s 4ms/step - loss: 0.0321 - acc: 0.9906 - val_loss: 0.0306 - val_acc: 0.9908\n",
      "Epoch 3/5\n",
      "45772/45772 [==============================] - 202s 4ms/step - loss: 0.0268 - acc: 0.9920 - val_loss: 0.0279 - val_acc: 0.9915\n",
      "Epoch 4/5\n",
      "45772/45772 [==============================] - 202s 4ms/step - loss: 0.0242 - acc: 0.9927 - val_loss: 0.0266 - val_acc: 0.9919\n",
      "Epoch 5/5\n",
      "45772/45772 [==============================] - 202s 4ms/step - loss: 0.0225 - acc: 0.9932 - val_loss: 0.0260 - val_acc: 0.9921\n",
      "CPU times: user 30min 37s, sys: 2min 17s, total: 32min 54s\n",
      "Wall time: 16min 52s\n"
     ]
    }
   ],
   "source": [
    "%%time\n",
    "# reducing epochs to 5\n",
    "# Train model\n",
    "history_gru_improved1 = model_gru_improved.fit(X_tr_bal, y_tr_bal_cat, batch_size=batch_size, epochs=5, verbose=verbose,\n",
    "                                             validation_split=validation_split)"
   ]
  },
  {
   "cell_type": "code",
   "execution_count": 43,
   "metadata": {},
   "outputs": [
    {
     "name": "stdout",
     "output_type": "stream",
     "text": [
      "5651/5651 [==============================] - 11s 2ms/step\n",
      "Accuracy: 99.25%\n"
     ]
    }
   ],
   "source": [
    "# Final evaluation of the model\n",
    "scores = model_gru_improved.evaluate(X_te_bal, y_te_bal_cat)\n",
    "print(\"Accuracy: %.2f%%\" % (scores[1]*100))"
   ]
  },
  {
   "cell_type": "code",
   "execution_count": 44,
   "metadata": {},
   "outputs": [
    {
     "data": {
      "image/png": "[encoded data removed]",
      "text/plain": [
       "<Figure size 432x288 with 1 Axes>"
      ]
     },
     "metadata": {
      "needs_background": "light"
     },
     "output_type": "display_data"
    }
   ],
   "source": [
    "# run this cell to show your results #\n",
    "plot_training_history(history_gru_improved1)"
   ]
  },
  {
   "cell_type": "code",
   "execution_count": 45,
   "metadata": {},
   "outputs": [
    {
     "name": "stdout",
     "output_type": "stream",
     "text": [
      "Saved model to disk\n",
      "[0.93, 0.91, 0.85, 0.93, 0.84, 0.68, 0.86, 0.87, 0.96, 0.95, 0.79, 0.84, 0.88, 0.78, 0.88, 0.79, 0.99, 1.0]\n"
     ]
    }
   ],
   "source": [
    "# save your model and load your model#\n",
    "store_keras_model(model_gru_improved, 'model_GRU_Improved')\n",
    "GRU_improved1=load_keras_model('model_GRU_Improved')\n",
    "\n",
    "# predict on X for model Bidirectional GRU\n",
    "y_pred = to_categorical(GRU_improved1.predict_classes(X_te_bal)).reshape(-1,18)\n",
    "y_test = y_te_bal_cat.reshape(-1,18)\n",
    "# compute f1 score for  GRU model\n",
    "f1_lst = f1_score(y_test, y_pred, average=None)\n",
    "f1_lst = [np.round(elem,2) for elem in f1_lst]\n",
    "print(f1_lst)"
   ]
  },
  {
   "cell_type": "markdown",
   "metadata": {},
   "source": [
    "Comparison of f1 scores for various tags on GRU model. \"INITIAL\" represents our model with initial given hyperparameters.\n",
    "\"FIRST TRY\" represents our model where we upsampled minority class our data and trained the model with given hyperparameters.\n",
    "\"SECOND TRY\" represents our model where we changed hyperparameters like epochs, and changed structure of NN by reducing n_units in our GRU model and thus reduced overfitting. We have maintained our undersampling of minority class.\n",
    "\n",
    "#INITIAL: [0.09, 0.33, 0.85, 0.95, 0.48, 0.67, 0.82, 0.86, 0.09, 0.10, 0.79, 0.75, 0.40, 0.76, 0.86, 0.73, 0.99, 1.0]\n",
    "#FIRST TRY: [0.96, 0.96, 0.86, 0.94, 0.94, 0.7, 0.83, 0.89, 0.99, 0.98, 0.8, 0.93, 0.96, 0.79, 0.87, 0.8, 0.99, 1.0] \n",
    "#SECOND TRY:[0.93, 0.91, 0.85, 0.93, 0.84, 0.68, 0.86, 0.87, 0.96, 0.95, 0.79, 0.84, 0.88, 0.78, 0.88, 0.79, 0.99, 1.0]\n",
    "\n",
    "We conclude with increased performance prediction using GRU model as our best model."
   ]
  },
  {
   "cell_type": "code",
   "execution_count": null,
   "metadata": {},
   "outputs": [],
   "source": []
  }
 ],
 "metadata": {
  "kernelspec": {
   "display_name": "Python 3",
   "language": "python",
   "name": "python3"
  },
  "language_info": {
   "codemirror_mode": {
    "name": "ipython",
    "version": 3
   },
   "file_extension": ".py",
   "mimetype": "text/x-python",
   "name": "python",
   "nbconvert_exporter": "python",
   "pygments_lexer": "ipython3",
   "version": "3.6.8"
  }
 },
 "nbformat": 4,
 "nbformat_minor": 2
}
